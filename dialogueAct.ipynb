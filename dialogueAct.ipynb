{
 "cells": [
  {
   "cell_type": "code",
   "execution_count": 4,
   "id": "f65ed97c",
   "metadata": {
    "execution": {
     "iopub.execute_input": "2024-12-31T03:01:17.624187Z",
     "iopub.status.busy": "2024-12-31T03:01:17.623893Z",
     "iopub.status.idle": "2024-12-31T03:01:17.628494Z",
     "shell.execute_reply": "2024-12-31T03:01:17.627833Z",
     "shell.execute_reply.started": "2024-12-31T03:01:17.624160Z"
    },
    "papermill": {
     "duration": 0.015802,
     "end_time": "2024-12-25T19:30:50.447709",
     "exception": false,
     "start_time": "2024-12-25T19:30:50.431907",
     "status": "completed"
    },
    "tags": [],
    "trusted": true
   },
   "outputs": [],
   "source": [
    "import numpy as np\n",
    "import argparse\n",
    "from shutil import copyfile\n",
    "from create_data import createData\n",
    "from create_data import divideData"
   ]
  },
  {
   "cell_type": "code",
   "execution_count": 5,
   "id": "1c689966",
   "metadata": {
    "execution": {
     "iopub.execute_input": "2024-12-31T03:01:27.571946Z",
     "iopub.status.busy": "2024-12-31T03:01:27.571664Z",
     "iopub.status.idle": "2024-12-31T03:02:14.945370Z",
     "shell.execute_reply": "2024-12-31T03:02:14.944395Z",
     "shell.execute_reply.started": "2024-12-31T03:01:27.571925Z"
    },
    "papermill": {
     "duration": 46.102327,
     "end_time": "2024-12-25T19:31:36.626925",
     "exception": false,
     "start_time": "2024-12-25T19:30:50.524598",
     "status": "completed"
    },
    "tags": [],
    "trusted": true
   },
   "outputs": [
    {
     "name": "stdout",
     "output_type": "stream",
     "text": [
      "Create WOZ-like dialogues. Get yourself a coffee, this might take a while.\n",
      "Downloading and unzipping the MultiWOZ 2.4 dataset\n",
      "Divide dialogues...\n",
      "# of dialogues: Train 8420, Val 1000, Test 999\n"
     ]
    }
   ],
   "source": [
    "print('Create WOZ-like dialogues. Get yourself a coffee, this might take a while.')\n",
    "args = argparse.Namespace(\n",
    "    main_dir=\"/kaggle/input/multiwoz2-4\",\n",
    "    mwz_ver=\"2.4\",\n",
    "    target_path=\"/kaggle/working/\"\n",
    ")\n",
    "\n",
    "delex_data = createData(args)\n",
    "print('Divide dialogues...')\n",
    "divideData(delex_data,args)"
   ]
  },
  {
   "cell_type": "code",
   "execution_count": 4,
   "id": "3a2fe596",
   "metadata": {
    "execution": {
     "iopub.execute_input": "2024-12-31T03:02:14.947021Z",
     "iopub.status.busy": "2024-12-31T03:02:14.946667Z",
     "iopub.status.idle": "2024-12-31T03:02:14.952839Z",
     "shell.execute_reply": "2024-12-31T03:02:14.952184Z",
     "shell.execute_reply.started": "2024-12-31T03:02:14.946989Z"
    },
    "papermill": {
     "duration": 0.014919,
     "end_time": "2024-12-25T19:31:36.650522",
     "exception": false,
     "start_time": "2024-12-25T19:31:36.635603",
     "status": "completed"
    },
    "tags": [],
    "trusted": true
   },
   "outputs": [],
   "source": [
    "import json\n",
    "\n",
    "def load_json(file_path):\n",
    "    with open(file_path, 'r', encoding='utf-8') as f:\n",
    "        return json.load(f)\n",
    "\n",
    "def save_json(data, file_path):\n",
    "    with open(file_path, 'w', encoding='utf-8') as f:\n",
    "        json.dump(data, f, indent=4, ensure_ascii=False)\n",
    "\n",
    "def add_dialogue_acts(dialogue_acts, data_files):\n",
    "    for file_path in data_files:\n",
    "        data = load_json(file_path)\n",
    "        \n",
    "        for dialogue in data:\n",
    "            dialogue_idx = dialogue['dialogue_idx'].replace('.json', '')\n",
    "\n",
    "            if dialogue_idx in dialogue_acts:\n",
    "                acts = dialogue_acts[dialogue_idx]\n",
    "\n",
    "                for turn in dialogue['dialogue']:\n",
    "                    turn_idx = str(turn['turn_idx'])\n",
    "                    if turn_idx in acts:\n",
    "                        turn['dialogue_act'] = acts[turn_idx]\n",
    "\n",
    "        save_json(data, file_path)\n",
    "\n"
   ]
  },
  {
   "cell_type": "code",
   "execution_count": 5,
   "id": "8b919af0",
   "metadata": {
    "execution": {
     "iopub.execute_input": "2024-12-31T03:02:14.954381Z",
     "iopub.status.busy": "2024-12-31T03:02:14.954189Z",
     "iopub.status.idle": "2024-12-31T03:02:26.427722Z",
     "shell.execute_reply": "2024-12-31T03:02:26.426850Z",
     "shell.execute_reply.started": "2024-12-31T03:02:14.954365Z"
    },
    "papermill": {
     "duration": 11.323985,
     "end_time": "2024-12-25T19:31:47.982864",
     "exception": false,
     "start_time": "2024-12-25T19:31:36.658879",
     "status": "completed"
    },
    "tags": [],
    "trusted": true
   },
   "outputs": [
    {
     "name": "stdout",
     "output_type": "stream",
     "text": [
      "Dialogue acts have been added to all data files.\n"
     ]
    }
   ],
   "source": [
    "dialogue_acts_path = '/kaggle/input/multiwoz2-4/dialogue_acts.json'\n",
    "data_files = ['/kaggle/working/train_dials.json', '/kaggle/working/dev_dials.json', '/kaggle/working/test_dials.json']\n",
    "\n",
    "dialogue_acts = load_json(dialogue_acts_path)\n",
    "\n",
    "\n",
    "add_dialogue_acts(dialogue_acts, data_files)\n",
    "\n",
    "print(\"Dialogue acts have been added to all data files.\")"
   ]
  },
  {
   "cell_type": "markdown",
   "id": "a35cd20a",
   "metadata": {},
   "source": [
    "##### Here the testing place"
   ]
  },
  {
   "cell_type": "markdown",
   "id": "9df2734f",
   "metadata": {},
   "source": [
    "For better understanding or visualizing"
   ]
  },
  {
   "cell_type": "code",
   "execution_count": 6,
   "id": "dc30ce91",
   "metadata": {
    "execution": {
     "iopub.execute_input": "2024-12-25T19:31:48.000580Z",
     "iopub.status.busy": "2024-12-25T19:31:48.000349Z",
     "iopub.status.idle": "2024-12-25T19:31:48.139302Z",
     "shell.execute_reply": "2024-12-25T19:31:48.138584Z"
    },
    "papermill": {
     "duration": 0.149263,
     "end_time": "2024-12-25T19:31:48.140778",
     "exception": false,
     "start_time": "2024-12-25T19:31:47.991515",
     "status": "completed"
    },
    "tags": []
   },
   "outputs": [],
   "source": [
    "import json\n",
    "\n",
    "def download_first_10_from_json(filename):\n",
    "    \"\"\"\n",
    "    Downloads the first 10 elements from a JSON file.\n",
    "\n",
    "    Args:\n",
    "        filename: The name of the JSON file.\n",
    "\n",
    "    Returns:\n",
    "        A list containing the first 10 elements of the JSON data.\n",
    "    \"\"\"\n",
    "\n",
    "    with open(filename, 'r') as file:\n",
    "        data = json.load(file)\n",
    "\n",
    "    first_10_elements = data[:10]\n",
    "\n",
    "    with open('first_10_elements.json', 'w') as output_file:\n",
    "        json.dump(first_10_elements, output_file)\n",
    "\n",
    "    return first_10_elements\n",
    "\n",
    "filename = '/kaggle/working/dev_dials.json'\n",
    "first_10_elements = download_first_10_from_json(filename)"
   ]
  },
  {
   "cell_type": "code",
   "execution_count": 7,
   "id": "8b49de8e",
   "metadata": {
    "execution": {
     "iopub.execute_input": "2024-12-25T19:31:48.158808Z",
     "iopub.status.busy": "2024-12-25T19:31:48.158572Z",
     "iopub.status.idle": "2024-12-25T19:31:48.167587Z",
     "shell.execute_reply": "2024-12-25T19:31:48.166658Z"
    },
    "papermill": {
     "duration": 0.019379,
     "end_time": "2024-12-25T19:31:48.168914",
     "exception": false,
     "start_time": "2024-12-25T19:31:48.149535",
     "status": "completed"
    },
    "tags": []
   },
   "outputs": [
    {
     "name": "stdout",
     "output_type": "stream",
     "text": [
      "Extracted 66 (x, y) pairs.\n",
      "Sample 1:\n",
      "  x: i can help you with that . what is your price range ?\n",
      "  y: {'Hotel-Request': [['Price', '?']]}\n",
      "Sample 2:\n",
      "  x: if you would like something cheap , i recommend the allenbell . for something moderate -ly priced , i would recommend the warkworth house .\n",
      "  y: {'Hotel-Recommend': [['Price', 'cheap'], ['Price', ' moderately priced'], ['Name', 'Allenbell'], ['Name', ' Warkworth House']]}\n",
      "Sample 3:\n",
      "  x: what day will you be staying ?\n",
      "  y: {'Booking-Request': [['Day', '?']]}\n",
      "Sample 4:\n",
      "  x: booking was successful . reference number is : bmukptg6 . can i help you with anything else today ?\n",
      "  y: {'general-reqmore': [['none', 'none']], 'Booking-Book': [['Ref', 'BMUKPTG6']]}\n",
      "Sample 5:\n",
      "  x: there are a number of trains leaving throughout the day . what time would you like to travel ?\n",
      "  y: {'Train-Inform': [['Choice', 'a number'], ['Leave', 'throughout the day']], 'Train-Request': [['Leave', '?']]}\n"
     ]
    }
   ],
   "source": [
    "\n",
    "file_path = \"/kaggle/working/first_10_elements.json\"\n",
    "\n",
    "with open(file_path, 'r') as f:\n",
    "    data = json.load(f)\n",
    "\n",
    "samples = []\n",
    "for dialogue in data:\n",
    "    for turn in dialogue['dialogue']:\n",
    "        x = turn['system_transcript']\n",
    "        y = turn.get('dialogue_act', None)  \n",
    "        if y:  \n",
    "            samples.append((x, y))\n",
    "\n",
    "print(f\"Extracted {len(samples)} (x, y) pairs.\")\n",
    "for i, (x, y) in enumerate(samples[:5]):\n",
    "    print(f\"Sample {i+1}:\")\n",
    "    print(f\"  x: {x}\")\n",
    "    print(f\"  y: {y}\")"
   ]
  },
  {
   "cell_type": "markdown",
   "id": "92f46702",
   "metadata": {
    "papermill": {
     "duration": 0.008121,
     "end_time": "2024-12-25T19:31:48.185370",
     "exception": false,
     "start_time": "2024-12-25T19:31:48.177249",
     "status": "completed"
    },
    "tags": []
   },
   "source": [
    "# Dialogue Act"
   ]
  },
  {
   "cell_type": "code",
   "execution_count": 6,
   "id": "7bee88fe-ed9d-433e-81aa-1b20438dcd89",
   "metadata": {
    "execution": {
     "iopub.execute_input": "2024-12-31T03:02:26.428865Z",
     "iopub.status.busy": "2024-12-31T03:02:26.428613Z",
     "iopub.status.idle": "2024-12-31T03:02:31.978458Z",
     "shell.execute_reply": "2024-12-31T03:02:31.977668Z",
     "shell.execute_reply.started": "2024-12-31T03:02:26.428844Z"
    },
    "trusted": true
   },
   "outputs": [],
   "source": [
    "import torch\n",
    "from torch.utils.data import Dataset, DataLoader\n",
    "from transformers import BertTokenizer, BertForSequenceClassification\n",
    "from sklearn.preprocessing import LabelEncoder\n",
    "from sklearn.metrics import classification_report, accuracy_score\n",
    "import json\n",
    "import numpy as np\n",
    "from tqdm import tqdm"
   ]
  },
  {
   "cell_type": "code",
   "execution_count": null,
   "id": "c65e2811",
   "metadata": {},
   "outputs": [],
   "source": [
    "class DialogueActDataset(Dataset):\n",
    "    def __init__(self, samples, tokenizer, max_length=128):\n",
    "        self.texts = [x for x, _ in samples]\n",
    "        \n",
    "        \n",
    "        self.acts = []\n",
    "        for _, y in samples:\n",
    "            # handle both dictionary and string label incase of missing data\n",
    "            if isinstance(y, dict):\n",
    "                self.acts.append(list(y.keys())[0])\n",
    "            elif isinstance(y, str):\n",
    "                self.acts.append(y)\n",
    "            else:\n",
    "                raise ValueError(f\"Unexpected label type: {type(y)}. Expected dict or str.\")\n",
    "        \n",
    "        self.label_encoder = LabelEncoder()\n",
    "        self.labels = self.label_encoder.fit_transform(self.acts)\n",
    "        \n",
    "        self.tokenizer = tokenizer\n",
    "        self.max_length = max_length\n",
    "\n",
    "    def __len__(self):\n",
    "        return len(self.texts)\n",
    "\n",
    "    def __getitem__(self, idx):\n",
    "        text = self.texts[idx]\n",
    "        label = self.labels[idx]\n",
    "\n",
    "        encoding = self.tokenizer(\n",
    "            text,\n",
    "            add_special_tokens=True,\n",
    "            max_length=self.max_length,\n",
    "            padding='max_length',\n",
    "            truncation=True,\n",
    "            return_tensors='pt'\n",
    "        )\n",
    "\n",
    "        return {\n",
    "            'input_ids': encoding['input_ids'].flatten(),\n",
    "            'attention_mask': encoding['attention_mask'].flatten(),\n",
    "            'labels': torch.tensor(label, dtype=torch.long)\n",
    "        }"
   ]
  },
  {
   "cell_type": "code",
   "execution_count": null,
   "id": "91a3252d",
   "metadata": {},
   "outputs": [],
   "source": [
    "def load_and_process_data(file_path):\n",
    "    with open(file_path, 'r') as f:\n",
    "        data = json.load(f)\n",
    "    \n",
    "    samples = []\n",
    "    for dialogue in data:\n",
    "        for turn in dialogue['dialogue']:\n",
    "            x = turn['system_transcript']\n",
    "            y = turn.get('dialogue_act', None)\n",
    "            if y:\n",
    "                samples.append((x, y))\n",
    "    return samples"
   ]
  },
  {
   "cell_type": "code",
   "execution_count": null,
   "id": "e780cf48",
   "metadata": {},
   "outputs": [],
   "source": [
    "def evaluate_model(model, eval_dataloader, device):\n",
    "    model.eval()\n",
    "    true_labels = []\n",
    "    predicted_labels = []\n",
    "    \n",
    "    with torch.no_grad():\n",
    "        for batch in tqdm(eval_dataloader, desc=\"Evaluating\"):\n",
    "            input_ids = batch['input_ids'].to(device)\n",
    "            attention_mask = batch['attention_mask'].to(device)\n",
    "            labels = batch['labels'].to(device)\n",
    "            \n",
    "            outputs = model(input_ids=input_ids, attention_mask=attention_mask)\n",
    "            predictions = torch.argmax(outputs.logits, dim=-1)\n",
    "            \n",
    "            true_labels.extend(labels.cpu().numpy())\n",
    "            predicted_labels.extend(predictions.cpu().numpy())\n",
    "    \n",
    "    return true_labels, predicted_labels"
   ]
  },
  {
   "cell_type": "code",
   "execution_count": null,
   "id": "277c8a98",
   "metadata": {},
   "outputs": [],
   "source": [
    "def predict_new_texts(texts, model, tokenizer, label_encoder, device):\n",
    "    model.eval()\n",
    "    predictions = []\n",
    "    \n",
    "    # tokenize\n",
    "    inputs = tokenizer(\n",
    "        texts,\n",
    "        add_special_tokens=True,\n",
    "        max_length=128,\n",
    "        padding='max_length',\n",
    "        truncation=True,\n",
    "        return_tensors='pt'\n",
    "    )\n",
    "    \n",
    "    with torch.no_grad():\n",
    "        input_ids = inputs['input_ids'].to(device)\n",
    "        attention_mask = inputs['attention_mask'].to(device)\n",
    "        \n",
    "        outputs = model(input_ids=input_ids, attention_mask=attention_mask)\n",
    "        predictions = torch.argmax(outputs.logits, dim=-1)\n",
    "        \n",
    "    \n",
    "    predicted_labels = label_encoder.inverse_transform(predictions.cpu().numpy()) # Convert numeric predictions back to label\n",
    "    \n",
    "    return predicted_labels"
   ]
  },
  {
   "cell_type": "code",
   "execution_count": 7,
   "id": "b48d88ca",
   "metadata": {
    "execution": {
     "iopub.execute_input": "2024-12-31T03:02:33.599400Z",
     "iopub.status.busy": "2024-12-31T03:02:33.598939Z",
     "iopub.status.idle": "2024-12-31T03:02:33.614379Z",
     "shell.execute_reply": "2024-12-31T03:02:33.613493Z",
     "shell.execute_reply.started": "2024-12-31T03:02:33.599365Z"
    },
    "papermill": {
     "duration": 5.412435,
     "end_time": "2024-12-25T19:31:53.606050",
     "exception": false,
     "start_time": "2024-12-25T19:31:48.193615",
     "status": "completed"
    },
    "tags": [],
    "trusted": true
   },
   "outputs": [],
   "source": [
    "def train_model(train_dataloader, eval_dataloader, model, device, num_epochs=20):\n",
    "    optimizer = torch.optim.AdamW(model.parameters(), lr=2e-5)\n",
    "    best_accuracy = 0\n",
    "    \n",
    "    for epoch in range(num_epochs):\n",
    "        print(f\"\\nEpoch {epoch + 1}/{num_epochs}\")\n",
    "        \n",
    "        model.train()\n",
    "        total_loss = 0\n",
    "        progress_bar = tqdm(train_dataloader, desc=\"Training\")\n",
    "        for batch in progress_bar:\n",
    "            optimizer.zero_grad()\n",
    "            \n",
    "            input_ids = batch['input_ids'].to(device)\n",
    "            attention_mask = batch['attention_mask'].to(device)\n",
    "            labels = batch['labels'].to(device)\n",
    "            \n",
    "            outputs = model(\n",
    "                input_ids=input_ids,\n",
    "                attention_mask=attention_mask,\n",
    "                labels=labels\n",
    "            )\n",
    "            \n",
    "            loss = outputs.loss\n",
    "            total_loss += loss.item()\n",
    "            \n",
    "            loss.backward()\n",
    "            optimizer.step()\n",
    "            \n",
    "            progress_bar.set_postfix({'loss': f\"{loss.item():.4f}\"})\n",
    "        \n",
    "        avg_train_loss = total_loss / len(train_dataloader)\n",
    "        print(f\"Average training loss: {avg_train_loss:.4f}\")\n",
    "        \n",
    "        # Evaluation\n",
    "        true_labels, predicted_labels = evaluate_model(model, eval_dataloader, device)\n",
    "        accuracy = accuracy_score(true_labels, predicted_labels)\n",
    "        print(\"\\nEvaluation Results:\")\n",
    "        print(f\"Accuracy: {accuracy:.4f}\")\n",
    "        print(\"\\nClassification Report:\")\n",
    "        print(classification_report(true_labels, predicted_labels))\n",
    "        \n",
    "        # saving\n",
    "        if accuracy > best_accuracy:\n",
    "            best_accuracy = accuracy\n",
    "            model.save_pretrained('./model')\n",
    "            print(f\"New best model saved with accuracy: {accuracy:.4f}\")"
   ]
  },
  {
   "cell_type": "markdown",
   "id": "1e55035d",
   "metadata": {},
   "source": [
    "# Training"
   ]
  },
  {
   "cell_type": "code",
   "execution_count": 9,
   "id": "349f8241",
   "metadata": {
    "execution": {
     "iopub.execute_input": "2024-12-25T19:31:53.630756Z",
     "iopub.status.busy": "2024-12-25T19:31:53.630281Z",
     "iopub.status.idle": "2024-12-25T19:31:58.700541Z",
     "shell.execute_reply": "2024-12-25T19:31:58.699562Z"
    },
    "papermill": {
     "duration": 5.081412,
     "end_time": "2024-12-25T19:31:58.701996",
     "exception": false,
     "start_time": "2024-12-25T19:31:53.620584",
     "status": "completed"
    },
    "tags": []
   },
   "outputs": [
    {
     "name": "stdout",
     "output_type": "stream",
     "text": [
      "Using device: cuda\n"
     ]
    },
    {
     "data": {
      "application/vnd.jupyter.widget-view+json": {
       "model_id": "4dcc9557c57344b1aa5f3415f4e1c90f",
       "version_major": 2,
       "version_minor": 0
      },
      "text/plain": [
       "tokenizer_config.json:   0%|          | 0.00/48.0 [00:00<?, ?B/s]"
      ]
     },
     "metadata": {},
     "output_type": "display_data"
    },
    {
     "data": {
      "application/vnd.jupyter.widget-view+json": {
       "model_id": "e755cd9f599f408280a1e1b697c44d29",
       "version_major": 2,
       "version_minor": 0
      },
      "text/plain": [
       "vocab.txt:   0%|          | 0.00/232k [00:00<?, ?B/s]"
      ]
     },
     "metadata": {},
     "output_type": "display_data"
    },
    {
     "data": {
      "application/vnd.jupyter.widget-view+json": {
       "model_id": "2e196fc611e742e983debf5c2b996031",
       "version_major": 2,
       "version_minor": 0
      },
      "text/plain": [
       "tokenizer.json:   0%|          | 0.00/466k [00:00<?, ?B/s]"
      ]
     },
     "metadata": {},
     "output_type": "display_data"
    },
    {
     "data": {
      "application/vnd.jupyter.widget-view+json": {
       "model_id": "a9f7903678c54c8e853b9f6eeb9cc9b8",
       "version_major": 2,
       "version_minor": 0
      },
      "text/plain": [
       "config.json:   0%|          | 0.00/570 [00:00<?, ?B/s]"
      ]
     },
     "metadata": {},
     "output_type": "display_data"
    },
    {
     "name": "stdout",
     "output_type": "stream",
     "text": [
      "\n",
      "Training samples: 48241\n",
      "Evaluation samples: 6371\n",
      "\n",
      "Unique dialogue acts: ['Attraction-Inform' 'Attraction-NoOffer' 'Attraction-Recommend'\n",
      " 'Attraction-Request' 'Attraction-Select' 'Booking-Book' 'Booking-Inform'\n",
      " 'Booking-NoBook' 'Booking-Request' 'Hotel-Inform' 'Hotel-NoOffer'\n",
      " 'Hotel-Recommend' 'Hotel-Request' 'Hotel-Select' 'No Annotation'\n",
      " 'Restaurant-Inform' 'Restaurant-NoOffer' 'Restaurant-Recommend'\n",
      " 'Restaurant-Request' 'Restaurant-Select' 'Taxi-Inform' 'Taxi-Request'\n",
      " 'Train-Inform' 'Train-NoOffer' 'Train-OfferBook' 'Train-OfferBooked'\n",
      " 'Train-Request' 'Train-Select' 'general-bye' 'general-greet'\n",
      " 'general-reqmore' 'general-welcome']\n",
      "Number of unique labels: 32\n"
     ]
    },
    {
     "name": "stderr",
     "output_type": "stream",
     "text": [
      "/usr/local/lib/python3.10/dist-packages/transformers/tokenization_utils_base.py:1601: FutureWarning: `clean_up_tokenization_spaces` was not set. It will be set to `True` by default. This behavior will be depracted in transformers v4.45, and will be then set to `False` by default. For more details check this issue: https://github.com/huggingface/transformers/issues/31884\n",
      "  warnings.warn(\n"
     ]
    }
   ],
   "source": [
    "device = torch.device(\"cuda\" if torch.cuda.is_available() else \"cpu\")\n",
    "print(f\"Using device: {device}\")\n",
    "\n",
    "train_samples = load_and_process_data(\"train_dials.json\")\n",
    "eval_samples = load_and_process_data(\"dev_dials.json\")  \n",
    "\n",
    "tokenizer = BertTokenizer.from_pretrained('bert-base-uncased')\n",
    "\n",
    "train_dataset = DialogueActDataset(train_samples, tokenizer)\n",
    "eval_dataset = DialogueActDataset(eval_samples, tokenizer)\n",
    "\n",
    "\n",
    "print(f\"\\nTraining samples: {len(train_dataset)}\")\n",
    "print(f\"Evaluation samples: {len(eval_dataset)}\")\n",
    "print(\"\\nUnique dialogue acts:\", train_dataset.label_encoder.classes_)\n",
    "print(f\"Number of unique labels: {len(train_dataset.label_encoder.classes_)}\")"
   ]
  },
  {
   "cell_type": "code",
   "execution_count": 10,
   "id": "84703861",
   "metadata": {
    "execution": {
     "iopub.execute_input": "2024-12-25T19:31:58.721921Z",
     "iopub.status.busy": "2024-12-25T19:31:58.721698Z",
     "iopub.status.idle": "2024-12-25T19:32:01.320322Z",
     "shell.execute_reply": "2024-12-25T19:32:01.319559Z"
    },
    "papermill": {
     "duration": 2.610214,
     "end_time": "2024-12-25T19:32:01.321850",
     "exception": false,
     "start_time": "2024-12-25T19:31:58.711636",
     "status": "completed"
    },
    "tags": []
   },
   "outputs": [
    {
     "data": {
      "application/vnd.jupyter.widget-view+json": {
       "model_id": "bffb9f140b154f21a10e8a3d7c0f8758",
       "version_major": 2,
       "version_minor": 0
      },
      "text/plain": [
       "model.safetensors:   0%|          | 0.00/440M [00:00<?, ?B/s]"
      ]
     },
     "metadata": {},
     "output_type": "display_data"
    },
    {
     "name": "stderr",
     "output_type": "stream",
     "text": [
      "Some weights of BertForSequenceClassification were not initialized from the model checkpoint at bert-base-uncased and are newly initialized: ['classifier.bias', 'classifier.weight']\n",
      "You should probably TRAIN this model on a down-stream task to be able to use it for predictions and inference.\n"
     ]
    }
   ],
   "source": [
    "num_labels = len(train_dataset.label_encoder.classes_)\n",
    "model = BertForSequenceClassification.from_pretrained(\n",
    "    'bert-base-uncased',\n",
    "    num_labels=num_labels\n",
    ").to(device)\n",
    "\n",
    "train_dataloader = DataLoader(train_dataset, batch_size=128, shuffle=True)\n",
    "eval_dataloader = DataLoader(eval_dataset, batch_size=128)"
   ]
  },
  {
   "cell_type": "code",
   "execution_count": 11,
   "id": "ef24affc",
   "metadata": {
    "execution": {
     "iopub.execute_input": "2024-12-25T19:32:01.341672Z",
     "iopub.status.busy": "2024-12-25T19:32:01.341444Z",
     "iopub.status.idle": "2024-12-26T01:10:55.755206Z",
     "shell.execute_reply": "2024-12-26T01:10:55.753900Z"
    },
    "papermill": {
     "duration": 20334.425181,
     "end_time": "2024-12-26T01:10:55.757074",
     "exception": false,
     "start_time": "2024-12-25T19:32:01.331893",
     "status": "completed"
    },
    "tags": []
   },
   "outputs": [
    {
     "name": "stdout",
     "output_type": "stream",
     "text": [
      "\n",
      "Epoch 1/20\n"
     ]
    },
    {
     "name": "stderr",
     "output_type": "stream",
     "text": [
      "Training: 100%|██████████| 377/377 [16:03<00:00,  2.56s/it, loss=0.7317]\n"
     ]
    },
    {
     "name": "stdout",
     "output_type": "stream",
     "text": [
      "Average training loss: 1.5551\n"
     ]
    },
    {
     "name": "stderr",
     "output_type": "stream",
     "text": [
      "Evaluating: 100%|██████████| 50/50 [00:48<00:00,  1.04it/s]\n",
      "/usr/local/lib/python3.10/dist-packages/sklearn/metrics/_classification.py:1344: UndefinedMetricWarning: Precision and F-score are ill-defined and being set to 0.0 in labels with no predicted samples. Use `zero_division` parameter to control this behavior.\n",
      "  _warn_prf(average, modifier, msg_start, len(result))\n",
      "/usr/local/lib/python3.10/dist-packages/sklearn/metrics/_classification.py:1344: UndefinedMetricWarning: Precision and F-score are ill-defined and being set to 0.0 in labels with no predicted samples. Use `zero_division` parameter to control this behavior.\n",
      "  _warn_prf(average, modifier, msg_start, len(result))\n",
      "/usr/local/lib/python3.10/dist-packages/sklearn/metrics/_classification.py:1344: UndefinedMetricWarning: Precision and F-score are ill-defined and being set to 0.0 in labels with no predicted samples. Use `zero_division` parameter to control this behavior.\n",
      "  _warn_prf(average, modifier, msg_start, len(result))\n"
     ]
    },
    {
     "name": "stdout",
     "output_type": "stream",
     "text": [
      "\n",
      "Evaluation Results:\n",
      "Accuracy: 0.8060\n",
      "\n",
      "Classification Report:\n",
      "              precision    recall  f1-score   support\n",
      "\n",
      "           0       0.78      0.74      0.76       325\n",
      "           1       1.00      0.08      0.15        24\n",
      "           2       0.65      0.82      0.73       154\n",
      "           3       0.68      0.77      0.72       167\n",
      "           4       0.00      0.00      0.00        42\n",
      "           5       0.82      0.86      0.84       227\n",
      "           6       0.83      0.92      0.87       487\n",
      "           7       0.77      0.97      0.86       110\n",
      "           8       0.80      0.88      0.84       163\n",
      "           9       0.77      0.72      0.74       353\n",
      "          10       0.58      0.60      0.59        50\n",
      "          11       0.64      0.55      0.59       125\n",
      "          12       0.76      0.93      0.84       284\n",
      "          13       0.71      0.46      0.56        54\n",
      "          14       0.18      0.03      0.04        80\n",
      "          15       0.66      0.62      0.64       189\n",
      "          16       0.72      0.81      0.76        59\n",
      "          17       0.76      0.55      0.64        80\n",
      "          18       0.92      0.84      0.88       277\n",
      "          19       0.65      0.50      0.56        74\n",
      "          20       0.98      0.97      0.98       232\n",
      "          21       0.81      0.47      0.60       198\n",
      "          22       0.94      0.97      0.95       843\n",
      "          23       0.00      0.00      0.00         9\n",
      "          24       1.00      0.04      0.09        45\n",
      "          25       0.94      0.75      0.84       145\n",
      "          26       0.71      0.91      0.80       403\n",
      "          27       0.00      0.00      0.00        10\n",
      "          28       0.71      0.89      0.79        62\n",
      "          29       0.00      0.00      0.00        65\n",
      "          30       0.82      0.93      0.88       965\n",
      "          31       0.75      0.69      0.72        70\n",
      "\n",
      "    accuracy                           0.81      6371\n",
      "   macro avg       0.67      0.60      0.60      6371\n",
      "weighted avg       0.79      0.81      0.79      6371\n",
      "\n",
      "New best model saved with accuracy: 0.8060\n",
      "\n",
      "Epoch 2/20\n"
     ]
    },
    {
     "name": "stderr",
     "output_type": "stream",
     "text": [
      "Training: 100%|██████████| 377/377 [16:08<00:00,  2.57s/it, loss=0.8202]\n"
     ]
    },
    {
     "name": "stdout",
     "output_type": "stream",
     "text": [
      "Average training loss: 0.6770\n"
     ]
    },
    {
     "name": "stderr",
     "output_type": "stream",
     "text": [
      "Evaluating: 100%|██████████| 50/50 [00:47<00:00,  1.04it/s]\n",
      "/usr/local/lib/python3.10/dist-packages/sklearn/metrics/_classification.py:1344: UndefinedMetricWarning: Precision and F-score are ill-defined and being set to 0.0 in labels with no predicted samples. Use `zero_division` parameter to control this behavior.\n",
      "  _warn_prf(average, modifier, msg_start, len(result))\n",
      "/usr/local/lib/python3.10/dist-packages/sklearn/metrics/_classification.py:1344: UndefinedMetricWarning: Precision and F-score are ill-defined and being set to 0.0 in labels with no predicted samples. Use `zero_division` parameter to control this behavior.\n",
      "  _warn_prf(average, modifier, msg_start, len(result))\n",
      "/usr/local/lib/python3.10/dist-packages/sklearn/metrics/_classification.py:1344: UndefinedMetricWarning: Precision and F-score are ill-defined and being set to 0.0 in labels with no predicted samples. Use `zero_division` parameter to control this behavior.\n",
      "  _warn_prf(average, modifier, msg_start, len(result))\n"
     ]
    },
    {
     "name": "stdout",
     "output_type": "stream",
     "text": [
      "\n",
      "Evaluation Results:\n",
      "Accuracy: 0.8269\n",
      "\n",
      "Classification Report:\n",
      "              precision    recall  f1-score   support\n",
      "\n",
      "           0       0.82      0.76      0.79       325\n",
      "           1       0.80      0.50      0.62        24\n",
      "           2       0.71      0.88      0.79       154\n",
      "           3       0.76      0.85      0.80       167\n",
      "           4       0.71      0.48      0.57        42\n",
      "           5       0.85      0.85      0.85       227\n",
      "           6       0.83      0.93      0.87       487\n",
      "           7       0.87      0.96      0.91       110\n",
      "           8       0.85      0.85      0.85       163\n",
      "           9       0.82      0.78      0.80       353\n",
      "          10       0.53      0.82      0.64        50\n",
      "          11       0.70      0.60      0.65       125\n",
      "          12       0.82      0.85      0.83       284\n",
      "          13       0.50      0.59      0.54        54\n",
      "          14       0.12      0.03      0.04        80\n",
      "          15       0.79      0.62      0.70       189\n",
      "          16       0.88      0.76      0.82        59\n",
      "          17       0.67      0.70      0.68        80\n",
      "          18       0.89      0.88      0.88       277\n",
      "          19       0.67      0.59      0.63        74\n",
      "          20       0.97      0.98      0.97       232\n",
      "          21       0.74      0.72      0.73       198\n",
      "          22       0.94      0.97      0.95       843\n",
      "          23       1.00      0.22      0.36         9\n",
      "          24       0.68      0.29      0.41        45\n",
      "          25       0.93      0.78      0.85       145\n",
      "          26       0.81      0.83      0.82       403\n",
      "          27       0.00      0.00      0.00        10\n",
      "          28       0.75      0.76      0.75        62\n",
      "          29       0.00      0.00      0.00        65\n",
      "          30       0.84      0.93      0.88       965\n",
      "          31       0.58      0.77      0.66        70\n",
      "\n",
      "    accuracy                           0.83      6371\n",
      "   macro avg       0.71      0.67      0.68      6371\n",
      "weighted avg       0.81      0.83      0.82      6371\n",
      "\n",
      "New best model saved with accuracy: 0.8269\n",
      "\n",
      "Epoch 3/20\n"
     ]
    },
    {
     "name": "stderr",
     "output_type": "stream",
     "text": [
      "Training: 100%|██████████| 377/377 [16:08<00:00,  2.57s/it, loss=0.4871]\n"
     ]
    },
    {
     "name": "stdout",
     "output_type": "stream",
     "text": [
      "Average training loss: 0.5453\n"
     ]
    },
    {
     "name": "stderr",
     "output_type": "stream",
     "text": [
      "Evaluating: 100%|██████████| 50/50 [00:48<00:00,  1.04it/s]\n",
      "/usr/local/lib/python3.10/dist-packages/sklearn/metrics/_classification.py:1344: UndefinedMetricWarning: Precision and F-score are ill-defined and being set to 0.0 in labels with no predicted samples. Use `zero_division` parameter to control this behavior.\n",
      "  _warn_prf(average, modifier, msg_start, len(result))\n",
      "/usr/local/lib/python3.10/dist-packages/sklearn/metrics/_classification.py:1344: UndefinedMetricWarning: Precision and F-score are ill-defined and being set to 0.0 in labels with no predicted samples. Use `zero_division` parameter to control this behavior.\n",
      "  _warn_prf(average, modifier, msg_start, len(result))\n",
      "/usr/local/lib/python3.10/dist-packages/sklearn/metrics/_classification.py:1344: UndefinedMetricWarning: Precision and F-score are ill-defined and being set to 0.0 in labels with no predicted samples. Use `zero_division` parameter to control this behavior.\n",
      "  _warn_prf(average, modifier, msg_start, len(result))\n"
     ]
    },
    {
     "name": "stdout",
     "output_type": "stream",
     "text": [
      "\n",
      "Evaluation Results:\n",
      "Accuracy: 0.8259\n",
      "\n",
      "Classification Report:\n",
      "              precision    recall  f1-score   support\n",
      "\n",
      "           0       0.82      0.79      0.80       325\n",
      "           1       0.67      0.50      0.57        24\n",
      "           2       0.78      0.81      0.80       154\n",
      "           3       0.74      0.86      0.79       167\n",
      "           4       0.71      0.48      0.57        42\n",
      "           5       0.88      0.79      0.83       227\n",
      "           6       0.88      0.90      0.89       487\n",
      "           7       0.91      0.96      0.94       110\n",
      "           8       0.78      0.91      0.84       163\n",
      "           9       0.80      0.85      0.82       353\n",
      "          10       0.65      0.72      0.69        50\n",
      "          11       0.82      0.61      0.70       125\n",
      "          12       0.84      0.75      0.79       284\n",
      "          13       0.55      0.67      0.61        54\n",
      "          14       0.15      0.04      0.06        80\n",
      "          15       0.77      0.66      0.71       189\n",
      "          16       0.72      0.80      0.76        59\n",
      "          17       0.69      0.70      0.70        80\n",
      "          18       0.80      0.92      0.86       277\n",
      "          19       0.55      0.69      0.61        74\n",
      "          20       0.99      0.97      0.98       232\n",
      "          21       0.94      0.51      0.66       198\n",
      "          22       0.94      0.97      0.95       843\n",
      "          23       1.00      0.44      0.62         9\n",
      "          24       0.75      0.33      0.46        45\n",
      "          25       0.80      0.84      0.82       145\n",
      "          26       0.74      0.93      0.82       403\n",
      "          27       0.00      0.00      0.00        10\n",
      "          28       0.71      0.82      0.76        62\n",
      "          29       0.00      0.00      0.00        65\n",
      "          30       0.85      0.92      0.88       965\n",
      "          31       0.60      0.71      0.65        70\n",
      "\n",
      "    accuracy                           0.83      6371\n",
      "   macro avg       0.71      0.68      0.69      6371\n",
      "weighted avg       0.81      0.83      0.81      6371\n",
      "\n",
      "\n",
      "Epoch 4/20\n"
     ]
    },
    {
     "name": "stderr",
     "output_type": "stream",
     "text": [
      "Training: 100%|██████████| 377/377 [16:08<00:00,  2.57s/it, loss=0.3364]\n"
     ]
    },
    {
     "name": "stdout",
     "output_type": "stream",
     "text": [
      "Average training loss: 0.4701\n"
     ]
    },
    {
     "name": "stderr",
     "output_type": "stream",
     "text": [
      "Evaluating: 100%|██████████| 50/50 [00:48<00:00,  1.04it/s]\n",
      "/usr/local/lib/python3.10/dist-packages/sklearn/metrics/_classification.py:1344: UndefinedMetricWarning: Precision and F-score are ill-defined and being set to 0.0 in labels with no predicted samples. Use `zero_division` parameter to control this behavior.\n",
      "  _warn_prf(average, modifier, msg_start, len(result))\n",
      "/usr/local/lib/python3.10/dist-packages/sklearn/metrics/_classification.py:1344: UndefinedMetricWarning: Precision and F-score are ill-defined and being set to 0.0 in labels with no predicted samples. Use `zero_division` parameter to control this behavior.\n",
      "  _warn_prf(average, modifier, msg_start, len(result))\n",
      "/usr/local/lib/python3.10/dist-packages/sklearn/metrics/_classification.py:1344: UndefinedMetricWarning: Precision and F-score are ill-defined and being set to 0.0 in labels with no predicted samples. Use `zero_division` parameter to control this behavior.\n",
      "  _warn_prf(average, modifier, msg_start, len(result))\n"
     ]
    },
    {
     "name": "stdout",
     "output_type": "stream",
     "text": [
      "\n",
      "Evaluation Results:\n",
      "Accuracy: 0.8322\n",
      "\n",
      "Classification Report:\n",
      "              precision    recall  f1-score   support\n",
      "\n",
      "           0       0.80      0.81      0.80       325\n",
      "           1       0.50      0.58      0.54        24\n",
      "           2       0.76      0.79      0.78       154\n",
      "           3       0.78      0.84      0.81       167\n",
      "           4       0.70      0.62      0.66        42\n",
      "           5       0.87      0.80      0.83       227\n",
      "           6       0.88      0.90      0.89       487\n",
      "           7       0.92      0.97      0.95       110\n",
      "           8       0.83      0.87      0.85       163\n",
      "           9       0.81      0.79      0.80       353\n",
      "          10       0.62      0.74      0.67        50\n",
      "          11       0.76      0.60      0.67       125\n",
      "          12       0.83      0.86      0.85       284\n",
      "          13       0.48      0.65      0.55        54\n",
      "          14       0.21      0.05      0.08        80\n",
      "          15       0.74      0.66      0.70       189\n",
      "          16       0.66      0.88      0.75        59\n",
      "          17       0.72      0.68      0.70        80\n",
      "          18       0.93      0.85      0.89       277\n",
      "          19       0.62      0.65      0.64        74\n",
      "          20       0.99      0.98      0.98       232\n",
      "          21       0.78      0.77      0.78       198\n",
      "          22       0.93      0.97      0.95       843\n",
      "          23       1.00      0.44      0.62         9\n",
      "          24       0.57      0.56      0.56        45\n",
      "          25       0.88      0.79      0.83       145\n",
      "          26       0.81      0.86      0.83       403\n",
      "          27       0.00      0.00      0.00        10\n",
      "          28       0.69      0.89      0.77        62\n",
      "          29       0.00      0.00      0.00        65\n",
      "          30       0.85      0.93      0.89       965\n",
      "          31       0.72      0.63      0.67        70\n",
      "\n",
      "    accuracy                           0.83      6371\n",
      "   macro avg       0.71      0.70      0.70      6371\n",
      "weighted avg       0.82      0.83      0.82      6371\n",
      "\n",
      "New best model saved with accuracy: 0.8322\n",
      "\n",
      "Epoch 5/20\n"
     ]
    },
    {
     "name": "stderr",
     "output_type": "stream",
     "text": [
      "Training: 100%|██████████| 377/377 [16:08<00:00,  2.57s/it, loss=0.5494]\n"
     ]
    },
    {
     "name": "stdout",
     "output_type": "stream",
     "text": [
      "Average training loss: 0.4096\n"
     ]
    },
    {
     "name": "stderr",
     "output_type": "stream",
     "text": [
      "Evaluating: 100%|██████████| 50/50 [00:48<00:00,  1.04it/s]\n"
     ]
    },
    {
     "name": "stdout",
     "output_type": "stream",
     "text": [
      "\n",
      "Evaluation Results:\n",
      "Accuracy: 0.8281\n",
      "\n",
      "Classification Report:\n",
      "              precision    recall  f1-score   support\n",
      "\n",
      "           0       0.79      0.81      0.80       325\n",
      "           1       0.59      0.54      0.57        24\n",
      "           2       0.80      0.72      0.76       154\n",
      "           3       0.75      0.86      0.80       167\n",
      "           4       0.61      0.52      0.56        42\n",
      "           5       0.86      0.82      0.84       227\n",
      "           6       0.87      0.90      0.89       487\n",
      "           7       0.93      0.97      0.95       110\n",
      "           8       0.80      0.91      0.85       163\n",
      "           9       0.78      0.85      0.81       353\n",
      "          10       0.59      0.70      0.64        50\n",
      "          11       0.82      0.58      0.68       125\n",
      "          12       0.82      0.83      0.82       284\n",
      "          13       0.52      0.69      0.59        54\n",
      "          14       0.21      0.05      0.08        80\n",
      "          15       0.68      0.71      0.70       189\n",
      "          16       0.81      0.78      0.79        59\n",
      "          17       0.73      0.59      0.65        80\n",
      "          18       0.85      0.88      0.86       277\n",
      "          19       0.65      0.66      0.66        74\n",
      "          20       0.99      0.98      0.98       232\n",
      "          21       0.88      0.63      0.73       198\n",
      "          22       0.95      0.95      0.95       843\n",
      "          23       1.00      0.44      0.62         9\n",
      "          24       0.69      0.49      0.57        45\n",
      "          25       0.87      0.80      0.83       145\n",
      "          26       0.76      0.91      0.83       403\n",
      "          27       0.00      0.00      0.00        10\n",
      "          28       0.67      0.85      0.75        62\n",
      "          29       0.17      0.03      0.05        65\n",
      "          30       0.86      0.91      0.89       965\n",
      "          31       0.68      0.63      0.65        70\n",
      "\n",
      "    accuracy                           0.83      6371\n",
      "   macro avg       0.72      0.69      0.69      6371\n",
      "weighted avg       0.82      0.83      0.82      6371\n",
      "\n",
      "\n",
      "Epoch 6/20\n"
     ]
    },
    {
     "name": "stderr",
     "output_type": "stream",
     "text": [
      "Training: 100%|██████████| 377/377 [16:08<00:00,  2.57s/it, loss=0.3657]\n"
     ]
    },
    {
     "name": "stdout",
     "output_type": "stream",
     "text": [
      "Average training loss: 0.3544\n"
     ]
    },
    {
     "name": "stderr",
     "output_type": "stream",
     "text": [
      "Evaluating: 100%|██████████| 50/50 [00:48<00:00,  1.04it/s]\n"
     ]
    },
    {
     "name": "stdout",
     "output_type": "stream",
     "text": [
      "\n",
      "Evaluation Results:\n",
      "Accuracy: 0.8300\n",
      "\n",
      "Classification Report:\n",
      "              precision    recall  f1-score   support\n",
      "\n",
      "           0       0.89      0.73      0.80       325\n",
      "           1       0.59      0.54      0.57        24\n",
      "           2       0.68      0.87      0.76       154\n",
      "           3       0.76      0.83      0.80       167\n",
      "           4       0.66      0.50      0.57        42\n",
      "           5       0.85      0.82      0.84       227\n",
      "           6       0.84      0.93      0.88       487\n",
      "           7       0.91      0.95      0.93       110\n",
      "           8       0.84      0.82      0.83       163\n",
      "           9       0.82      0.78      0.80       353\n",
      "          10       0.67      0.66      0.67        50\n",
      "          11       0.66      0.65      0.66       125\n",
      "          12       0.81      0.89      0.85       284\n",
      "          13       0.47      0.65      0.54        54\n",
      "          14       0.24      0.09      0.13        80\n",
      "          15       0.74      0.69      0.72       189\n",
      "          16       0.76      0.80      0.78        59\n",
      "          17       0.72      0.70      0.71        80\n",
      "          18       0.92      0.85      0.88       277\n",
      "          19       0.66      0.61      0.63        74\n",
      "          20       0.98      0.98      0.98       232\n",
      "          21       0.84      0.70      0.77       198\n",
      "          22       0.96      0.96      0.96       843\n",
      "          23       1.00      0.56      0.71         9\n",
      "          24       0.62      0.53      0.57        45\n",
      "          25       0.86      0.79      0.82       145\n",
      "          26       0.80      0.88      0.84       403\n",
      "          27       0.33      0.10      0.15        10\n",
      "          28       0.74      0.82      0.78        62\n",
      "          29       0.09      0.02      0.03        65\n",
      "          30       0.85      0.93      0.88       965\n",
      "          31       0.63      0.69      0.66        70\n",
      "\n",
      "    accuracy                           0.83      6371\n",
      "   macro avg       0.72      0.70      0.70      6371\n",
      "weighted avg       0.82      0.83      0.82      6371\n",
      "\n",
      "\n",
      "Epoch 7/20\n"
     ]
    },
    {
     "name": "stderr",
     "output_type": "stream",
     "text": [
      "Training: 100%|██████████| 377/377 [16:08<00:00,  2.57s/it, loss=0.3914]\n"
     ]
    },
    {
     "name": "stdout",
     "output_type": "stream",
     "text": [
      "Average training loss: 0.3065\n"
     ]
    },
    {
     "name": "stderr",
     "output_type": "stream",
     "text": [
      "Evaluating: 100%|██████████| 50/50 [00:47<00:00,  1.04it/s]\n"
     ]
    },
    {
     "name": "stdout",
     "output_type": "stream",
     "text": [
      "\n",
      "Evaluation Results:\n",
      "Accuracy: 0.8203\n",
      "\n",
      "Classification Report:\n",
      "              precision    recall  f1-score   support\n",
      "\n",
      "           0       0.82      0.75      0.79       325\n",
      "           1       0.56      0.58      0.57        24\n",
      "           2       0.70      0.84      0.77       154\n",
      "           3       0.81      0.79      0.80       167\n",
      "           4       0.58      0.52      0.55        42\n",
      "           5       0.84      0.81      0.83       227\n",
      "           6       0.88      0.85      0.86       487\n",
      "           7       0.90      0.97      0.93       110\n",
      "           8       0.87      0.81      0.84       163\n",
      "           9       0.78      0.80      0.79       353\n",
      "          10       0.58      0.64      0.61        50\n",
      "          11       0.58      0.67      0.62       125\n",
      "          12       0.81      0.83      0.82       284\n",
      "          13       0.52      0.63      0.57        54\n",
      "          14       0.26      0.06      0.10        80\n",
      "          15       0.75      0.63      0.68       189\n",
      "          16       0.73      0.83      0.78        59\n",
      "          17       0.67      0.78      0.72        80\n",
      "          18       0.86      0.86      0.86       277\n",
      "          19       0.60      0.68      0.64        74\n",
      "          20       0.99      0.99      0.99       232\n",
      "          21       0.85      0.71      0.77       198\n",
      "          22       0.95      0.96      0.96       843\n",
      "          23       1.00      0.44      0.62         9\n",
      "          24       0.58      0.58      0.58        45\n",
      "          25       0.86      0.79      0.82       145\n",
      "          26       0.80      0.88      0.84       403\n",
      "          27       0.67      0.20      0.31        10\n",
      "          28       0.63      0.89      0.74        62\n",
      "          29       0.10      0.06      0.08        65\n",
      "          30       0.86      0.90      0.88       965\n",
      "          31       0.64      0.60      0.62        70\n",
      "\n",
      "    accuracy                           0.82      6371\n",
      "   macro avg       0.72      0.70      0.70      6371\n",
      "weighted avg       0.82      0.82      0.82      6371\n",
      "\n",
      "\n",
      "Epoch 8/20\n"
     ]
    },
    {
     "name": "stderr",
     "output_type": "stream",
     "text": [
      "Training: 100%|██████████| 377/377 [16:08<00:00,  2.57s/it, loss=0.3056]\n"
     ]
    },
    {
     "name": "stdout",
     "output_type": "stream",
     "text": [
      "Average training loss: 0.2580\n"
     ]
    },
    {
     "name": "stderr",
     "output_type": "stream",
     "text": [
      "Evaluating: 100%|██████████| 50/50 [00:48<00:00,  1.04it/s]\n"
     ]
    },
    {
     "name": "stdout",
     "output_type": "stream",
     "text": [
      "\n",
      "Evaluation Results:\n",
      "Accuracy: 0.8146\n",
      "\n",
      "Classification Report:\n",
      "              precision    recall  f1-score   support\n",
      "\n",
      "           0       0.82      0.75      0.79       325\n",
      "           1       0.46      0.50      0.48        24\n",
      "           2       0.71      0.84      0.77       154\n",
      "           3       0.76      0.82      0.79       167\n",
      "           4       0.62      0.57      0.59        42\n",
      "           5       0.85      0.73      0.79       227\n",
      "           6       0.83      0.90      0.87       487\n",
      "           7       0.92      0.95      0.93       110\n",
      "           8       0.88      0.78      0.83       163\n",
      "           9       0.78      0.82      0.80       353\n",
      "          10       0.58      0.68      0.62        50\n",
      "          11       0.67      0.62      0.64       125\n",
      "          12       0.83      0.77      0.80       284\n",
      "          13       0.55      0.59      0.57        54\n",
      "          14       0.16      0.07      0.10        80\n",
      "          15       0.72      0.68      0.70       189\n",
      "          16       0.72      0.80      0.76        59\n",
      "          17       0.70      0.74      0.72        80\n",
      "          18       0.83      0.86      0.85       277\n",
      "          19       0.61      0.66      0.64        74\n",
      "          20       0.99      0.98      0.98       232\n",
      "          21       0.83      0.69      0.75       198\n",
      "          22       0.94      0.97      0.95       843\n",
      "          23       1.00      0.33      0.50         9\n",
      "          24       0.65      0.49      0.56        45\n",
      "          25       0.80      0.82      0.81       145\n",
      "          26       0.80      0.85      0.82       403\n",
      "          27       0.00      0.00      0.00        10\n",
      "          28       0.68      0.87      0.76        62\n",
      "          29       0.10      0.05      0.06        65\n",
      "          30       0.85      0.89      0.87       965\n",
      "          31       0.64      0.63      0.63        70\n",
      "\n",
      "    accuracy                           0.81      6371\n",
      "   macro avg       0.70      0.68      0.68      6371\n",
      "weighted avg       0.81      0.81      0.81      6371\n",
      "\n",
      "\n",
      "Epoch 9/20\n"
     ]
    },
    {
     "name": "stderr",
     "output_type": "stream",
     "text": [
      "Training: 100%|██████████| 377/377 [16:08<00:00,  2.57s/it, loss=0.1498]\n"
     ]
    },
    {
     "name": "stdout",
     "output_type": "stream",
     "text": [
      "Average training loss: 0.2227\n"
     ]
    },
    {
     "name": "stderr",
     "output_type": "stream",
     "text": [
      "Evaluating: 100%|██████████| 50/50 [00:48<00:00,  1.04it/s]\n"
     ]
    },
    {
     "name": "stdout",
     "output_type": "stream",
     "text": [
      "\n",
      "Evaluation Results:\n",
      "Accuracy: 0.8137\n",
      "\n",
      "Classification Report:\n",
      "              precision    recall  f1-score   support\n",
      "\n",
      "           0       0.81      0.74      0.77       325\n",
      "           1       0.57      0.54      0.55        24\n",
      "           2       0.68      0.85      0.75       154\n",
      "           3       0.71      0.86      0.78       167\n",
      "           4       0.67      0.52      0.59        42\n",
      "           5       0.88      0.77      0.82       227\n",
      "           6       0.88      0.84      0.86       487\n",
      "           7       0.91      0.95      0.93       110\n",
      "           8       0.83      0.82      0.83       163\n",
      "           9       0.82      0.80      0.81       353\n",
      "          10       0.58      0.64      0.61        50\n",
      "          11       0.60      0.67      0.63       125\n",
      "          12       0.81      0.80      0.81       284\n",
      "          13       0.50      0.63      0.56        54\n",
      "          14       0.13      0.05      0.07        80\n",
      "          15       0.71      0.67      0.69       189\n",
      "          16       0.78      0.80      0.79        59\n",
      "          17       0.70      0.68      0.69        80\n",
      "          18       0.85      0.85      0.85       277\n",
      "          19       0.62      0.61      0.62        74\n",
      "          20       0.98      0.98      0.98       232\n",
      "          21       0.84      0.68      0.75       198\n",
      "          22       0.95      0.96      0.95       843\n",
      "          23       1.00      0.56      0.71         9\n",
      "          24       0.72      0.51      0.60        45\n",
      "          25       0.83      0.83      0.83       145\n",
      "          26       0.79      0.87      0.83       403\n",
      "          27       0.22      0.20      0.21        10\n",
      "          28       0.71      0.79      0.75        62\n",
      "          29       0.03      0.02      0.02        65\n",
      "          30       0.84      0.90      0.87       965\n",
      "          31       0.62      0.66      0.64        70\n",
      "\n",
      "    accuracy                           0.81      6371\n",
      "   macro avg       0.71      0.69      0.69      6371\n",
      "weighted avg       0.81      0.81      0.81      6371\n",
      "\n",
      "\n",
      "Epoch 10/20\n"
     ]
    },
    {
     "name": "stderr",
     "output_type": "stream",
     "text": [
      "Training: 100%|██████████| 377/377 [16:08<00:00,  2.57s/it, loss=0.3247]\n"
     ]
    },
    {
     "name": "stdout",
     "output_type": "stream",
     "text": [
      "Average training loss: 0.1894\n"
     ]
    },
    {
     "name": "stderr",
     "output_type": "stream",
     "text": [
      "Evaluating: 100%|██████████| 50/50 [00:48<00:00,  1.04it/s]\n"
     ]
    },
    {
     "name": "stdout",
     "output_type": "stream",
     "text": [
      "\n",
      "Evaluation Results:\n",
      "Accuracy: 0.8076\n",
      "\n",
      "Classification Report:\n",
      "              precision    recall  f1-score   support\n",
      "\n",
      "           0       0.78      0.78      0.78       325\n",
      "           1       0.56      0.58      0.57        24\n",
      "           2       0.72      0.80      0.76       154\n",
      "           3       0.72      0.81      0.76       167\n",
      "           4       0.53      0.24      0.33        42\n",
      "           5       0.87      0.74      0.80       227\n",
      "           6       0.86      0.82      0.84       487\n",
      "           7       0.92      0.92      0.92       110\n",
      "           8       0.81      0.83      0.82       163\n",
      "           9       0.77      0.84      0.80       353\n",
      "          10       0.57      0.66      0.61        50\n",
      "          11       0.59      0.67      0.63       125\n",
      "          12       0.81      0.75      0.78       284\n",
      "          13       0.50      0.61      0.55        54\n",
      "          14       0.13      0.06      0.08        80\n",
      "          15       0.68      0.75      0.71       189\n",
      "          16       0.83      0.76      0.80        59\n",
      "          17       0.70      0.61      0.65        80\n",
      "          18       0.79      0.89      0.84       277\n",
      "          19       0.60      0.62      0.61        74\n",
      "          20       0.99      0.98      0.98       232\n",
      "          21       0.88      0.65      0.75       198\n",
      "          22       0.93      0.97      0.95       843\n",
      "          23       1.00      0.33      0.50         9\n",
      "          24       0.62      0.56      0.59        45\n",
      "          25       0.81      0.80      0.81       145\n",
      "          26       0.79      0.90      0.84       403\n",
      "          27       0.25      0.10      0.14        10\n",
      "          28       0.72      0.82      0.77        62\n",
      "          29       0.12      0.06      0.08        65\n",
      "          30       0.87      0.86      0.86       965\n",
      "          31       0.59      0.66      0.62        70\n",
      "\n",
      "    accuracy                           0.81      6371\n",
      "   macro avg       0.70      0.67      0.67      6371\n",
      "weighted avg       0.80      0.81      0.80      6371\n",
      "\n",
      "\n",
      "Epoch 11/20\n"
     ]
    },
    {
     "name": "stderr",
     "output_type": "stream",
     "text": [
      "Training: 100%|██████████| 377/377 [16:08<00:00,  2.57s/it, loss=0.1817]\n"
     ]
    },
    {
     "name": "stdout",
     "output_type": "stream",
     "text": [
      "Average training loss: 0.1651\n"
     ]
    },
    {
     "name": "stderr",
     "output_type": "stream",
     "text": [
      "Evaluating: 100%|██████████| 50/50 [00:47<00:00,  1.04it/s]\n"
     ]
    },
    {
     "name": "stdout",
     "output_type": "stream",
     "text": [
      "\n",
      "Evaluation Results:\n",
      "Accuracy: 0.8143\n",
      "\n",
      "Classification Report:\n",
      "              precision    recall  f1-score   support\n",
      "\n",
      "           0       0.89      0.72      0.80       325\n",
      "           1       0.48      0.58      0.53        24\n",
      "           2       0.72      0.78      0.75       154\n",
      "           3       0.81      0.75      0.78       167\n",
      "           4       0.57      0.62      0.59        42\n",
      "           5       0.85      0.80      0.82       227\n",
      "           6       0.86      0.88      0.87       487\n",
      "           7       0.89      0.96      0.93       110\n",
      "           8       0.84      0.82      0.83       163\n",
      "           9       0.81      0.79      0.80       353\n",
      "          10       0.59      0.70      0.64        50\n",
      "          11       0.68      0.66      0.67       125\n",
      "          12       0.80      0.80      0.80       284\n",
      "          13       0.47      0.65      0.54        54\n",
      "          14       0.24      0.07      0.11        80\n",
      "          15       0.77      0.67      0.72       189\n",
      "          16       0.79      0.76      0.78        59\n",
      "          17       0.65      0.75      0.70        80\n",
      "          18       0.84      0.86      0.85       277\n",
      "          19       0.57      0.66      0.61        74\n",
      "          20       0.99      0.98      0.98       232\n",
      "          21       0.80      0.69      0.74       198\n",
      "          22       0.96      0.95      0.95       843\n",
      "          23       1.00      0.44      0.62         9\n",
      "          24       0.62      0.47      0.53        45\n",
      "          25       0.86      0.81      0.83       145\n",
      "          26       0.78      0.84      0.81       403\n",
      "          27       0.20      0.20      0.20        10\n",
      "          28       0.66      0.87      0.75        62\n",
      "          29       0.07      0.06      0.07        65\n",
      "          30       0.84      0.92      0.87       965\n",
      "          31       0.63      0.61      0.62        70\n",
      "\n",
      "    accuracy                           0.81      6371\n",
      "   macro avg       0.70      0.69      0.69      6371\n",
      "weighted avg       0.81      0.81      0.81      6371\n",
      "\n",
      "\n",
      "Epoch 12/20\n"
     ]
    },
    {
     "name": "stderr",
     "output_type": "stream",
     "text": [
      "Training: 100%|██████████| 377/377 [16:08<00:00,  2.57s/it, loss=0.1892]\n"
     ]
    },
    {
     "name": "stdout",
     "output_type": "stream",
     "text": [
      "Average training loss: 0.1399\n"
     ]
    },
    {
     "name": "stderr",
     "output_type": "stream",
     "text": [
      "Evaluating: 100%|██████████| 50/50 [00:48<00:00,  1.04it/s]\n"
     ]
    },
    {
     "name": "stdout",
     "output_type": "stream",
     "text": [
      "\n",
      "Evaluation Results:\n",
      "Accuracy: 0.8157\n",
      "\n",
      "Classification Report:\n",
      "              precision    recall  f1-score   support\n",
      "\n",
      "           0       0.84      0.74      0.79       325\n",
      "           1       0.46      0.50      0.48        24\n",
      "           2       0.66      0.87      0.75       154\n",
      "           3       0.74      0.84      0.78       167\n",
      "           4       0.68      0.36      0.47        42\n",
      "           5       0.87      0.80      0.83       227\n",
      "           6       0.86      0.85      0.86       487\n",
      "           7       0.89      0.92      0.90       110\n",
      "           8       0.79      0.86      0.82       163\n",
      "           9       0.79      0.79      0.79       353\n",
      "          10       0.64      0.58      0.61        50\n",
      "          11       0.54      0.70      0.61       125\n",
      "          12       0.81      0.83      0.82       284\n",
      "          13       0.52      0.69      0.59        54\n",
      "          14       0.30      0.07      0.12        80\n",
      "          15       0.70      0.75      0.73       189\n",
      "          16       0.85      0.75      0.79        59\n",
      "          17       0.68      0.65      0.67        80\n",
      "          18       0.87      0.86      0.87       277\n",
      "          19       0.63      0.68      0.65        74\n",
      "          20       1.00      0.98      0.99       232\n",
      "          21       0.83      0.68      0.75       198\n",
      "          22       0.94      0.96      0.95       843\n",
      "          23       0.80      0.44      0.57         9\n",
      "          24       0.68      0.51      0.58        45\n",
      "          25       0.90      0.77      0.83       145\n",
      "          26       0.80      0.85      0.82       403\n",
      "          27       0.14      0.10      0.12        10\n",
      "          28       0.67      0.84      0.74        62\n",
      "          29       0.03      0.02      0.02        65\n",
      "          30       0.87      0.89      0.88       965\n",
      "          31       0.60      0.64      0.62        70\n",
      "\n",
      "    accuracy                           0.82      6371\n",
      "   macro avg       0.70      0.68      0.68      6371\n",
      "weighted avg       0.81      0.82      0.81      6371\n",
      "\n",
      "\n",
      "Epoch 13/20\n"
     ]
    },
    {
     "name": "stderr",
     "output_type": "stream",
     "text": [
      "Training: 100%|██████████| 377/377 [16:09<00:00,  2.57s/it, loss=0.1442]\n"
     ]
    },
    {
     "name": "stdout",
     "output_type": "stream",
     "text": [
      "Average training loss: 0.1234\n"
     ]
    },
    {
     "name": "stderr",
     "output_type": "stream",
     "text": [
      "Evaluating: 100%|██████████| 50/50 [00:48<00:00,  1.04it/s]\n"
     ]
    },
    {
     "name": "stdout",
     "output_type": "stream",
     "text": [
      "\n",
      "Evaluation Results:\n",
      "Accuracy: 0.8094\n",
      "\n",
      "Classification Report:\n",
      "              precision    recall  f1-score   support\n",
      "\n",
      "           0       0.78      0.81      0.80       325\n",
      "           1       0.54      0.54      0.54        24\n",
      "           2       0.80      0.72      0.76       154\n",
      "           3       0.77      0.86      0.81       167\n",
      "           4       0.65      0.48      0.55        42\n",
      "           5       0.79      0.78      0.78       227\n",
      "           6       0.88      0.82      0.85       487\n",
      "           7       0.91      0.95      0.93       110\n",
      "           8       0.85      0.85      0.85       163\n",
      "           9       0.78      0.85      0.82       353\n",
      "          10       0.63      0.64      0.63        50\n",
      "          11       0.65      0.66      0.65       125\n",
      "          12       0.78      0.87      0.82       284\n",
      "          13       0.49      0.59      0.54        54\n",
      "          14       0.15      0.07      0.10        80\n",
      "          15       0.69      0.71      0.70       189\n",
      "          16       0.82      0.76      0.79        59\n",
      "          17       0.72      0.65      0.68        80\n",
      "          18       0.90      0.85      0.87       277\n",
      "          19       0.58      0.66      0.62        74\n",
      "          20       0.99      0.98      0.99       232\n",
      "          21       0.84      0.68      0.75       198\n",
      "          22       0.94      0.96      0.95       843\n",
      "          23       0.86      0.67      0.75         9\n",
      "          24       0.65      0.53      0.59        45\n",
      "          25       0.75      0.79      0.77       145\n",
      "          26       0.79      0.87      0.82       403\n",
      "          27       0.14      0.10      0.12        10\n",
      "          28       0.65      0.82      0.73        62\n",
      "          29       0.06      0.05      0.05        65\n",
      "          30       0.85      0.84      0.85       965\n",
      "          31       0.63      0.61      0.62        70\n",
      "\n",
      "    accuracy                           0.81      6371\n",
      "   macro avg       0.70      0.69      0.69      6371\n",
      "weighted avg       0.81      0.81      0.81      6371\n",
      "\n",
      "\n",
      "Epoch 14/20\n"
     ]
    },
    {
     "name": "stderr",
     "output_type": "stream",
     "text": [
      "Training: 100%|██████████| 377/377 [16:08<00:00,  2.57s/it, loss=0.1151]\n"
     ]
    },
    {
     "name": "stdout",
     "output_type": "stream",
     "text": [
      "Average training loss: 0.1117\n"
     ]
    },
    {
     "name": "stderr",
     "output_type": "stream",
     "text": [
      "Evaluating: 100%|██████████| 50/50 [00:48<00:00,  1.04it/s]\n"
     ]
    },
    {
     "name": "stdout",
     "output_type": "stream",
     "text": [
      "\n",
      "Evaluation Results:\n",
      "Accuracy: 0.8112\n",
      "\n",
      "Classification Report:\n",
      "              precision    recall  f1-score   support\n",
      "\n",
      "           0       0.78      0.81      0.80       325\n",
      "           1       0.44      0.50      0.47        24\n",
      "           2       0.76      0.72      0.74       154\n",
      "           3       0.71      0.85      0.77       167\n",
      "           4       0.60      0.36      0.45        42\n",
      "           5       0.84      0.76      0.80       227\n",
      "           6       0.86      0.86      0.86       487\n",
      "           7       0.90      0.96      0.93       110\n",
      "           8       0.83      0.83      0.83       163\n",
      "           9       0.77      0.82      0.79       353\n",
      "          10       0.61      0.66      0.63        50\n",
      "          11       0.61      0.66      0.63       125\n",
      "          12       0.79      0.84      0.81       284\n",
      "          13       0.48      0.52      0.50        54\n",
      "          14       0.18      0.07      0.11        80\n",
      "          15       0.73      0.69      0.71       189\n",
      "          16       0.81      0.73      0.77        59\n",
      "          17       0.74      0.68      0.71        80\n",
      "          18       0.88      0.85      0.86       277\n",
      "          19       0.66      0.57      0.61        74\n",
      "          20       1.00      0.98      0.99       232\n",
      "          21       0.77      0.75      0.76       198\n",
      "          22       0.94      0.96      0.95       843\n",
      "          23       1.00      0.44      0.62         9\n",
      "          24       0.62      0.51      0.56        45\n",
      "          25       0.83      0.80      0.81       145\n",
      "          26       0.81      0.82      0.81       403\n",
      "          27       0.20      0.20      0.20        10\n",
      "          28       0.67      0.81      0.73        62\n",
      "          29       0.09      0.06      0.07        65\n",
      "          30       0.85      0.89      0.87       965\n",
      "          31       0.62      0.54      0.58        70\n",
      "\n",
      "    accuracy                           0.81      6371\n",
      "   macro avg       0.70      0.67      0.68      6371\n",
      "weighted avg       0.80      0.81      0.81      6371\n",
      "\n",
      "\n",
      "Epoch 15/20\n"
     ]
    },
    {
     "name": "stderr",
     "output_type": "stream",
     "text": [
      "Training: 100%|██████████| 377/377 [16:08<00:00,  2.57s/it, loss=0.1445]\n"
     ]
    },
    {
     "name": "stdout",
     "output_type": "stream",
     "text": [
      "Average training loss: 0.1025\n"
     ]
    },
    {
     "name": "stderr",
     "output_type": "stream",
     "text": [
      "Evaluating: 100%|██████████| 50/50 [00:48<00:00,  1.04it/s]\n"
     ]
    },
    {
     "name": "stdout",
     "output_type": "stream",
     "text": [
      "\n",
      "Evaluation Results:\n",
      "Accuracy: 0.8131\n",
      "\n",
      "Classification Report:\n",
      "              precision    recall  f1-score   support\n",
      "\n",
      "           0       0.85      0.76      0.80       325\n",
      "           1       0.50      0.54      0.52        24\n",
      "           2       0.75      0.80      0.77       154\n",
      "           3       0.75      0.85      0.80       167\n",
      "           4       0.54      0.48      0.51        42\n",
      "           5       0.82      0.83      0.83       227\n",
      "           6       0.84      0.88      0.86       487\n",
      "           7       0.88      0.96      0.92       110\n",
      "           8       0.87      0.81      0.84       163\n",
      "           9       0.80      0.79      0.80       353\n",
      "          10       0.58      0.62      0.60        50\n",
      "          11       0.62      0.67      0.64       125\n",
      "          12       0.80      0.77      0.79       284\n",
      "          13       0.53      0.61      0.57        54\n",
      "          14       0.20      0.06      0.10        80\n",
      "          15       0.69      0.74      0.71       189\n",
      "          16       0.76      0.76      0.76        59\n",
      "          17       0.80      0.54      0.64        80\n",
      "          18       0.80      0.87      0.83       277\n",
      "          19       0.60      0.59      0.60        74\n",
      "          20       1.00      0.98      0.99       232\n",
      "          21       0.84      0.71      0.77       198\n",
      "          22       0.95      0.95      0.95       843\n",
      "          23       1.00      0.44      0.62         9\n",
      "          24       0.64      0.47      0.54        45\n",
      "          25       0.87      0.78      0.82       145\n",
      "          26       0.80      0.85      0.82       403\n",
      "          27       0.25      0.20      0.22        10\n",
      "          28       0.64      0.89      0.74        62\n",
      "          29       0.12      0.09      0.11        65\n",
      "          30       0.84      0.90      0.87       965\n",
      "          31       0.65      0.53      0.58        70\n",
      "\n",
      "    accuracy                           0.81      6371\n",
      "   macro avg       0.71      0.68      0.68      6371\n",
      "weighted avg       0.81      0.81      0.81      6371\n",
      "\n",
      "\n",
      "Epoch 16/20\n"
     ]
    },
    {
     "name": "stderr",
     "output_type": "stream",
     "text": [
      "Training: 100%|██████████| 377/377 [16:08<00:00,  2.57s/it, loss=0.1381]\n"
     ]
    },
    {
     "name": "stdout",
     "output_type": "stream",
     "text": [
      "Average training loss: 0.0938\n"
     ]
    },
    {
     "name": "stderr",
     "output_type": "stream",
     "text": [
      "Evaluating: 100%|██████████| 50/50 [00:48<00:00,  1.04it/s]\n"
     ]
    },
    {
     "name": "stdout",
     "output_type": "stream",
     "text": [
      "\n",
      "Evaluation Results:\n",
      "Accuracy: 0.8109\n",
      "\n",
      "Classification Report:\n",
      "              precision    recall  f1-score   support\n",
      "\n",
      "           0       0.78      0.80      0.79       325\n",
      "           1       0.48      0.58      0.53        24\n",
      "           2       0.79      0.71      0.75       154\n",
      "           3       0.78      0.85      0.81       167\n",
      "           4       0.50      0.48      0.49        42\n",
      "           5       0.79      0.81      0.80       227\n",
      "           6       0.84      0.90      0.87       487\n",
      "           7       0.90      0.95      0.92       110\n",
      "           8       0.85      0.81      0.83       163\n",
      "           9       0.79      0.81      0.80       353\n",
      "          10       0.62      0.70      0.66        50\n",
      "          11       0.68      0.64      0.66       125\n",
      "          12       0.82      0.75      0.79       284\n",
      "          13       0.49      0.63      0.55        54\n",
      "          14       0.17      0.06      0.09        80\n",
      "          15       0.67      0.70      0.68       189\n",
      "          16       0.75      0.83      0.79        59\n",
      "          17       0.72      0.62      0.67        80\n",
      "          18       0.82      0.88      0.85       277\n",
      "          19       0.64      0.59      0.62        74\n",
      "          20       0.99      0.97      0.98       232\n",
      "          21       0.81      0.74      0.77       198\n",
      "          22       0.94      0.96      0.95       843\n",
      "          23       1.00      0.56      0.71         9\n",
      "          24       0.57      0.51      0.54        45\n",
      "          25       0.87      0.77      0.81       145\n",
      "          26       0.81      0.81      0.81       403\n",
      "          27       0.33      0.30      0.32        10\n",
      "          28       0.66      0.84      0.74        62\n",
      "          29       0.10      0.11      0.10        65\n",
      "          30       0.87      0.87      0.87       965\n",
      "          31       0.61      0.59      0.60        70\n",
      "\n",
      "    accuracy                           0.81      6371\n",
      "   macro avg       0.70      0.69      0.69      6371\n",
      "weighted avg       0.81      0.81      0.81      6371\n",
      "\n",
      "\n",
      "Epoch 17/20\n"
     ]
    },
    {
     "name": "stderr",
     "output_type": "stream",
     "text": [
      "Training: 100%|██████████| 377/377 [16:08<00:00,  2.57s/it, loss=0.0385]\n"
     ]
    },
    {
     "name": "stdout",
     "output_type": "stream",
     "text": [
      "Average training loss: 0.0870\n"
     ]
    },
    {
     "name": "stderr",
     "output_type": "stream",
     "text": [
      "Evaluating: 100%|██████████| 50/50 [00:48<00:00,  1.04it/s]\n"
     ]
    },
    {
     "name": "stdout",
     "output_type": "stream",
     "text": [
      "\n",
      "Evaluation Results:\n",
      "Accuracy: 0.8093\n",
      "\n",
      "Classification Report:\n",
      "              precision    recall  f1-score   support\n",
      "\n",
      "           0       0.84      0.75      0.79       325\n",
      "           1       0.50      0.62      0.56        24\n",
      "           2       0.69      0.80      0.74       154\n",
      "           3       0.78      0.80      0.79       167\n",
      "           4       0.51      0.55      0.53        42\n",
      "           5       0.79      0.80      0.79       227\n",
      "           6       0.85      0.87      0.86       487\n",
      "           7       0.91      0.96      0.94       110\n",
      "           8       0.85      0.80      0.82       163\n",
      "           9       0.82      0.80      0.81       353\n",
      "          10       0.62      0.58      0.60        50\n",
      "          11       0.61      0.70      0.65       125\n",
      "          12       0.81      0.80      0.81       284\n",
      "          13       0.55      0.59      0.57        54\n",
      "          14       0.20      0.07      0.11        80\n",
      "          15       0.72      0.70      0.71       189\n",
      "          16       0.77      0.80      0.78        59\n",
      "          17       0.68      0.76      0.72        80\n",
      "          18       0.83      0.87      0.85       277\n",
      "          19       0.56      0.70      0.62        74\n",
      "          20       0.99      0.98      0.98       232\n",
      "          21       0.83      0.67      0.74       198\n",
      "          22       0.94      0.96      0.95       843\n",
      "          23       1.00      0.56      0.71         9\n",
      "          24       0.58      0.56      0.57        45\n",
      "          25       0.85      0.77      0.81       145\n",
      "          26       0.80      0.84      0.82       403\n",
      "          27       0.18      0.20      0.19        10\n",
      "          28       0.67      0.82      0.74        62\n",
      "          29       0.08      0.08      0.08        65\n",
      "          30       0.86      0.86      0.86       965\n",
      "          31       0.58      0.61      0.60        70\n",
      "\n",
      "    accuracy                           0.81      6371\n",
      "   macro avg       0.70      0.69      0.69      6371\n",
      "weighted avg       0.81      0.81      0.81      6371\n",
      "\n",
      "\n",
      "Epoch 18/20\n"
     ]
    },
    {
     "name": "stderr",
     "output_type": "stream",
     "text": [
      "Training: 100%|██████████| 377/377 [16:07<00:00,  2.57s/it, loss=0.0885]\n"
     ]
    },
    {
     "name": "stdout",
     "output_type": "stream",
     "text": [
      "Average training loss: 0.0796\n"
     ]
    },
    {
     "name": "stderr",
     "output_type": "stream",
     "text": [
      "Evaluating: 100%|██████████| 50/50 [00:48<00:00,  1.04it/s]\n"
     ]
    },
    {
     "name": "stdout",
     "output_type": "stream",
     "text": [
      "\n",
      "Evaluation Results:\n",
      "Accuracy: 0.8076\n",
      "\n",
      "Classification Report:\n",
      "              precision    recall  f1-score   support\n",
      "\n",
      "           0       0.81      0.77      0.79       325\n",
      "           1       0.50      0.50      0.50        24\n",
      "           2       0.67      0.81      0.73       154\n",
      "           3       0.74      0.82      0.78       167\n",
      "           4       0.55      0.43      0.48        42\n",
      "           5       0.83      0.81      0.82       227\n",
      "           6       0.87      0.86      0.86       487\n",
      "           7       0.89      0.96      0.93       110\n",
      "           8       0.83      0.83      0.83       163\n",
      "           9       0.78      0.85      0.81       353\n",
      "          10       0.57      0.66      0.61        50\n",
      "          11       0.66      0.59      0.62       125\n",
      "          12       0.78      0.81      0.80       284\n",
      "          13       0.51      0.63      0.56        54\n",
      "          14       0.14      0.05      0.07        80\n",
      "          15       0.70      0.70      0.70       189\n",
      "          16       0.80      0.76      0.78        59\n",
      "          17       0.64      0.68      0.65        80\n",
      "          18       0.84      0.87      0.85       277\n",
      "          19       0.63      0.59      0.61        74\n",
      "          20       0.99      0.97      0.98       232\n",
      "          21       0.86      0.65      0.74       198\n",
      "          22       0.94      0.95      0.95       843\n",
      "          23       1.00      0.56      0.71         9\n",
      "          24       0.76      0.42      0.54        45\n",
      "          25       0.86      0.79      0.82       145\n",
      "          26       0.76      0.86      0.81       403\n",
      "          27       0.08      0.10      0.09        10\n",
      "          28       0.67      0.68      0.67        62\n",
      "          29       0.09      0.06      0.07        65\n",
      "          30       0.86      0.86      0.86       965\n",
      "          31       0.57      0.67      0.62        70\n",
      "\n",
      "    accuracy                           0.81      6371\n",
      "   macro avg       0.69      0.67      0.68      6371\n",
      "weighted avg       0.80      0.81      0.80      6371\n",
      "\n",
      "\n",
      "Epoch 19/20\n"
     ]
    },
    {
     "name": "stderr",
     "output_type": "stream",
     "text": [
      "Training: 100%|██████████| 377/377 [16:08<00:00,  2.57s/it, loss=0.0361]\n"
     ]
    },
    {
     "name": "stdout",
     "output_type": "stream",
     "text": [
      "Average training loss: 0.0757\n"
     ]
    },
    {
     "name": "stderr",
     "output_type": "stream",
     "text": [
      "Evaluating: 100%|██████████| 50/50 [00:48<00:00,  1.04it/s]\n"
     ]
    },
    {
     "name": "stdout",
     "output_type": "stream",
     "text": [
      "\n",
      "Evaluation Results:\n",
      "Accuracy: 0.8120\n",
      "\n",
      "Classification Report:\n",
      "              precision    recall  f1-score   support\n",
      "\n",
      "           0       0.83      0.76      0.80       325\n",
      "           1       0.54      0.62      0.58        24\n",
      "           2       0.69      0.82      0.75       154\n",
      "           3       0.75      0.82      0.79       167\n",
      "           4       0.65      0.48      0.55        42\n",
      "           5       0.85      0.74      0.80       227\n",
      "           6       0.87      0.87      0.87       487\n",
      "           7       0.90      0.95      0.93       110\n",
      "           8       0.86      0.84      0.85       163\n",
      "           9       0.78      0.83      0.80       353\n",
      "          10       0.60      0.64      0.62        50\n",
      "          11       0.66      0.62      0.64       125\n",
      "          12       0.78      0.81      0.80       284\n",
      "          13       0.54      0.46      0.50        54\n",
      "          14       0.18      0.09      0.12        80\n",
      "          15       0.69      0.70      0.70       189\n",
      "          16       0.79      0.81      0.80        59\n",
      "          17       0.62      0.72      0.67        80\n",
      "          18       0.85      0.87      0.86       277\n",
      "          19       0.62      0.62      0.62        74\n",
      "          20       0.99      0.98      0.99       232\n",
      "          21       0.83      0.66      0.73       198\n",
      "          22       0.95      0.96      0.95       843\n",
      "          23       1.00      0.44      0.62         9\n",
      "          24       0.70      0.51      0.59        45\n",
      "          25       0.83      0.80      0.82       145\n",
      "          26       0.78      0.86      0.81       403\n",
      "          27       0.20      0.10      0.13        10\n",
      "          28       0.66      0.84      0.74        62\n",
      "          29       0.03      0.02      0.02        65\n",
      "          30       0.84      0.89      0.87       965\n",
      "          31       0.59      0.51      0.55        70\n",
      "\n",
      "    accuracy                           0.81      6371\n",
      "   macro avg       0.70      0.68      0.68      6371\n",
      "weighted avg       0.80      0.81      0.81      6371\n",
      "\n",
      "\n",
      "Epoch 20/20\n"
     ]
    },
    {
     "name": "stderr",
     "output_type": "stream",
     "text": [
      "Training: 100%|██████████| 377/377 [16:08<00:00,  2.57s/it, loss=0.0944]\n"
     ]
    },
    {
     "name": "stdout",
     "output_type": "stream",
     "text": [
      "Average training loss: 0.0768\n"
     ]
    },
    {
     "name": "stderr",
     "output_type": "stream",
     "text": [
      "Evaluating: 100%|██████████| 50/50 [00:48<00:00,  1.04it/s]"
     ]
    },
    {
     "name": "stdout",
     "output_type": "stream",
     "text": [
      "\n",
      "Evaluation Results:\n",
      "Accuracy: 0.8142\n",
      "\n",
      "Classification Report:\n",
      "              precision    recall  f1-score   support\n",
      "\n",
      "           0       0.85      0.73      0.79       325\n",
      "           1       0.55      0.46      0.50        24\n",
      "           2       0.70      0.81      0.75       154\n",
      "           3       0.80      0.81      0.81       167\n",
      "           4       0.50      0.60      0.54        42\n",
      "           5       0.82      0.81      0.82       227\n",
      "           6       0.85      0.87      0.86       487\n",
      "           7       0.90      0.96      0.93       110\n",
      "           8       0.85      0.87      0.86       163\n",
      "           9       0.79      0.79      0.79       353\n",
      "          10       0.61      0.68      0.64        50\n",
      "          11       0.64      0.67      0.65       125\n",
      "          12       0.78      0.85      0.81       284\n",
      "          13       0.49      0.61      0.55        54\n",
      "          14       0.15      0.07      0.10        80\n",
      "          15       0.71      0.71      0.71       189\n",
      "          16       0.83      0.76      0.80        59\n",
      "          17       0.68      0.62      0.65        80\n",
      "          18       0.85      0.86      0.86       277\n",
      "          19       0.58      0.59      0.59        74\n",
      "          20       1.00      0.98      0.99       232\n",
      "          21       0.87      0.66      0.75       198\n",
      "          22       0.93      0.96      0.94       843\n",
      "          23       1.00      0.44      0.62         9\n",
      "          24       0.74      0.44      0.56        45\n",
      "          25       0.88      0.79      0.83       145\n",
      "          26       0.79      0.88      0.83       403\n",
      "          27       0.22      0.20      0.21        10\n",
      "          28       0.68      0.77      0.72        62\n",
      "          29       0.09      0.06      0.07        65\n",
      "          30       0.86      0.88      0.87       965\n",
      "          31       0.65      0.60      0.62        70\n",
      "\n",
      "    accuracy                           0.81      6371\n",
      "   macro avg       0.71      0.68      0.69      6371\n",
      "weighted avg       0.81      0.81      0.81      6371\n",
      "\n"
     ]
    },
    {
     "name": "stderr",
     "output_type": "stream",
     "text": [
      "\n"
     ]
    }
   ],
   "source": [
    "train_model(train_dataloader, eval_dataloader, model, device)"
   ]
  },
  {
   "cell_type": "markdown",
   "id": "18361761",
   "metadata": {
    "papermill": {
     "duration": null,
     "end_time": null,
     "exception": null,
     "start_time": null,
     "status": "pending"
    },
    "tags": []
   },
   "source": [
    "# Evaluating"
   ]
  },
  {
   "cell_type": "code",
   "execution_count": 8,
   "id": "c3951659-d3ca-4b65-b54c-b41a9dd4852b",
   "metadata": {
    "execution": {
     "iopub.execute_input": "2024-12-31T03:02:47.507314Z",
     "iopub.status.busy": "2024-12-31T03:02:47.507027Z",
     "iopub.status.idle": "2024-12-31T03:02:47.587583Z",
     "shell.execute_reply": "2024-12-31T03:02:47.586478Z",
     "shell.execute_reply.started": "2024-12-31T03:02:47.507289Z"
    },
    "trusted": true
   },
   "outputs": [
    {
     "name": "stdout",
     "output_type": "stream",
     "text": [
      "Using device: cuda\n"
     ]
    }
   ],
   "source": [
    "device = torch.device(\"cuda\" if torch.cuda.is_available() else \"cpu\")\n",
    "print(f\"Using device: {device}\")"
   ]
  },
  {
   "cell_type": "code",
   "execution_count": 9,
   "id": "8144839b-d762-4c64-9b35-55d6c0563aab",
   "metadata": {
    "execution": {
     "iopub.execute_input": "2024-12-31T03:02:56.234334Z",
     "iopub.status.busy": "2024-12-31T03:02:56.234046Z",
     "iopub.status.idle": "2024-12-31T03:02:56.395905Z",
     "shell.execute_reply": "2024-12-31T03:02:56.395141Z",
     "shell.execute_reply.started": "2024-12-31T03:02:56.234311Z"
    },
    "trusted": true
   },
   "outputs": [
    {
     "name": "stdout",
     "output_type": "stream",
     "text": [
      "\n",
      "Test samples: 6369\n"
     ]
    }
   ],
   "source": [
    "test_samples = load_and_process_data(\"/kaggle/working/test_dials.json\")\n",
    "print(f\"\\nTest samples: {len(test_samples)}\")"
   ]
  },
  {
   "cell_type": "code",
   "execution_count": 10,
   "id": "563fb34f-6ab2-47cf-866d-0d1ea1b82b19",
   "metadata": {
    "execution": {
     "iopub.execute_input": "2024-12-31T03:03:06.267724Z",
     "iopub.status.busy": "2024-12-31T03:03:06.267428Z",
     "iopub.status.idle": "2024-12-31T03:03:07.276578Z",
     "shell.execute_reply": "2024-12-31T03:03:07.275823Z",
     "shell.execute_reply.started": "2024-12-31T03:03:06.267700Z"
    },
    "trusted": true
   },
   "outputs": [
    {
     "data": {
      "application/vnd.jupyter.widget-view+json": {
       "model_id": "cc49d960b1624509af9e3b1353d10787",
       "version_major": 2,
       "version_minor": 0
      },
      "text/plain": [
       "tokenizer_config.json:   0%|          | 0.00/48.0 [00:00<?, ?B/s]"
      ]
     },
     "metadata": {},
     "output_type": "display_data"
    },
    {
     "data": {
      "application/vnd.jupyter.widget-view+json": {
       "model_id": "0c1f10b8e6854cd6a4c0d431f56ecc2e",
       "version_major": 2,
       "version_minor": 0
      },
      "text/plain": [
       "vocab.txt:   0%|          | 0.00/232k [00:00<?, ?B/s]"
      ]
     },
     "metadata": {},
     "output_type": "display_data"
    },
    {
     "data": {
      "application/vnd.jupyter.widget-view+json": {
       "model_id": "41450ec5c2a94bf8a91d43be49a78902",
       "version_major": 2,
       "version_minor": 0
      },
      "text/plain": [
       "tokenizer.json:   0%|          | 0.00/466k [00:00<?, ?B/s]"
      ]
     },
     "metadata": {},
     "output_type": "display_data"
    },
    {
     "data": {
      "application/vnd.jupyter.widget-view+json": {
       "model_id": "e81ec77dcf2a4bd6b7fa36ae63395b63",
       "version_major": 2,
       "version_minor": 0
      },
      "text/plain": [
       "config.json:   0%|          | 0.00/570 [00:00<?, ?B/s]"
      ]
     },
     "metadata": {},
     "output_type": "display_data"
    },
    {
     "name": "stderr",
     "output_type": "stream",
     "text": [
      "/usr/local/lib/python3.10/dist-packages/transformers/tokenization_utils_base.py:1601: FutureWarning: `clean_up_tokenization_spaces` was not set. It will be set to `True` by default. This behavior will be depracted in transformers v4.45, and will be then set to `False` by default. For more details check this issue: https://github.com/huggingface/transformers/issues/31884\n",
      "  warnings.warn(\n"
     ]
    }
   ],
   "source": [
    "tokenizer = BertTokenizer.from_pretrained('bert-base-uncased')\n",
    "\n",
    "test_dataset = DialogueActDataset(test_samples, tokenizer)"
   ]
  },
  {
   "cell_type": "code",
   "execution_count": 11,
   "id": "e52aa68b-4bb1-47eb-b51c-eeb02a391215",
   "metadata": {
    "execution": {
     "iopub.execute_input": "2024-12-31T03:03:18.362397Z",
     "iopub.status.busy": "2024-12-31T03:03:18.362089Z",
     "iopub.status.idle": "2024-12-31T03:03:24.892228Z",
     "shell.execute_reply": "2024-12-31T03:03:24.891525Z",
     "shell.execute_reply.started": "2024-12-31T03:03:18.362362Z"
    },
    "trusted": true
   },
   "outputs": [],
   "source": [
    "model = BertForSequenceClassification.from_pretrained('/kaggle/input/dialogueactdetection/transformers/default/1').to(device)\n",
    "label_encoder = test_dataset.label_encoder"
   ]
  },
  {
   "cell_type": "code",
   "execution_count": 12,
   "id": "a067eeb2-24ab-494c-bae6-35dc9256e269",
   "metadata": {
    "execution": {
     "iopub.execute_input": "2024-12-31T03:03:28.583913Z",
     "iopub.status.busy": "2024-12-31T03:03:28.583614Z",
     "iopub.status.idle": "2024-12-31T03:04:11.242180Z",
     "shell.execute_reply": "2024-12-31T03:04:11.241356Z",
     "shell.execute_reply.started": "2024-12-31T03:03:28.583890Z"
    },
    "trusted": true
   },
   "outputs": [
    {
     "name": "stderr",
     "output_type": "stream",
     "text": [
      "Evaluating: 100%|██████████| 13/13 [00:42<00:00,  3.28s/it]"
     ]
    },
    {
     "name": "stdout",
     "output_type": "stream",
     "text": [
      "\n",
      "Classification Report:\n",
      "                      precision    recall  f1-score   support\n",
      "\n",
      "   Attraction-Inform       0.81      0.82      0.81       342\n",
      "  Attraction-NoOffer       0.71      0.76      0.74        33\n",
      "Attraction-Recommend       0.75      0.74      0.74       143\n",
      "  Attraction-Request       0.81      0.84      0.82       159\n",
      "   Attraction-Select       0.65      0.66      0.65        50\n",
      "        Booking-Book       0.82      0.86      0.84       216\n",
      "      Booking-Inform       0.86      0.88      0.87       482\n",
      "      Booking-NoBook       0.96      0.95      0.96       129\n",
      "     Booking-Request       0.84      0.90      0.87       175\n",
      "        Hotel-Inform       0.81      0.81      0.81       338\n",
      "       Hotel-NoOffer       0.74      0.84      0.79        44\n",
      "     Hotel-Recommend       0.78      0.63      0.70       138\n",
      "       Hotel-Request       0.79      0.87      0.83       271\n",
      "        Hotel-Select       0.67      0.77      0.72        66\n",
      "       No Annotation       0.48      0.16      0.24        77\n",
      "   Restaurant-Inform       0.77      0.67      0.71       192\n",
      "  Restaurant-NoOffer       0.66      0.89      0.75        45\n",
      "Restaurant-Recommend       0.64      0.69      0.66        70\n",
      "  Restaurant-Request       0.92      0.81      0.86       294\n",
      "   Restaurant-Select       0.69      0.67      0.68        85\n",
      "         Taxi-Inform       1.00      1.00      1.00       217\n",
      "        Taxi-Request       0.74      0.78      0.76       171\n",
      "        Train-Inform       0.94      0.97      0.96       901\n",
      "       Train-NoOffer       0.78      0.88      0.82         8\n",
      "     Train-OfferBook       0.57      0.43      0.49        56\n",
      "   Train-OfferBooked       0.87      0.78      0.82       117\n",
      "       Train-Request       0.80      0.84      0.82       401\n",
      "        Train-Select       0.00      0.00      0.00         5\n",
      "         general-bye       0.68      0.96      0.80        54\n",
      "       general-greet       0.33      0.01      0.02        86\n",
      "     general-reqmore       0.84      0.92      0.88       939\n",
      "     general-welcome       0.74      0.52      0.61        65\n",
      "\n",
      "            accuracy                           0.83      6369\n",
      "           macro avg       0.73      0.73      0.72      6369\n",
      "        weighted avg       0.82      0.83      0.82      6369\n",
      "\n"
     ]
    },
    {
     "name": "stderr",
     "output_type": "stream",
     "text": [
      "\n",
      "/usr/local/lib/python3.10/dist-packages/sklearn/metrics/_classification.py:1344: UndefinedMetricWarning: Precision and F-score are ill-defined and being set to 0.0 in labels with no predicted samples. Use `zero_division` parameter to control this behavior.\n",
      "  _warn_prf(average, modifier, msg_start, len(result))\n",
      "/usr/local/lib/python3.10/dist-packages/sklearn/metrics/_classification.py:1344: UndefinedMetricWarning: Precision and F-score are ill-defined and being set to 0.0 in labels with no predicted samples. Use `zero_division` parameter to control this behavior.\n",
      "  _warn_prf(average, modifier, msg_start, len(result))\n",
      "/usr/local/lib/python3.10/dist-packages/sklearn/metrics/_classification.py:1344: UndefinedMetricWarning: Precision and F-score are ill-defined and being set to 0.0 in labels with no predicted samples. Use `zero_division` parameter to control this behavior.\n",
      "  _warn_prf(average, modifier, msg_start, len(result))\n"
     ]
    }
   ],
   "source": [
    "test_dataloader = DataLoader(test_dataset, batch_size=512)\n",
    "true_labels, predicted_labels = evaluate_model(model, test_dataloader, device)\n",
    "\n",
    "print(\"\\nClassification Report:\")\n",
    "print(classification_report(true_labels, predicted_labels, target_names=label_encoder.classes_))"
   ]
  },
  {
   "cell_type": "code",
   "execution_count": 17,
   "id": "071e6021-46ef-4f67-b38c-cc40647d9ca7",
   "metadata": {
    "execution": {
     "iopub.execute_input": "2024-12-31T03:06:23.420962Z",
     "iopub.status.busy": "2024-12-31T03:06:23.420642Z",
     "iopub.status.idle": "2024-12-31T03:06:23.439896Z",
     "shell.execute_reply": "2024-12-31T03:06:23.439206Z",
     "shell.execute_reply.started": "2024-12-31T03:06:23.420932Z"
    },
    "trusted": true
   },
   "outputs": [
    {
     "name": "stdout",
     "output_type": "stream",
     "text": [
      "\n",
      "Accuracy: 0.833254828073481\n",
      "F1 Score (Weighted): 0.8237818733166952\n"
     ]
    }
   ],
   "source": [
    "from sklearn.metrics import accuracy_score, f1_score\n",
    "\n",
    "accuracy = accuracy_score(true_labels, predicted_labels)\n",
    "f1 = f1_score(true_labels, predicted_labels, average='weighted')  \n",
    "\n",
    "print(\"\\nAccuracy:\", accuracy)\n",
    "print(\"F1 Score (Weighted):\", f1)"
   ]
  },
  {
   "cell_type": "code",
   "execution_count": 15,
   "id": "207f0655-47df-43ca-9a37-f9f40242a2a6",
   "metadata": {
    "execution": {
     "iopub.execute_input": "2024-12-31T03:06:00.180808Z",
     "iopub.status.busy": "2024-12-31T03:06:00.180494Z",
     "iopub.status.idle": "2024-12-31T03:06:00.283830Z",
     "shell.execute_reply": "2024-12-31T03:06:00.282647Z",
     "shell.execute_reply.started": "2024-12-31T03:06:00.180784Z"
    },
    "trusted": true
   },
   "outputs": [],
   "source": [
    "import random\n",
    "random_samples = random.sample(test_samples, 10)\n",
    "random_texts = [x for x, _ in random_samples]\n",
    "random_real_acts = [y for _, y in random_samples]\n",
    "\n",
    "predicted_acts = predict_new_texts(random_texts, model, tokenizer, label_encoder, device)"
   ]
  },
  {
   "cell_type": "code",
   "execution_count": 16,
   "id": "a1909dfe-84ef-4fec-ba75-9989af160bfb",
   "metadata": {
    "execution": {
     "iopub.execute_input": "2024-12-31T03:06:01.921006Z",
     "iopub.status.busy": "2024-12-31T03:06:01.920709Z",
     "iopub.status.idle": "2024-12-31T03:06:01.930156Z",
     "shell.execute_reply": "2024-12-31T03:06:01.929221Z",
     "shell.execute_reply.started": "2024-12-31T03:06:01.920982Z"
    },
    "trusted": true
   },
   "outputs": [
    {
     "name": "stdout",
     "output_type": "stream",
     "text": [
      "\n",
      "Utterance 1: i am so sorry about any confusion . i have asian oriental food at yippee noodle bar , and british food such as the oak bistro .\n",
      "Real act: {'Restaurant-Inform': [['Name', 'Yippee Noodle Bar'], ['Name', ' The Oak Bistro'], ['Food', 'asian oriental'], ['Food', ' British']]}\n",
      "Predicted act: Restaurant-Inform\n",
      "\n",
      "Utterance 2: here is your booking information:booking was successful . the table will be reserved for 15 minutes . reference number is : b162fv8d .\n",
      "Real act: {'Booking-Book': [['Ref', 'B162FV8D']]}\n",
      "Predicted act: Booking-Book\n",
      "\n",
      "Utterance 3: we have 2 option for you . we have the ashley hotel and the lovell hotel . both have your commendations you want .\n",
      "Real act: {'Hotel-Inform': [['Name', 'ashley hotel'], ['Name', ' the lovell hotel'], ['Choice', 'two'], ['Choice', ' Both']]}\n",
      "Predicted act: Hotel-Inform\n",
      "\n",
      "Utterance 4: there are 7 museums , i would recommend cambridge book and print gallery .\n",
      "Real act: {'Attraction-Recommend': [['Name', 'cambridge book and print gallery']], 'Attraction-Inform': [['Type', 'museums'], ['Choice', '7']]}\n",
      "Predicted act: Attraction-Recommend\n",
      "\n",
      "Utterance 5: there are 7 guest houses that meet your criteria . might i recommend alexander bed and breakfast ?\n",
      "Real act: {'Hotel-Recommend': [['Name', 'alexander bed and breakfast']], 'Hotel-Inform': [['Choice', '7'], ['Type', 'guesthouse']]}\n",
      "Predicted act: Hotel-Recommend\n",
      "\n",
      "Utterance 6: sv6ezz21 is your reference number for that booking . is there anything else i can do ?\n",
      "Real act: {'general-reqmore': [['none', 'none']], 'Booking-Book': [['Ref', 'SV6EZZ21']]}\n",
      "Predicted act: general-reqmore\n",
      "\n",
      "Utterance 7: your train id is tr1180 . am i correct that you will only be needing 1 ticket ?\n",
      "Real act: {'Train-Inform': [['Id', 'TR1180']], 'Train-Request': [['People', '?']]}\n",
      "Predicted act: Train-Inform\n",
      "\n",
      "Utterance 8: reference number is : ipxe2sid . is there anything else ?\n",
      "Real act: {'general-reqmore': [['none', 'none']], 'Booking-Book': [['Ref', 'IPXE2SID']]}\n",
      "Predicted act: general-reqmore\n",
      "\n",
      "Utterance 9: tr2636 arrives at 11:44 . would you like to reserve seats ?\n",
      "Real act: {'Train-Inform': [['Arrive', '11:44'], ['Id', 'TR2636']], 'Train-OfferBook': [['none', 'none']]}\n",
      "Predicted act: Train-Inform\n",
      "\n",
      "Utterance 10: christ s college , corpus christi , king s college , and pembroke college are some of the colleges in that area .\n",
      "Real act: {'Attraction-Inform': [['Type', 'college'], ['Name', \"christ's college\"], ['Name', ' corpus christi'], ['Name', \" king's college\"], ['Name', ' pembroke college']]}\n",
      "Predicted act: Attraction-Inform\n"
     ]
    }
   ],
   "source": [
    "for i, (text, real_act, pred_act) in enumerate(zip(random_texts, random_real_acts, predicted_acts)):\n",
    "    print(f\"\\nUtterance {i + 1}: {text}\")\n",
    "    print(f\"Real act: {real_act}\")\n",
    "    print(f\"Predicted act: {pred_act}\")"
   ]
  }
 ],
 "metadata": {
  "kaggle": {
   "accelerator": "nvidiaTeslaT4",
   "dataSources": [
    {
     "datasetId": 6366394,
     "sourceId": 10287364,
     "sourceType": "datasetVersion"
    },
    {
     "datasetId": 6365418,
     "sourceId": 10287400,
     "sourceType": "datasetVersion"
    },
    {
     "isSourceIdPinned": true,
     "modelId": 201526,
     "modelInstanceId": 179246,
     "sourceId": 210240,
     "sourceType": "modelInstanceVersion"
    }
   ],
   "dockerImageVersionId": 30823,
   "isGpuEnabled": true,
   "isInternetEnabled": true,
   "language": "python",
   "sourceType": "notebook"
  },
  "kernelspec": {
   "display_name": "base",
   "language": "python",
   "name": "python3"
  },
  "language_info": {
   "codemirror_mode": {
    "name": "ipython",
    "version": 3
   },
   "file_extension": ".py",
   "mimetype": "text/x-python",
   "name": "python",
   "nbconvert_exporter": "python",
   "pygments_lexer": "ipython3",
   "version": "3.10.13"
  },
  "papermill": {
   "default_parameters": {},
   "duration": 20416.646829,
   "end_time": "2024-12-26T01:11:04.987321",
   "environment_variables": {},
   "exception": true,
   "input_path": "__notebook__.ipynb",
   "output_path": "__notebook__.ipynb",
   "parameters": {},
   "start_time": "2024-12-25T19:30:48.340492",
   "version": "2.6.0"
  },
  "widgets": {
   "application/vnd.jupyter.widget-state+json": {
    "state": {
     "02bae6807fbe40daa105a4bbe781a87f": {
      "model_module": "@jupyter-widgets/controls",
      "model_module_version": "2.0.0",
      "model_name": "HTMLModel",
      "state": {
       "_dom_classes": [],
       "_model_module": "@jupyter-widgets/controls",
       "_model_module_version": "2.0.0",
       "_model_name": "HTMLModel",
       "_view_count": null,
       "_view_module": "@jupyter-widgets/controls",
       "_view_module_version": "2.0.0",
       "_view_name": "HTMLView",
       "description": "",
       "description_allow_html": false,
       "layout": "IPY_MODEL_cb820d83d7de472087f62b928f0495f5",
       "placeholder": "​",
       "style": "IPY_MODEL_145e79d4ea4e482e81b06a09ccfc3d05",
       "tabbable": null,
       "tooltip": null,
       "value": " 570/570 [00:00&lt;00:00, 64.8kB/s]"
      }
     },
     "0465b3aa22e24a35acb0ec1b1fcd2a1c": {
      "model_module": "@jupyter-widgets/base",
      "model_module_version": "2.0.0",
      "model_name": "LayoutModel",
      "state": {
       "_model_module": "@jupyter-widgets/base",
       "_model_module_version": "2.0.0",
       "_model_name": "LayoutModel",
       "_view_count": null,
       "_view_module": "@jupyter-widgets/base",
       "_view_module_version": "2.0.0",
       "_view_name": "LayoutView",
       "align_content": null,
       "align_items": null,
       "align_self": null,
       "border_bottom": null,
       "border_left": null,
       "border_right": null,
       "border_top": null,
       "bottom": null,
       "display": null,
       "flex": null,
       "flex_flow": null,
       "grid_area": null,
       "grid_auto_columns": null,
       "grid_auto_flow": null,
       "grid_auto_rows": null,
       "grid_column": null,
       "grid_gap": null,
       "grid_row": null,
       "grid_template_areas": null,
       "grid_template_columns": null,
       "grid_template_rows": null,
       "height": null,
       "justify_content": null,
       "justify_items": null,
       "left": null,
       "margin": null,
       "max_height": null,
       "max_width": null,
       "min_height": null,
       "min_width": null,
       "object_fit": null,
       "object_position": null,
       "order": null,
       "overflow": null,
       "padding": null,
       "right": null,
       "top": null,
       "visibility": null,
       "width": null
      }
     },
     "05c0d673b7064bb7a69b4e8b79b088f7": {
      "model_module": "@jupyter-widgets/base",
      "model_module_version": "2.0.0",
      "model_name": "LayoutModel",
      "state": {
       "_model_module": "@jupyter-widgets/base",
       "_model_module_version": "2.0.0",
       "_model_name": "LayoutModel",
       "_view_count": null,
       "_view_module": "@jupyter-widgets/base",
       "_view_module_version": "2.0.0",
       "_view_name": "LayoutView",
       "align_content": null,
       "align_items": null,
       "align_self": null,
       "border_bottom": null,
       "border_left": null,
       "border_right": null,
       "border_top": null,
       "bottom": null,
       "display": null,
       "flex": null,
       "flex_flow": null,
       "grid_area": null,
       "grid_auto_columns": null,
       "grid_auto_flow": null,
       "grid_auto_rows": null,
       "grid_column": null,
       "grid_gap": null,
       "grid_row": null,
       "grid_template_areas": null,
       "grid_template_columns": null,
       "grid_template_rows": null,
       "height": null,
       "justify_content": null,
       "justify_items": null,
       "left": null,
       "margin": null,
       "max_height": null,
       "max_width": null,
       "min_height": null,
       "min_width": null,
       "object_fit": null,
       "object_position": null,
       "order": null,
       "overflow": null,
       "padding": null,
       "right": null,
       "top": null,
       "visibility": null,
       "width": null
      }
     },
     "0b04ca1d9c8e4d9694ee94f62bb68e99": {
      "model_module": "@jupyter-widgets/base",
      "model_module_version": "2.0.0",
      "model_name": "LayoutModel",
      "state": {
       "_model_module": "@jupyter-widgets/base",
       "_model_module_version": "2.0.0",
       "_model_name": "LayoutModel",
       "_view_count": null,
       "_view_module": "@jupyter-widgets/base",
       "_view_module_version": "2.0.0",
       "_view_name": "LayoutView",
       "align_content": null,
       "align_items": null,
       "align_self": null,
       "border_bottom": null,
       "border_left": null,
       "border_right": null,
       "border_top": null,
       "bottom": null,
       "display": null,
       "flex": null,
       "flex_flow": null,
       "grid_area": null,
       "grid_auto_columns": null,
       "grid_auto_flow": null,
       "grid_auto_rows": null,
       "grid_column": null,
       "grid_gap": null,
       "grid_row": null,
       "grid_template_areas": null,
       "grid_template_columns": null,
       "grid_template_rows": null,
       "height": null,
       "justify_content": null,
       "justify_items": null,
       "left": null,
       "margin": null,
       "max_height": null,
       "max_width": null,
       "min_height": null,
       "min_width": null,
       "object_fit": null,
       "object_position": null,
       "order": null,
       "overflow": null,
       "padding": null,
       "right": null,
       "top": null,
       "visibility": null,
       "width": null
      }
     },
     "101a202b9a1d4d23ba5e3fcce043a390": {
      "model_module": "@jupyter-widgets/controls",
      "model_module_version": "2.0.0",
      "model_name": "HTMLModel",
      "state": {
       "_dom_classes": [],
       "_model_module": "@jupyter-widgets/controls",
       "_model_module_version": "2.0.0",
       "_model_name": "HTMLModel",
       "_view_count": null,
       "_view_module": "@jupyter-widgets/controls",
       "_view_module_version": "2.0.0",
       "_view_name": "HTMLView",
       "description": "",
       "description_allow_html": false,
       "layout": "IPY_MODEL_43399faaf0a5472bb0d2709435d787d4",
       "placeholder": "​",
       "style": "IPY_MODEL_6a4bed4e75494058810c54b9c5293407",
       "tabbable": null,
       "tooltip": null,
       "value": " 440M/440M [00:01&lt;00:00, 243MB/s]"
      }
     },
     "1434bcba850d4b7993f4b65291c5772f": {
      "model_module": "@jupyter-widgets/controls",
      "model_module_version": "2.0.0",
      "model_name": "ProgressStyleModel",
      "state": {
       "_model_module": "@jupyter-widgets/controls",
       "_model_module_version": "2.0.0",
       "_model_name": "ProgressStyleModel",
       "_view_count": null,
       "_view_module": "@jupyter-widgets/base",
       "_view_module_version": "2.0.0",
       "_view_name": "StyleView",
       "bar_color": null,
       "description_width": ""
      }
     },
     "145e79d4ea4e482e81b06a09ccfc3d05": {
      "model_module": "@jupyter-widgets/controls",
      "model_module_version": "2.0.0",
      "model_name": "HTMLStyleModel",
      "state": {
       "_model_module": "@jupyter-widgets/controls",
       "_model_module_version": "2.0.0",
       "_model_name": "HTMLStyleModel",
       "_view_count": null,
       "_view_module": "@jupyter-widgets/base",
       "_view_module_version": "2.0.0",
       "_view_name": "StyleView",
       "background": null,
       "description_width": "",
       "font_size": null,
       "text_color": null
      }
     },
     "1578db450951430d9b98d7b8f4270785": {
      "model_module": "@jupyter-widgets/base",
      "model_module_version": "2.0.0",
      "model_name": "LayoutModel",
      "state": {
       "_model_module": "@jupyter-widgets/base",
       "_model_module_version": "2.0.0",
       "_model_name": "LayoutModel",
       "_view_count": null,
       "_view_module": "@jupyter-widgets/base",
       "_view_module_version": "2.0.0",
       "_view_name": "LayoutView",
       "align_content": null,
       "align_items": null,
       "align_self": null,
       "border_bottom": null,
       "border_left": null,
       "border_right": null,
       "border_top": null,
       "bottom": null,
       "display": null,
       "flex": null,
       "flex_flow": null,
       "grid_area": null,
       "grid_auto_columns": null,
       "grid_auto_flow": null,
       "grid_auto_rows": null,
       "grid_column": null,
       "grid_gap": null,
       "grid_row": null,
       "grid_template_areas": null,
       "grid_template_columns": null,
       "grid_template_rows": null,
       "height": null,
       "justify_content": null,
       "justify_items": null,
       "left": null,
       "margin": null,
       "max_height": null,
       "max_width": null,
       "min_height": null,
       "min_width": null,
       "object_fit": null,
       "object_position": null,
       "order": null,
       "overflow": null,
       "padding": null,
       "right": null,
       "top": null,
       "visibility": null,
       "width": null
      }
     },
     "1dd58fd7496c4ee4b4980432d3983446": {
      "model_module": "@jupyter-widgets/base",
      "model_module_version": "2.0.0",
      "model_name": "LayoutModel",
      "state": {
       "_model_module": "@jupyter-widgets/base",
       "_model_module_version": "2.0.0",
       "_model_name": "LayoutModel",
       "_view_count": null,
       "_view_module": "@jupyter-widgets/base",
       "_view_module_version": "2.0.0",
       "_view_name": "LayoutView",
       "align_content": null,
       "align_items": null,
       "align_self": null,
       "border_bottom": null,
       "border_left": null,
       "border_right": null,
       "border_top": null,
       "bottom": null,
       "display": null,
       "flex": null,
       "flex_flow": null,
       "grid_area": null,
       "grid_auto_columns": null,
       "grid_auto_flow": null,
       "grid_auto_rows": null,
       "grid_column": null,
       "grid_gap": null,
       "grid_row": null,
       "grid_template_areas": null,
       "grid_template_columns": null,
       "grid_template_rows": null,
       "height": null,
       "justify_content": null,
       "justify_items": null,
       "left": null,
       "margin": null,
       "max_height": null,
       "max_width": null,
       "min_height": null,
       "min_width": null,
       "object_fit": null,
       "object_position": null,
       "order": null,
       "overflow": null,
       "padding": null,
       "right": null,
       "top": null,
       "visibility": null,
       "width": null
      }
     },
     "1e8c5a07be834806afd8bec646ca85a3": {
      "model_module": "@jupyter-widgets/base",
      "model_module_version": "2.0.0",
      "model_name": "LayoutModel",
      "state": {
       "_model_module": "@jupyter-widgets/base",
       "_model_module_version": "2.0.0",
       "_model_name": "LayoutModel",
       "_view_count": null,
       "_view_module": "@jupyter-widgets/base",
       "_view_module_version": "2.0.0",
       "_view_name": "LayoutView",
       "align_content": null,
       "align_items": null,
       "align_self": null,
       "border_bottom": null,
       "border_left": null,
       "border_right": null,
       "border_top": null,
       "bottom": null,
       "display": null,
       "flex": null,
       "flex_flow": null,
       "grid_area": null,
       "grid_auto_columns": null,
       "grid_auto_flow": null,
       "grid_auto_rows": null,
       "grid_column": null,
       "grid_gap": null,
       "grid_row": null,
       "grid_template_areas": null,
       "grid_template_columns": null,
       "grid_template_rows": null,
       "height": null,
       "justify_content": null,
       "justify_items": null,
       "left": null,
       "margin": null,
       "max_height": null,
       "max_width": null,
       "min_height": null,
       "min_width": null,
       "object_fit": null,
       "object_position": null,
       "order": null,
       "overflow": null,
       "padding": null,
       "right": null,
       "top": null,
       "visibility": null,
       "width": null
      }
     },
     "2202ad1a29ce4dbdba47243a06336e4b": {
      "model_module": "@jupyter-widgets/controls",
      "model_module_version": "2.0.0",
      "model_name": "ProgressStyleModel",
      "state": {
       "_model_module": "@jupyter-widgets/controls",
       "_model_module_version": "2.0.0",
       "_model_name": "ProgressStyleModel",
       "_view_count": null,
       "_view_module": "@jupyter-widgets/base",
       "_view_module_version": "2.0.0",
       "_view_name": "StyleView",
       "bar_color": null,
       "description_width": ""
      }
     },
     "23ff80639253414681a1a18b4d63e82f": {
      "model_module": "@jupyter-widgets/base",
      "model_module_version": "2.0.0",
      "model_name": "LayoutModel",
      "state": {
       "_model_module": "@jupyter-widgets/base",
       "_model_module_version": "2.0.0",
       "_model_name": "LayoutModel",
       "_view_count": null,
       "_view_module": "@jupyter-widgets/base",
       "_view_module_version": "2.0.0",
       "_view_name": "LayoutView",
       "align_content": null,
       "align_items": null,
       "align_self": null,
       "border_bottom": null,
       "border_left": null,
       "border_right": null,
       "border_top": null,
       "bottom": null,
       "display": null,
       "flex": null,
       "flex_flow": null,
       "grid_area": null,
       "grid_auto_columns": null,
       "grid_auto_flow": null,
       "grid_auto_rows": null,
       "grid_column": null,
       "grid_gap": null,
       "grid_row": null,
       "grid_template_areas": null,
       "grid_template_columns": null,
       "grid_template_rows": null,
       "height": null,
       "justify_content": null,
       "justify_items": null,
       "left": null,
       "margin": null,
       "max_height": null,
       "max_width": null,
       "min_height": null,
       "min_width": null,
       "object_fit": null,
       "object_position": null,
       "order": null,
       "overflow": null,
       "padding": null,
       "right": null,
       "top": null,
       "visibility": null,
       "width": null
      }
     },
     "27efc45d7c94478abbf2d4f0ec5d2f89": {
      "model_module": "@jupyter-widgets/base",
      "model_module_version": "2.0.0",
      "model_name": "LayoutModel",
      "state": {
       "_model_module": "@jupyter-widgets/base",
       "_model_module_version": "2.0.0",
       "_model_name": "LayoutModel",
       "_view_count": null,
       "_view_module": "@jupyter-widgets/base",
       "_view_module_version": "2.0.0",
       "_view_name": "LayoutView",
       "align_content": null,
       "align_items": null,
       "align_self": null,
       "border_bottom": null,
       "border_left": null,
       "border_right": null,
       "border_top": null,
       "bottom": null,
       "display": null,
       "flex": null,
       "flex_flow": null,
       "grid_area": null,
       "grid_auto_columns": null,
       "grid_auto_flow": null,
       "grid_auto_rows": null,
       "grid_column": null,
       "grid_gap": null,
       "grid_row": null,
       "grid_template_areas": null,
       "grid_template_columns": null,
       "grid_template_rows": null,
       "height": null,
       "justify_content": null,
       "justify_items": null,
       "left": null,
       "margin": null,
       "max_height": null,
       "max_width": null,
       "min_height": null,
       "min_width": null,
       "object_fit": null,
       "object_position": null,
       "order": null,
       "overflow": null,
       "padding": null,
       "right": null,
       "top": null,
       "visibility": null,
       "width": null
      }
     },
     "296940a1cca442509eb6c47264d04494": {
      "model_module": "@jupyter-widgets/controls",
      "model_module_version": "2.0.0",
      "model_name": "ProgressStyleModel",
      "state": {
       "_model_module": "@jupyter-widgets/controls",
       "_model_module_version": "2.0.0",
       "_model_name": "ProgressStyleModel",
       "_view_count": null,
       "_view_module": "@jupyter-widgets/base",
       "_view_module_version": "2.0.0",
       "_view_name": "StyleView",
       "bar_color": null,
       "description_width": ""
      }
     },
     "2a8fd5160cfa482e95b52a063d98c5f3": {
      "model_module": "@jupyter-widgets/controls",
      "model_module_version": "2.0.0",
      "model_name": "HTMLStyleModel",
      "state": {
       "_model_module": "@jupyter-widgets/controls",
       "_model_module_version": "2.0.0",
       "_model_name": "HTMLStyleModel",
       "_view_count": null,
       "_view_module": "@jupyter-widgets/base",
       "_view_module_version": "2.0.0",
       "_view_name": "StyleView",
       "background": null,
       "description_width": "",
       "font_size": null,
       "text_color": null
      }
     },
     "2a96da1e4e3e40119b8bc3e15d42294a": {
      "model_module": "@jupyter-widgets/controls",
      "model_module_version": "2.0.0",
      "model_name": "HTMLStyleModel",
      "state": {
       "_model_module": "@jupyter-widgets/controls",
       "_model_module_version": "2.0.0",
       "_model_name": "HTMLStyleModel",
       "_view_count": null,
       "_view_module": "@jupyter-widgets/base",
       "_view_module_version": "2.0.0",
       "_view_name": "StyleView",
       "background": null,
       "description_width": "",
       "font_size": null,
       "text_color": null
      }
     },
     "2e196fc611e742e983debf5c2b996031": {
      "model_module": "@jupyter-widgets/controls",
      "model_module_version": "2.0.0",
      "model_name": "HBoxModel",
      "state": {
       "_dom_classes": [],
       "_model_module": "@jupyter-widgets/controls",
       "_model_module_version": "2.0.0",
       "_model_name": "HBoxModel",
       "_view_count": null,
       "_view_module": "@jupyter-widgets/controls",
       "_view_module_version": "2.0.0",
       "_view_name": "HBoxView",
       "box_style": "",
       "children": [
        "IPY_MODEL_39ee561ebe154eff9d2eacdc707ba1de",
        "IPY_MODEL_7466723b428a48d5801bdf270c2feee8",
        "IPY_MODEL_33e14ec05fad4b61bfbe9673b9e8c9f2"
       ],
       "layout": "IPY_MODEL_1dd58fd7496c4ee4b4980432d3983446",
       "tabbable": null,
       "tooltip": null
      }
     },
     "33e14ec05fad4b61bfbe9673b9e8c9f2": {
      "model_module": "@jupyter-widgets/controls",
      "model_module_version": "2.0.0",
      "model_name": "HTMLModel",
      "state": {
       "_dom_classes": [],
       "_model_module": "@jupyter-widgets/controls",
       "_model_module_version": "2.0.0",
       "_model_name": "HTMLModel",
       "_view_count": null,
       "_view_module": "@jupyter-widgets/controls",
       "_view_module_version": "2.0.0",
       "_view_name": "HTMLView",
       "description": "",
       "description_allow_html": false,
       "layout": "IPY_MODEL_99afe0002c354282a510e62b0bdf7d0b",
       "placeholder": "​",
       "style": "IPY_MODEL_2a8fd5160cfa482e95b52a063d98c5f3",
       "tabbable": null,
       "tooltip": null,
       "value": " 466k/466k [00:00&lt;00:00, 10.8MB/s]"
      }
     },
     "372c5a3274234c96817bbb2e56c8b1ee": {
      "model_module": "@jupyter-widgets/controls",
      "model_module_version": "2.0.0",
      "model_name": "HTMLModel",
      "state": {
       "_dom_classes": [],
       "_model_module": "@jupyter-widgets/controls",
       "_model_module_version": "2.0.0",
       "_model_name": "HTMLModel",
       "_view_count": null,
       "_view_module": "@jupyter-widgets/controls",
       "_view_module_version": "2.0.0",
       "_view_name": "HTMLView",
       "description": "",
       "description_allow_html": false,
       "layout": "IPY_MODEL_59b5cb4bbca84e22857b8d1662eaff01",
       "placeholder": "​",
       "style": "IPY_MODEL_cf8bd4f2069346aaa39a6ab37b6833f4",
       "tabbable": null,
       "tooltip": null,
       "value": " 48.0/48.0 [00:00&lt;00:00, 4.64kB/s]"
      }
     },
     "39ee561ebe154eff9d2eacdc707ba1de": {
      "model_module": "@jupyter-widgets/controls",
      "model_module_version": "2.0.0",
      "model_name": "HTMLModel",
      "state": {
       "_dom_classes": [],
       "_model_module": "@jupyter-widgets/controls",
       "_model_module_version": "2.0.0",
       "_model_name": "HTMLModel",
       "_view_count": null,
       "_view_module": "@jupyter-widgets/controls",
       "_view_module_version": "2.0.0",
       "_view_name": "HTMLView",
       "description": "",
       "description_allow_html": false,
       "layout": "IPY_MODEL_1e8c5a07be834806afd8bec646ca85a3",
       "placeholder": "​",
       "style": "IPY_MODEL_af55b4177ac848bba0e796f131cf0f18",
       "tabbable": null,
       "tooltip": null,
       "value": "tokenizer.json: 100%"
      }
     },
     "43399faaf0a5472bb0d2709435d787d4": {
      "model_module": "@jupyter-widgets/base",
      "model_module_version": "2.0.0",
      "model_name": "LayoutModel",
      "state": {
       "_model_module": "@jupyter-widgets/base",
       "_model_module_version": "2.0.0",
       "_model_name": "LayoutModel",
       "_view_count": null,
       "_view_module": "@jupyter-widgets/base",
       "_view_module_version": "2.0.0",
       "_view_name": "LayoutView",
       "align_content": null,
       "align_items": null,
       "align_self": null,
       "border_bottom": null,
       "border_left": null,
       "border_right": null,
       "border_top": null,
       "bottom": null,
       "display": null,
       "flex": null,
       "flex_flow": null,
       "grid_area": null,
       "grid_auto_columns": null,
       "grid_auto_flow": null,
       "grid_auto_rows": null,
       "grid_column": null,
       "grid_gap": null,
       "grid_row": null,
       "grid_template_areas": null,
       "grid_template_columns": null,
       "grid_template_rows": null,
       "height": null,
       "justify_content": null,
       "justify_items": null,
       "left": null,
       "margin": null,
       "max_height": null,
       "max_width": null,
       "min_height": null,
       "min_width": null,
       "object_fit": null,
       "object_position": null,
       "order": null,
       "overflow": null,
       "padding": null,
       "right": null,
       "top": null,
       "visibility": null,
       "width": null
      }
     },
     "4dcc9557c57344b1aa5f3415f4e1c90f": {
      "model_module": "@jupyter-widgets/controls",
      "model_module_version": "2.0.0",
      "model_name": "HBoxModel",
      "state": {
       "_dom_classes": [],
       "_model_module": "@jupyter-widgets/controls",
       "_model_module_version": "2.0.0",
       "_model_name": "HBoxModel",
       "_view_count": null,
       "_view_module": "@jupyter-widgets/controls",
       "_view_module_version": "2.0.0",
       "_view_name": "HBoxView",
       "box_style": "",
       "children": [
        "IPY_MODEL_b70fe31b89ad44f285f476811a1794a2",
        "IPY_MODEL_6711d7e60fac4379bcabacc32b977521",
        "IPY_MODEL_372c5a3274234c96817bbb2e56c8b1ee"
       ],
       "layout": "IPY_MODEL_05c0d673b7064bb7a69b4e8b79b088f7",
       "tabbable": null,
       "tooltip": null
      }
     },
     "56c2a005af68482291b0a32cfbefd2bc": {
      "model_module": "@jupyter-widgets/controls",
      "model_module_version": "2.0.0",
      "model_name": "ProgressStyleModel",
      "state": {
       "_model_module": "@jupyter-widgets/controls",
       "_model_module_version": "2.0.0",
       "_model_name": "ProgressStyleModel",
       "_view_count": null,
       "_view_module": "@jupyter-widgets/base",
       "_view_module_version": "2.0.0",
       "_view_name": "StyleView",
       "bar_color": null,
       "description_width": ""
      }
     },
     "57435e5c33084a039162a66312437f18": {
      "model_module": "@jupyter-widgets/base",
      "model_module_version": "2.0.0",
      "model_name": "LayoutModel",
      "state": {
       "_model_module": "@jupyter-widgets/base",
       "_model_module_version": "2.0.0",
       "_model_name": "LayoutModel",
       "_view_count": null,
       "_view_module": "@jupyter-widgets/base",
       "_view_module_version": "2.0.0",
       "_view_name": "LayoutView",
       "align_content": null,
       "align_items": null,
       "align_self": null,
       "border_bottom": null,
       "border_left": null,
       "border_right": null,
       "border_top": null,
       "bottom": null,
       "display": null,
       "flex": null,
       "flex_flow": null,
       "grid_area": null,
       "grid_auto_columns": null,
       "grid_auto_flow": null,
       "grid_auto_rows": null,
       "grid_column": null,
       "grid_gap": null,
       "grid_row": null,
       "grid_template_areas": null,
       "grid_template_columns": null,
       "grid_template_rows": null,
       "height": null,
       "justify_content": null,
       "justify_items": null,
       "left": null,
       "margin": null,
       "max_height": null,
       "max_width": null,
       "min_height": null,
       "min_width": null,
       "object_fit": null,
       "object_position": null,
       "order": null,
       "overflow": null,
       "padding": null,
       "right": null,
       "top": null,
       "visibility": null,
       "width": null
      }
     },
     "58656015f639434da1435b4fda2fbaf5": {
      "model_module": "@jupyter-widgets/controls",
      "model_module_version": "2.0.0",
      "model_name": "HTMLModel",
      "state": {
       "_dom_classes": [],
       "_model_module": "@jupyter-widgets/controls",
       "_model_module_version": "2.0.0",
       "_model_name": "HTMLModel",
       "_view_count": null,
       "_view_module": "@jupyter-widgets/controls",
       "_view_module_version": "2.0.0",
       "_view_name": "HTMLView",
       "description": "",
       "description_allow_html": false,
       "layout": "IPY_MODEL_0b04ca1d9c8e4d9694ee94f62bb68e99",
       "placeholder": "​",
       "style": "IPY_MODEL_ef5b16d405a74b719659da48b0f6270b",
       "tabbable": null,
       "tooltip": null,
       "value": " 232k/232k [00:00&lt;00:00, 5.80MB/s]"
      }
     },
     "59b5cb4bbca84e22857b8d1662eaff01": {
      "model_module": "@jupyter-widgets/base",
      "model_module_version": "2.0.0",
      "model_name": "LayoutModel",
      "state": {
       "_model_module": "@jupyter-widgets/base",
       "_model_module_version": "2.0.0",
       "_model_name": "LayoutModel",
       "_view_count": null,
       "_view_module": "@jupyter-widgets/base",
       "_view_module_version": "2.0.0",
       "_view_name": "LayoutView",
       "align_content": null,
       "align_items": null,
       "align_self": null,
       "border_bottom": null,
       "border_left": null,
       "border_right": null,
       "border_top": null,
       "bottom": null,
       "display": null,
       "flex": null,
       "flex_flow": null,
       "grid_area": null,
       "grid_auto_columns": null,
       "grid_auto_flow": null,
       "grid_auto_rows": null,
       "grid_column": null,
       "grid_gap": null,
       "grid_row": null,
       "grid_template_areas": null,
       "grid_template_columns": null,
       "grid_template_rows": null,
       "height": null,
       "justify_content": null,
       "justify_items": null,
       "left": null,
       "margin": null,
       "max_height": null,
       "max_width": null,
       "min_height": null,
       "min_width": null,
       "object_fit": null,
       "object_position": null,
       "order": null,
       "overflow": null,
       "padding": null,
       "right": null,
       "top": null,
       "visibility": null,
       "width": null
      }
     },
     "5bc756fa858b4d8081eb02adbc557e29": {
      "model_module": "@jupyter-widgets/controls",
      "model_module_version": "2.0.0",
      "model_name": "HTMLStyleModel",
      "state": {
       "_model_module": "@jupyter-widgets/controls",
       "_model_module_version": "2.0.0",
       "_model_name": "HTMLStyleModel",
       "_view_count": null,
       "_view_module": "@jupyter-widgets/base",
       "_view_module_version": "2.0.0",
       "_view_name": "StyleView",
       "background": null,
       "description_width": "",
       "font_size": null,
       "text_color": null
      }
     },
     "6711d7e60fac4379bcabacc32b977521": {
      "model_module": "@jupyter-widgets/controls",
      "model_module_version": "2.0.0",
      "model_name": "FloatProgressModel",
      "state": {
       "_dom_classes": [],
       "_model_module": "@jupyter-widgets/controls",
       "_model_module_version": "2.0.0",
       "_model_name": "FloatProgressModel",
       "_view_count": null,
       "_view_module": "@jupyter-widgets/controls",
       "_view_module_version": "2.0.0",
       "_view_name": "ProgressView",
       "bar_style": "success",
       "description": "",
       "description_allow_html": false,
       "layout": "IPY_MODEL_ec71e610bacf4816ad427d31297a81fc",
       "max": 48,
       "min": 0,
       "orientation": "horizontal",
       "style": "IPY_MODEL_1434bcba850d4b7993f4b65291c5772f",
       "tabbable": null,
       "tooltip": null,
       "value": 48
      }
     },
     "6a4bed4e75494058810c54b9c5293407": {
      "model_module": "@jupyter-widgets/controls",
      "model_module_version": "2.0.0",
      "model_name": "HTMLStyleModel",
      "state": {
       "_model_module": "@jupyter-widgets/controls",
       "_model_module_version": "2.0.0",
       "_model_name": "HTMLStyleModel",
       "_view_count": null,
       "_view_module": "@jupyter-widgets/base",
       "_view_module_version": "2.0.0",
       "_view_name": "StyleView",
       "background": null,
       "description_width": "",
       "font_size": null,
       "text_color": null
      }
     },
     "714050248f2a475e8d4833325ac74634": {
      "model_module": "@jupyter-widgets/controls",
      "model_module_version": "2.0.0",
      "model_name": "HTMLStyleModel",
      "state": {
       "_model_module": "@jupyter-widgets/controls",
       "_model_module_version": "2.0.0",
       "_model_name": "HTMLStyleModel",
       "_view_count": null,
       "_view_module": "@jupyter-widgets/base",
       "_view_module_version": "2.0.0",
       "_view_name": "StyleView",
       "background": null,
       "description_width": "",
       "font_size": null,
       "text_color": null
      }
     },
     "73fbad9062a04165940e76c324bfaf79": {
      "model_module": "@jupyter-widgets/base",
      "model_module_version": "2.0.0",
      "model_name": "LayoutModel",
      "state": {
       "_model_module": "@jupyter-widgets/base",
       "_model_module_version": "2.0.0",
       "_model_name": "LayoutModel",
       "_view_count": null,
       "_view_module": "@jupyter-widgets/base",
       "_view_module_version": "2.0.0",
       "_view_name": "LayoutView",
       "align_content": null,
       "align_items": null,
       "align_self": null,
       "border_bottom": null,
       "border_left": null,
       "border_right": null,
       "border_top": null,
       "bottom": null,
       "display": null,
       "flex": null,
       "flex_flow": null,
       "grid_area": null,
       "grid_auto_columns": null,
       "grid_auto_flow": null,
       "grid_auto_rows": null,
       "grid_column": null,
       "grid_gap": null,
       "grid_row": null,
       "grid_template_areas": null,
       "grid_template_columns": null,
       "grid_template_rows": null,
       "height": null,
       "justify_content": null,
       "justify_items": null,
       "left": null,
       "margin": null,
       "max_height": null,
       "max_width": null,
       "min_height": null,
       "min_width": null,
       "object_fit": null,
       "object_position": null,
       "order": null,
       "overflow": null,
       "padding": null,
       "right": null,
       "top": null,
       "visibility": null,
       "width": null
      }
     },
     "7466723b428a48d5801bdf270c2feee8": {
      "model_module": "@jupyter-widgets/controls",
      "model_module_version": "2.0.0",
      "model_name": "FloatProgressModel",
      "state": {
       "_dom_classes": [],
       "_model_module": "@jupyter-widgets/controls",
       "_model_module_version": "2.0.0",
       "_model_name": "FloatProgressModel",
       "_view_count": null,
       "_view_module": "@jupyter-widgets/controls",
       "_view_module_version": "2.0.0",
       "_view_name": "ProgressView",
       "bar_style": "success",
       "description": "",
       "description_allow_html": false,
       "layout": "IPY_MODEL_fe534e99ea844fc580b3cfc8c6f08f30",
       "max": 466062,
       "min": 0,
       "orientation": "horizontal",
       "style": "IPY_MODEL_b9f93219d19a4dea9bb967750f3c6411",
       "tabbable": null,
       "tooltip": null,
       "value": 466062
      }
     },
     "876fe4d43cb249f1ad8e736146849684": {
      "model_module": "@jupyter-widgets/controls",
      "model_module_version": "2.0.0",
      "model_name": "FloatProgressModel",
      "state": {
       "_dom_classes": [],
       "_model_module": "@jupyter-widgets/controls",
       "_model_module_version": "2.0.0",
       "_model_name": "FloatProgressModel",
       "_view_count": null,
       "_view_module": "@jupyter-widgets/controls",
       "_view_module_version": "2.0.0",
       "_view_name": "ProgressView",
       "bar_style": "success",
       "description": "",
       "description_allow_html": false,
       "layout": "IPY_MODEL_b221c528472441eb94c96e1b102187f2",
       "max": 231508,
       "min": 0,
       "orientation": "horizontal",
       "style": "IPY_MODEL_56c2a005af68482291b0a32cfbefd2bc",
       "tabbable": null,
       "tooltip": null,
       "value": 231508
      }
     },
     "8f5713fd1eb047099b4090df6cdf86cd": {
      "model_module": "@jupyter-widgets/base",
      "model_module_version": "2.0.0",
      "model_name": "LayoutModel",
      "state": {
       "_model_module": "@jupyter-widgets/base",
       "_model_module_version": "2.0.0",
       "_model_name": "LayoutModel",
       "_view_count": null,
       "_view_module": "@jupyter-widgets/base",
       "_view_module_version": "2.0.0",
       "_view_name": "LayoutView",
       "align_content": null,
       "align_items": null,
       "align_self": null,
       "border_bottom": null,
       "border_left": null,
       "border_right": null,
       "border_top": null,
       "bottom": null,
       "display": null,
       "flex": null,
       "flex_flow": null,
       "grid_area": null,
       "grid_auto_columns": null,
       "grid_auto_flow": null,
       "grid_auto_rows": null,
       "grid_column": null,
       "grid_gap": null,
       "grid_row": null,
       "grid_template_areas": null,
       "grid_template_columns": null,
       "grid_template_rows": null,
       "height": null,
       "justify_content": null,
       "justify_items": null,
       "left": null,
       "margin": null,
       "max_height": null,
       "max_width": null,
       "min_height": null,
       "min_width": null,
       "object_fit": null,
       "object_position": null,
       "order": null,
       "overflow": null,
       "padding": null,
       "right": null,
       "top": null,
       "visibility": null,
       "width": null
      }
     },
     "99afe0002c354282a510e62b0bdf7d0b": {
      "model_module": "@jupyter-widgets/base",
      "model_module_version": "2.0.0",
      "model_name": "LayoutModel",
      "state": {
       "_model_module": "@jupyter-widgets/base",
       "_model_module_version": "2.0.0",
       "_model_name": "LayoutModel",
       "_view_count": null,
       "_view_module": "@jupyter-widgets/base",
       "_view_module_version": "2.0.0",
       "_view_name": "LayoutView",
       "align_content": null,
       "align_items": null,
       "align_self": null,
       "border_bottom": null,
       "border_left": null,
       "border_right": null,
       "border_top": null,
       "bottom": null,
       "display": null,
       "flex": null,
       "flex_flow": null,
       "grid_area": null,
       "grid_auto_columns": null,
       "grid_auto_flow": null,
       "grid_auto_rows": null,
       "grid_column": null,
       "grid_gap": null,
       "grid_row": null,
       "grid_template_areas": null,
       "grid_template_columns": null,
       "grid_template_rows": null,
       "height": null,
       "justify_content": null,
       "justify_items": null,
       "left": null,
       "margin": null,
       "max_height": null,
       "max_width": null,
       "min_height": null,
       "min_width": null,
       "object_fit": null,
       "object_position": null,
       "order": null,
       "overflow": null,
       "padding": null,
       "right": null,
       "top": null,
       "visibility": null,
       "width": null
      }
     },
     "9c5d1620914b427b8b35d56b79652ad2": {
      "model_module": "@jupyter-widgets/controls",
      "model_module_version": "2.0.0",
      "model_name": "FloatProgressModel",
      "state": {
       "_dom_classes": [],
       "_model_module": "@jupyter-widgets/controls",
       "_model_module_version": "2.0.0",
       "_model_name": "FloatProgressModel",
       "_view_count": null,
       "_view_module": "@jupyter-widgets/controls",
       "_view_module_version": "2.0.0",
       "_view_name": "ProgressView",
       "bar_style": "success",
       "description": "",
       "description_allow_html": false,
       "layout": "IPY_MODEL_ba290b7a3d2e4fe0858d7f6d5a751bef",
       "max": 570,
       "min": 0,
       "orientation": "horizontal",
       "style": "IPY_MODEL_2202ad1a29ce4dbdba47243a06336e4b",
       "tabbable": null,
       "tooltip": null,
       "value": 570
      }
     },
     "9c711b8ca26c4b37925dca95e1e901d2": {
      "model_module": "@jupyter-widgets/controls",
      "model_module_version": "2.0.0",
      "model_name": "FloatProgressModel",
      "state": {
       "_dom_classes": [],
       "_model_module": "@jupyter-widgets/controls",
       "_model_module_version": "2.0.0",
       "_model_name": "FloatProgressModel",
       "_view_count": null,
       "_view_module": "@jupyter-widgets/controls",
       "_view_module_version": "2.0.0",
       "_view_name": "ProgressView",
       "bar_style": "success",
       "description": "",
       "description_allow_html": false,
       "layout": "IPY_MODEL_57435e5c33084a039162a66312437f18",
       "max": 440449768,
       "min": 0,
       "orientation": "horizontal",
       "style": "IPY_MODEL_296940a1cca442509eb6c47264d04494",
       "tabbable": null,
       "tooltip": null,
       "value": 440449768
      }
     },
     "a9f7903678c54c8e853b9f6eeb9cc9b8": {
      "model_module": "@jupyter-widgets/controls",
      "model_module_version": "2.0.0",
      "model_name": "HBoxModel",
      "state": {
       "_dom_classes": [],
       "_model_module": "@jupyter-widgets/controls",
       "_model_module_version": "2.0.0",
       "_model_name": "HBoxModel",
       "_view_count": null,
       "_view_module": "@jupyter-widgets/controls",
       "_view_module_version": "2.0.0",
       "_view_name": "HBoxView",
       "box_style": "",
       "children": [
        "IPY_MODEL_c602974de8b04d1399fc04b831eb7a86",
        "IPY_MODEL_9c5d1620914b427b8b35d56b79652ad2",
        "IPY_MODEL_02bae6807fbe40daa105a4bbe781a87f"
       ],
       "layout": "IPY_MODEL_0465b3aa22e24a35acb0ec1b1fcd2a1c",
       "tabbable": null,
       "tooltip": null
      }
     },
     "af55b4177ac848bba0e796f131cf0f18": {
      "model_module": "@jupyter-widgets/controls",
      "model_module_version": "2.0.0",
      "model_name": "HTMLStyleModel",
      "state": {
       "_model_module": "@jupyter-widgets/controls",
       "_model_module_version": "2.0.0",
       "_model_name": "HTMLStyleModel",
       "_view_count": null,
       "_view_module": "@jupyter-widgets/base",
       "_view_module_version": "2.0.0",
       "_view_name": "StyleView",
       "background": null,
       "description_width": "",
       "font_size": null,
       "text_color": null
      }
     },
     "af72970ff5a043e192091fa4b90f17d7": {
      "model_module": "@jupyter-widgets/controls",
      "model_module_version": "2.0.0",
      "model_name": "HTMLModel",
      "state": {
       "_dom_classes": [],
       "_model_module": "@jupyter-widgets/controls",
       "_model_module_version": "2.0.0",
       "_model_name": "HTMLModel",
       "_view_count": null,
       "_view_module": "@jupyter-widgets/controls",
       "_view_module_version": "2.0.0",
       "_view_name": "HTMLView",
       "description": "",
       "description_allow_html": false,
       "layout": "IPY_MODEL_27efc45d7c94478abbf2d4f0ec5d2f89",
       "placeholder": "​",
       "style": "IPY_MODEL_cc0877e7c5dc4c6f8ea6fc234969d59d",
       "tabbable": null,
       "tooltip": null,
       "value": "model.safetensors: 100%"
      }
     },
     "b221c528472441eb94c96e1b102187f2": {
      "model_module": "@jupyter-widgets/base",
      "model_module_version": "2.0.0",
      "model_name": "LayoutModel",
      "state": {
       "_model_module": "@jupyter-widgets/base",
       "_model_module_version": "2.0.0",
       "_model_name": "LayoutModel",
       "_view_count": null,
       "_view_module": "@jupyter-widgets/base",
       "_view_module_version": "2.0.0",
       "_view_name": "LayoutView",
       "align_content": null,
       "align_items": null,
       "align_self": null,
       "border_bottom": null,
       "border_left": null,
       "border_right": null,
       "border_top": null,
       "bottom": null,
       "display": null,
       "flex": null,
       "flex_flow": null,
       "grid_area": null,
       "grid_auto_columns": null,
       "grid_auto_flow": null,
       "grid_auto_rows": null,
       "grid_column": null,
       "grid_gap": null,
       "grid_row": null,
       "grid_template_areas": null,
       "grid_template_columns": null,
       "grid_template_rows": null,
       "height": null,
       "justify_content": null,
       "justify_items": null,
       "left": null,
       "margin": null,
       "max_height": null,
       "max_width": null,
       "min_height": null,
       "min_width": null,
       "object_fit": null,
       "object_position": null,
       "order": null,
       "overflow": null,
       "padding": null,
       "right": null,
       "top": null,
       "visibility": null,
       "width": null
      }
     },
     "b70fe31b89ad44f285f476811a1794a2": {
      "model_module": "@jupyter-widgets/controls",
      "model_module_version": "2.0.0",
      "model_name": "HTMLModel",
      "state": {
       "_dom_classes": [],
       "_model_module": "@jupyter-widgets/controls",
       "_model_module_version": "2.0.0",
       "_model_name": "HTMLModel",
       "_view_count": null,
       "_view_module": "@jupyter-widgets/controls",
       "_view_module_version": "2.0.0",
       "_view_name": "HTMLView",
       "description": "",
       "description_allow_html": false,
       "layout": "IPY_MODEL_73fbad9062a04165940e76c324bfaf79",
       "placeholder": "​",
       "style": "IPY_MODEL_5bc756fa858b4d8081eb02adbc557e29",
       "tabbable": null,
       "tooltip": null,
       "value": "tokenizer_config.json: 100%"
      }
     },
     "b9078c47316f421d947cc7503cc21327": {
      "model_module": "@jupyter-widgets/controls",
      "model_module_version": "2.0.0",
      "model_name": "HTMLModel",
      "state": {
       "_dom_classes": [],
       "_model_module": "@jupyter-widgets/controls",
       "_model_module_version": "2.0.0",
       "_model_name": "HTMLModel",
       "_view_count": null,
       "_view_module": "@jupyter-widgets/controls",
       "_view_module_version": "2.0.0",
       "_view_name": "HTMLView",
       "description": "",
       "description_allow_html": false,
       "layout": "IPY_MODEL_dbde2204c3fa43cfb8ce022a1326ee00",
       "placeholder": "​",
       "style": "IPY_MODEL_2a96da1e4e3e40119b8bc3e15d42294a",
       "tabbable": null,
       "tooltip": null,
       "value": "vocab.txt: 100%"
      }
     },
     "b9f93219d19a4dea9bb967750f3c6411": {
      "model_module": "@jupyter-widgets/controls",
      "model_module_version": "2.0.0",
      "model_name": "ProgressStyleModel",
      "state": {
       "_model_module": "@jupyter-widgets/controls",
       "_model_module_version": "2.0.0",
       "_model_name": "ProgressStyleModel",
       "_view_count": null,
       "_view_module": "@jupyter-widgets/base",
       "_view_module_version": "2.0.0",
       "_view_name": "StyleView",
       "bar_color": null,
       "description_width": ""
      }
     },
     "ba290b7a3d2e4fe0858d7f6d5a751bef": {
      "model_module": "@jupyter-widgets/base",
      "model_module_version": "2.0.0",
      "model_name": "LayoutModel",
      "state": {
       "_model_module": "@jupyter-widgets/base",
       "_model_module_version": "2.0.0",
       "_model_name": "LayoutModel",
       "_view_count": null,
       "_view_module": "@jupyter-widgets/base",
       "_view_module_version": "2.0.0",
       "_view_name": "LayoutView",
       "align_content": null,
       "align_items": null,
       "align_self": null,
       "border_bottom": null,
       "border_left": null,
       "border_right": null,
       "border_top": null,
       "bottom": null,
       "display": null,
       "flex": null,
       "flex_flow": null,
       "grid_area": null,
       "grid_auto_columns": null,
       "grid_auto_flow": null,
       "grid_auto_rows": null,
       "grid_column": null,
       "grid_gap": null,
       "grid_row": null,
       "grid_template_areas": null,
       "grid_template_columns": null,
       "grid_template_rows": null,
       "height": null,
       "justify_content": null,
       "justify_items": null,
       "left": null,
       "margin": null,
       "max_height": null,
       "max_width": null,
       "min_height": null,
       "min_width": null,
       "object_fit": null,
       "object_position": null,
       "order": null,
       "overflow": null,
       "padding": null,
       "right": null,
       "top": null,
       "visibility": null,
       "width": null
      }
     },
     "bffb9f140b154f21a10e8a3d7c0f8758": {
      "model_module": "@jupyter-widgets/controls",
      "model_module_version": "2.0.0",
      "model_name": "HBoxModel",
      "state": {
       "_dom_classes": [],
       "_model_module": "@jupyter-widgets/controls",
       "_model_module_version": "2.0.0",
       "_model_name": "HBoxModel",
       "_view_count": null,
       "_view_module": "@jupyter-widgets/controls",
       "_view_module_version": "2.0.0",
       "_view_name": "HBoxView",
       "box_style": "",
       "children": [
        "IPY_MODEL_af72970ff5a043e192091fa4b90f17d7",
        "IPY_MODEL_9c711b8ca26c4b37925dca95e1e901d2",
        "IPY_MODEL_101a202b9a1d4d23ba5e3fcce043a390"
       ],
       "layout": "IPY_MODEL_1578db450951430d9b98d7b8f4270785",
       "tabbable": null,
       "tooltip": null
      }
     },
     "c602974de8b04d1399fc04b831eb7a86": {
      "model_module": "@jupyter-widgets/controls",
      "model_module_version": "2.0.0",
      "model_name": "HTMLModel",
      "state": {
       "_dom_classes": [],
       "_model_module": "@jupyter-widgets/controls",
       "_model_module_version": "2.0.0",
       "_model_name": "HTMLModel",
       "_view_count": null,
       "_view_module": "@jupyter-widgets/controls",
       "_view_module_version": "2.0.0",
       "_view_name": "HTMLView",
       "description": "",
       "description_allow_html": false,
       "layout": "IPY_MODEL_8f5713fd1eb047099b4090df6cdf86cd",
       "placeholder": "​",
       "style": "IPY_MODEL_714050248f2a475e8d4833325ac74634",
       "tabbable": null,
       "tooltip": null,
       "value": "config.json: 100%"
      }
     },
     "cb820d83d7de472087f62b928f0495f5": {
      "model_module": "@jupyter-widgets/base",
      "model_module_version": "2.0.0",
      "model_name": "LayoutModel",
      "state": {
       "_model_module": "@jupyter-widgets/base",
       "_model_module_version": "2.0.0",
       "_model_name": "LayoutModel",
       "_view_count": null,
       "_view_module": "@jupyter-widgets/base",
       "_view_module_version": "2.0.0",
       "_view_name": "LayoutView",
       "align_content": null,
       "align_items": null,
       "align_self": null,
       "border_bottom": null,
       "border_left": null,
       "border_right": null,
       "border_top": null,
       "bottom": null,
       "display": null,
       "flex": null,
       "flex_flow": null,
       "grid_area": null,
       "grid_auto_columns": null,
       "grid_auto_flow": null,
       "grid_auto_rows": null,
       "grid_column": null,
       "grid_gap": null,
       "grid_row": null,
       "grid_template_areas": null,
       "grid_template_columns": null,
       "grid_template_rows": null,
       "height": null,
       "justify_content": null,
       "justify_items": null,
       "left": null,
       "margin": null,
       "max_height": null,
       "max_width": null,
       "min_height": null,
       "min_width": null,
       "object_fit": null,
       "object_position": null,
       "order": null,
       "overflow": null,
       "padding": null,
       "right": null,
       "top": null,
       "visibility": null,
       "width": null
      }
     },
     "cc0877e7c5dc4c6f8ea6fc234969d59d": {
      "model_module": "@jupyter-widgets/controls",
      "model_module_version": "2.0.0",
      "model_name": "HTMLStyleModel",
      "state": {
       "_model_module": "@jupyter-widgets/controls",
       "_model_module_version": "2.0.0",
       "_model_name": "HTMLStyleModel",
       "_view_count": null,
       "_view_module": "@jupyter-widgets/base",
       "_view_module_version": "2.0.0",
       "_view_name": "StyleView",
       "background": null,
       "description_width": "",
       "font_size": null,
       "text_color": null
      }
     },
     "cf8bd4f2069346aaa39a6ab37b6833f4": {
      "model_module": "@jupyter-widgets/controls",
      "model_module_version": "2.0.0",
      "model_name": "HTMLStyleModel",
      "state": {
       "_model_module": "@jupyter-widgets/controls",
       "_model_module_version": "2.0.0",
       "_model_name": "HTMLStyleModel",
       "_view_count": null,
       "_view_module": "@jupyter-widgets/base",
       "_view_module_version": "2.0.0",
       "_view_name": "StyleView",
       "background": null,
       "description_width": "",
       "font_size": null,
       "text_color": null
      }
     },
     "dbde2204c3fa43cfb8ce022a1326ee00": {
      "model_module": "@jupyter-widgets/base",
      "model_module_version": "2.0.0",
      "model_name": "LayoutModel",
      "state": {
       "_model_module": "@jupyter-widgets/base",
       "_model_module_version": "2.0.0",
       "_model_name": "LayoutModel",
       "_view_count": null,
       "_view_module": "@jupyter-widgets/base",
       "_view_module_version": "2.0.0",
       "_view_name": "LayoutView",
       "align_content": null,
       "align_items": null,
       "align_self": null,
       "border_bottom": null,
       "border_left": null,
       "border_right": null,
       "border_top": null,
       "bottom": null,
       "display": null,
       "flex": null,
       "flex_flow": null,
       "grid_area": null,
       "grid_auto_columns": null,
       "grid_auto_flow": null,
       "grid_auto_rows": null,
       "grid_column": null,
       "grid_gap": null,
       "grid_row": null,
       "grid_template_areas": null,
       "grid_template_columns": null,
       "grid_template_rows": null,
       "height": null,
       "justify_content": null,
       "justify_items": null,
       "left": null,
       "margin": null,
       "max_height": null,
       "max_width": null,
       "min_height": null,
       "min_width": null,
       "object_fit": null,
       "object_position": null,
       "order": null,
       "overflow": null,
       "padding": null,
       "right": null,
       "top": null,
       "visibility": null,
       "width": null
      }
     },
     "e755cd9f599f408280a1e1b697c44d29": {
      "model_module": "@jupyter-widgets/controls",
      "model_module_version": "2.0.0",
      "model_name": "HBoxModel",
      "state": {
       "_dom_classes": [],
       "_model_module": "@jupyter-widgets/controls",
       "_model_module_version": "2.0.0",
       "_model_name": "HBoxModel",
       "_view_count": null,
       "_view_module": "@jupyter-widgets/controls",
       "_view_module_version": "2.0.0",
       "_view_name": "HBoxView",
       "box_style": "",
       "children": [
        "IPY_MODEL_b9078c47316f421d947cc7503cc21327",
        "IPY_MODEL_876fe4d43cb249f1ad8e736146849684",
        "IPY_MODEL_58656015f639434da1435b4fda2fbaf5"
       ],
       "layout": "IPY_MODEL_23ff80639253414681a1a18b4d63e82f",
       "tabbable": null,
       "tooltip": null
      }
     },
     "ec71e610bacf4816ad427d31297a81fc": {
      "model_module": "@jupyter-widgets/base",
      "model_module_version": "2.0.0",
      "model_name": "LayoutModel",
      "state": {
       "_model_module": "@jupyter-widgets/base",
       "_model_module_version": "2.0.0",
       "_model_name": "LayoutModel",
       "_view_count": null,
       "_view_module": "@jupyter-widgets/base",
       "_view_module_version": "2.0.0",
       "_view_name": "LayoutView",
       "align_content": null,
       "align_items": null,
       "align_self": null,
       "border_bottom": null,
       "border_left": null,
       "border_right": null,
       "border_top": null,
       "bottom": null,
       "display": null,
       "flex": null,
       "flex_flow": null,
       "grid_area": null,
       "grid_auto_columns": null,
       "grid_auto_flow": null,
       "grid_auto_rows": null,
       "grid_column": null,
       "grid_gap": null,
       "grid_row": null,
       "grid_template_areas": null,
       "grid_template_columns": null,
       "grid_template_rows": null,
       "height": null,
       "justify_content": null,
       "justify_items": null,
       "left": null,
       "margin": null,
       "max_height": null,
       "max_width": null,
       "min_height": null,
       "min_width": null,
       "object_fit": null,
       "object_position": null,
       "order": null,
       "overflow": null,
       "padding": null,
       "right": null,
       "top": null,
       "visibility": null,
       "width": null
      }
     },
     "ef5b16d405a74b719659da48b0f6270b": {
      "model_module": "@jupyter-widgets/controls",
      "model_module_version": "2.0.0",
      "model_name": "HTMLStyleModel",
      "state": {
       "_model_module": "@jupyter-widgets/controls",
       "_model_module_version": "2.0.0",
       "_model_name": "HTMLStyleModel",
       "_view_count": null,
       "_view_module": "@jupyter-widgets/base",
       "_view_module_version": "2.0.0",
       "_view_name": "StyleView",
       "background": null,
       "description_width": "",
       "font_size": null,
       "text_color": null
      }
     },
     "fe534e99ea844fc580b3cfc8c6f08f30": {
      "model_module": "@jupyter-widgets/base",
      "model_module_version": "2.0.0",
      "model_name": "LayoutModel",
      "state": {
       "_model_module": "@jupyter-widgets/base",
       "_model_module_version": "2.0.0",
       "_model_name": "LayoutModel",
       "_view_count": null,
       "_view_module": "@jupyter-widgets/base",
       "_view_module_version": "2.0.0",
       "_view_name": "LayoutView",
       "align_content": null,
       "align_items": null,
       "align_self": null,
       "border_bottom": null,
       "border_left": null,
       "border_right": null,
       "border_top": null,
       "bottom": null,
       "display": null,
       "flex": null,
       "flex_flow": null,
       "grid_area": null,
       "grid_auto_columns": null,
       "grid_auto_flow": null,
       "grid_auto_rows": null,
       "grid_column": null,
       "grid_gap": null,
       "grid_row": null,
       "grid_template_areas": null,
       "grid_template_columns": null,
       "grid_template_rows": null,
       "height": null,
       "justify_content": null,
       "justify_items": null,
       "left": null,
       "margin": null,
       "max_height": null,
       "max_width": null,
       "min_height": null,
       "min_width": null,
       "object_fit": null,
       "object_position": null,
       "order": null,
       "overflow": null,
       "padding": null,
       "right": null,
       "top": null,
       "visibility": null,
       "width": null
      }
     }
    },
    "version_major": 2,
    "version_minor": 0
   }
  }
 },
 "nbformat": 4,
 "nbformat_minor": 5
}
