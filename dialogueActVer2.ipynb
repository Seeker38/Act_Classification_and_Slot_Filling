{
 "cells": [
  {
   "cell_type": "markdown",
   "id": "1bd94d9f",
   "metadata": {},
   "source": [
    "### THIS IS THE IMPROVEMENT VERSION OF DIALOGUEACT.IPYNB\n",
    "by noticing that the dialogue-act classification is a Multi-label classification"
   ]
  },
  {
   "cell_type": "code",
   "execution_count": 1,
   "id": "25e05c9e",
   "metadata": {
    "execution": {
     "iopub.execute_input": "2024-12-31T07:34:52.329816Z",
     "iopub.status.busy": "2024-12-31T07:34:52.329528Z",
     "iopub.status.idle": "2024-12-31T07:34:52.335395Z",
     "shell.execute_reply": "2024-12-31T07:34:52.334487Z",
     "shell.execute_reply.started": "2024-12-31T07:34:52.329781Z"
    },
    "papermill": {
     "duration": 0.014681,
     "end_time": "2024-12-29T12:18:50.110792",
     "exception": false,
     "start_time": "2024-12-29T12:18:50.096111",
     "status": "completed"
    },
    "tags": [],
    "trusted": true
   },
   "outputs": [],
   "source": [
    "import numpy as np\n",
    "import argparse\n",
    "from shutil import copyfile\n",
    "from create_data import createData\n",
    "from create_data import divideData"
   ]
  },
  {
   "cell_type": "code",
   "execution_count": 3,
   "id": "c977bc4b",
   "metadata": {
    "execution": {
     "iopub.execute_input": "2024-12-31T07:35:32.373102Z",
     "iopub.status.busy": "2024-12-31T07:35:32.372803Z",
     "iopub.status.idle": "2024-12-31T07:36:22.890633Z",
     "shell.execute_reply": "2024-12-31T07:36:22.889894Z",
     "shell.execute_reply.started": "2024-12-31T07:35:32.373079Z"
    },
    "papermill": {
     "duration": 46.707668,
     "end_time": "2024-12-29T12:19:36.892839",
     "exception": false,
     "start_time": "2024-12-29T12:18:50.185171",
     "status": "completed"
    },
    "tags": [],
    "trusted": true
   },
   "outputs": [
    {
     "name": "stdout",
     "output_type": "stream",
     "text": [
      "Create WOZ-like dialogues. Get yourself a coffee, this might take a while.\n",
      "Divide dialogues...\n",
      "# of dialogues: Train 8420, Val 1000, Test 999\n"
     ]
    }
   ],
   "source": [
    "print('Create WOZ-like dialogues. Get yourself a coffee, this might take a while.')\n",
    "args = argparse.Namespace(\n",
    "    main_dir=\"/kaggle/input/multiwoz2-4\",\n",
    "    mwz_ver=\"2.4\",\n",
    "    target_path=\"/kaggle/working/\"\n",
    ")\n",
    "\n",
    "delex_data = createData(args)\n",
    "print('Divide dialogues...')\n",
    "divideData(delex_data,args)"
   ]
  },
  {
   "cell_type": "code",
   "execution_count": 4,
   "id": "0bbfff31",
   "metadata": {
    "execution": {
     "iopub.execute_input": "2024-12-31T07:36:22.892104Z",
     "iopub.status.busy": "2024-12-31T07:36:22.891810Z",
     "iopub.status.idle": "2024-12-31T07:36:22.898021Z",
     "shell.execute_reply": "2024-12-31T07:36:22.897413Z",
     "shell.execute_reply.started": "2024-12-31T07:36:22.892075Z"
    },
    "papermill": {
     "duration": 0.014057,
     "end_time": "2024-12-29T12:19:36.914802",
     "exception": false,
     "start_time": "2024-12-29T12:19:36.900745",
     "status": "completed"
    },
    "tags": [],
    "trusted": true
   },
   "outputs": [],
   "source": [
    "import json\n",
    "\n",
    "def load_json(file_path):\n",
    "    with open(file_path, 'r', encoding='utf-8') as f:\n",
    "        return json.load(f)\n",
    "\n",
    "def save_json(data, file_path):\n",
    "    with open(file_path, 'w', encoding='utf-8') as f:\n",
    "        json.dump(data, f, indent=4, ensure_ascii=False)\n",
    "\n",
    "def add_dialogue_acts(dialogue_acts, data_files):\n",
    "    for file_path in data_files:\n",
    "        data = load_json(file_path)\n",
    "        \n",
    "        for dialogue in data:\n",
    "            dialogue_idx = dialogue['dialogue_idx'].replace('.json', '')\n",
    "\n",
    "            if dialogue_idx in dialogue_acts:\n",
    "                acts = dialogue_acts[dialogue_idx]\n",
    "\n",
    "                for turn in dialogue['dialogue']:\n",
    "                    turn_idx = str(turn['turn_idx'])\n",
    "                    if turn_idx in acts:\n",
    "                        turn['dialogue_act'] = acts[turn_idx]\n",
    "\n",
    "        save_json(data, file_path)"
   ]
  },
  {
   "cell_type": "code",
   "execution_count": 5,
   "id": "7c3e2318",
   "metadata": {
    "execution": {
     "iopub.execute_input": "2024-12-31T07:36:22.899985Z",
     "iopub.status.busy": "2024-12-31T07:36:22.899743Z",
     "iopub.status.idle": "2024-12-31T07:36:35.121844Z",
     "shell.execute_reply": "2024-12-31T07:36:35.121066Z",
     "shell.execute_reply.started": "2024-12-31T07:36:22.899966Z"
    },
    "papermill": {
     "duration": 11.532768,
     "end_time": "2024-12-29T12:19:48.454626",
     "exception": false,
     "start_time": "2024-12-29T12:19:36.921858",
     "status": "completed"
    },
    "tags": [],
    "trusted": true
   },
   "outputs": [
    {
     "name": "stdout",
     "output_type": "stream",
     "text": [
      "Dialogue acts have been added to all data files.\n"
     ]
    }
   ],
   "source": [
    "dialogue_acts_path = '/kaggle/input/multiwoz2-4/dialogue_acts.json'\n",
    "data_files = ['/kaggle/working/train_dials.json', '/kaggle/working/dev_dials.json', '/kaggle/working/test_dials.json']\n",
    "\n",
    "dialogue_acts = load_json(dialogue_acts_path)\n",
    "\n",
    "add_dialogue_acts(dialogue_acts, data_files)\n",
    "\n",
    "print(\"Dialogue acts have been added to all data files.\")"
   ]
  },
  {
   "cell_type": "markdown",
   "id": "4245b14e",
   "metadata": {
    "papermill": {
     "duration": 0.006609,
     "end_time": "2024-12-29T12:19:48.613663",
     "exception": false,
     "start_time": "2024-12-29T12:19:48.607054",
     "status": "completed"
    },
    "tags": []
   },
   "source": [
    "# Dialogue Act mutli value"
   ]
  },
  {
   "cell_type": "code",
   "execution_count": 6,
   "id": "90b6f982",
   "metadata": {
    "execution": {
     "iopub.execute_input": "2024-12-31T07:36:35.122780Z",
     "iopub.status.busy": "2024-12-31T07:36:35.122584Z",
     "iopub.status.idle": "2024-12-31T07:36:43.777157Z",
     "shell.execute_reply": "2024-12-31T07:36:43.776242Z",
     "shell.execute_reply.started": "2024-12-31T07:36:35.122762Z"
    },
    "papermill": {
     "duration": 6.772323,
     "end_time": "2024-12-29T12:19:55.392660",
     "exception": false,
     "start_time": "2024-12-29T12:19:48.620337",
     "status": "completed"
    },
    "tags": [],
    "trusted": true
   },
   "outputs": [],
   "source": [
    "import torch\n",
    "from torch.utils.data import Dataset, DataLoader\n",
    "from transformers import BertTokenizer, BertForSequenceClassification\n",
    "from sklearn.preprocessing import MultiLabelBinarizer\n",
    "from sklearn.metrics import classification_report, f1_score\n",
    "import json\n",
    "import numpy as np\n",
    "from tqdm import tqdm"
   ]
  },
  {
   "cell_type": "code",
   "execution_count": null,
   "id": "20898cfa",
   "metadata": {},
   "outputs": [],
   "source": [
    "class DialogueActDataset(Dataset):\n",
    "    def __init__(self, samples, tokenizer, max_length=128):\n",
    "        self.texts = [x for x, _ in samples]\n",
    "        \n",
    "        self.acts = []\n",
    "        for _, y in samples:\n",
    "            if isinstance(y, dict):\n",
    "                self.acts.append(list(y.keys()))\n",
    "            elif isinstance(y, str):\n",
    "                self.acts.append([y])\n",
    "            else:\n",
    "                raise ValueError(f\"Unexpected label type: {type(y)}. Expected dict or str.\")\n",
    "        \n",
    "        self.label_binarizer = MultiLabelBinarizer()\n",
    "        self.labels = self.label_binarizer.fit_transform(self.acts)\n",
    "        \n",
    "        self.tokenizer = tokenizer\n",
    "        self.max_length = max_length\n",
    "\n",
    "    def __len__(self):\n",
    "        return len(self.texts)\n",
    "\n",
    "    def __getitem__(self, idx):\n",
    "        text = self.texts[idx]\n",
    "        label = self.labels[idx]\n",
    "\n",
    "        encoding = self.tokenizer(\n",
    "            text,\n",
    "            add_special_tokens=True,\n",
    "            max_length=self.max_length,\n",
    "            padding='max_length',\n",
    "            truncation=True,\n",
    "            return_tensors='pt'\n",
    "        )\n",
    "\n",
    "        return {\n",
    "            'input_ids': encoding['input_ids'].flatten(),\n",
    "            'attention_mask': encoding['attention_mask'].flatten(),\n",
    "            'labels': torch.tensor(label, dtype=torch.float)\n",
    "        }\n"
   ]
  },
  {
   "cell_type": "code",
   "execution_count": null,
   "id": "2f5772c2",
   "metadata": {},
   "outputs": [],
   "source": [
    "class BertForMultilabelClassification(BertForSequenceClassification):\n",
    "    def __init__(self, config):\n",
    "        super().__init__(config)\n",
    "        self.bce_loss = torch.nn.BCEWithLogitsLoss()\n",
    "\n",
    "    def forward(self, input_ids=None, attention_mask=None, labels=None, **kwargs):\n",
    "        outputs = self.bert(\n",
    "            input_ids,\n",
    "            attention_mask=attention_mask,\n",
    "            **kwargs\n",
    "        )\n",
    "\n",
    "        logits = self.classifier(outputs[0][:, 0, :])\n",
    "\n",
    "        loss = None\n",
    "        if labels is not None:\n",
    "            loss = self.bce_loss(logits, labels)\n",
    "\n",
    "        return torch.nn.functional.sigmoid(logits), loss"
   ]
  },
  {
   "cell_type": "code",
   "execution_count": null,
   "id": "66f89e7d",
   "metadata": {},
   "outputs": [],
   "source": [
    "def load_and_process_data(file_path):\n",
    "    with open(file_path, 'r') as f:\n",
    "        data = json.load(f)\n",
    "    \n",
    "    samples = []\n",
    "    for dialogue in data:\n",
    "        for turn in dialogue['dialogue']:\n",
    "            x = turn['system_transcript']\n",
    "            y = turn.get('dialogue_act', None)\n",
    "            if y:\n",
    "                samples.append((x, y))\n",
    "    return samples"
   ]
  },
  {
   "cell_type": "code",
   "execution_count": null,
   "id": "bc10031e",
   "metadata": {},
   "outputs": [],
   "source": [
    "def evaluate_model(model, eval_dataloader, device, threshold=0.5):\n",
    "    model.eval()\n",
    "    true_labels = []\n",
    "    predicted_probs = []\n",
    "    \n",
    "    with torch.no_grad():\n",
    "        for batch in tqdm(eval_dataloader, desc=\"Evaluating\"):\n",
    "            input_ids = batch['input_ids'].to(device)\n",
    "            attention_mask = batch['attention_mask'].to(device)\n",
    "            labels = batch['labels'].to(device)\n",
    "            \n",
    "            logits, _ = model(input_ids=input_ids, attention_mask=attention_mask)\n",
    "            true_labels.extend(labels.cpu().numpy())\n",
    "            predicted_probs.extend(logits.cpu().numpy())\n",
    "    \n",
    "    \n",
    "    predicted_labels = (np.array(predicted_probs) >= threshold).astype(int)\n",
    "    true_labels = np.array(true_labels)\n",
    "    \n",
    "    f1_micro = f1_score(true_labels, predicted_labels, average='micro')\n",
    "    f1_macro = f1_score(true_labels, predicted_labels, average='macro')\n",
    "    \n",
    "    return {\n",
    "        'f1_micro': f1_micro,\n",
    "        'f1_macro': f1_macro,\n",
    "        'true_labels': true_labels,\n",
    "        'predicted_labels': predicted_labels\n",
    "    }"
   ]
  },
  {
   "cell_type": "code",
   "execution_count": null,
   "id": "38b98580",
   "metadata": {},
   "outputs": [],
   "source": [
    "def predict_new_texts(texts, model, tokenizer, label_binarizer, device, threshold=0.5):\n",
    "    model.eval()\n",
    "    \n",
    "    inputs = tokenizer(\n",
    "        texts,\n",
    "        add_special_tokens=True,\n",
    "        max_length=128,\n",
    "        padding='max_length',\n",
    "        truncation=True,\n",
    "        return_tensors='pt'\n",
    "    )\n",
    "    \n",
    "    with torch.no_grad():\n",
    "        input_ids = inputs['input_ids'].to(device)\n",
    "        attention_mask = inputs['attention_mask'].to(device)\n",
    "        \n",
    "        logits, _ = model(input_ids=input_ids, attention_mask=attention_mask)\n",
    "        predictions = (logits.cpu().numpy() >= threshold).astype(int)\n",
    "        \n",
    "    predicted_labels = label_binarizer.inverse_transform(predictions)\n",
    "    \n",
    "    return predicted_labels"
   ]
  },
  {
   "cell_type": "code",
   "execution_count": 7,
   "id": "19095579",
   "metadata": {
    "execution": {
     "iopub.execute_input": "2024-12-31T07:36:46.918321Z",
     "iopub.status.busy": "2024-12-31T07:36:46.917836Z",
     "iopub.status.idle": "2024-12-31T07:36:46.936599Z",
     "shell.execute_reply": "2024-12-31T07:36:46.935773Z",
     "shell.execute_reply.started": "2024-12-31T07:36:46.918289Z"
    },
    "papermill": {
     "duration": 0.025641,
     "end_time": "2024-12-29T12:19:55.425722",
     "exception": false,
     "start_time": "2024-12-29T12:19:55.400081",
     "status": "completed"
    },
    "tags": [],
    "trusted": true
   },
   "outputs": [],
   "source": [
    "def train_model(train_dataloader, eval_dataloader, model, device, num_epochs=20):\n",
    "    optimizer = torch.optim.AdamW(model.parameters(), lr=2e-5)\n",
    "    best_f1 = 0\n",
    "    \n",
    "    for epoch in range(num_epochs):\n",
    "        print(f\"\\nEpoch {epoch + 1}/{num_epochs}\")\n",
    "        \n",
    "        model.train()\n",
    "        total_loss = 0\n",
    "        progress_bar = tqdm(train_dataloader, desc=\"Training\")\n",
    "        \n",
    "        for batch in progress_bar:\n",
    "            optimizer.zero_grad()\n",
    "            \n",
    "            input_ids = batch['input_ids'].to(device)\n",
    "            attention_mask = batch['attention_mask'].to(device)\n",
    "            labels = batch['labels'].to(device)\n",
    "            \n",
    "            _, loss = model(\n",
    "                input_ids=input_ids,\n",
    "                attention_mask=attention_mask,\n",
    "                labels=labels\n",
    "            )\n",
    "            \n",
    "            total_loss += loss.item()\n",
    "            loss.backward()\n",
    "            optimizer.step()\n",
    "            \n",
    "            progress_bar.set_postfix({'loss': f\"{loss.item():.4f}\"})\n",
    "        \n",
    "        avg_train_loss = total_loss / len(train_dataloader)\n",
    "        print(f\"Average training loss: {avg_train_loss:.4f}\")\n",
    "        \n",
    "        eval_results = evaluate_model(model, eval_dataloader, device)\n",
    "        print(\"\\nEvaluation Results:\")\n",
    "        print(f\"Micro F1: {eval_results['f1_micro']:.4f}\")\n",
    "        print(f\"Macro F1: {eval_results['f1_macro']:.4f}\")\n",
    "        \n",
    "        # Saving\n",
    "        if eval_results['f1_micro'] > best_f1:\n",
    "            best_f1 = eval_results['f1_micro']\n",
    "            model.save_pretrained('./model')\n",
    "            print(f\"New best model saved with Micro F1: {best_f1:.4f}\")\n"
   ]
  },
  {
   "cell_type": "markdown",
   "id": "318b7483",
   "metadata": {},
   "source": [
    "# Training"
   ]
  },
  {
   "cell_type": "code",
   "execution_count": 16,
   "id": "60a6aeaa",
   "metadata": {
    "execution": {
     "iopub.execute_input": "2024-12-29T12:19:55.439838Z",
     "iopub.status.busy": "2024-12-29T12:19:55.439615Z",
     "iopub.status.idle": "2024-12-29T12:19:59.855397Z",
     "shell.execute_reply": "2024-12-29T12:19:59.854431Z"
    },
    "papermill": {
     "duration": 4.424387,
     "end_time": "2024-12-29T12:19:59.856885",
     "exception": false,
     "start_time": "2024-12-29T12:19:55.432498",
     "status": "completed"
    },
    "tags": []
   },
   "outputs": [
    {
     "name": "stdout",
     "output_type": "stream",
     "text": [
      "Using device: cuda\n"
     ]
    }
   ],
   "source": [
    "device = torch.device(\"cuda\" if torch.cuda.is_available() else \"cpu\")\n",
    "print(f\"Using device: {device}\")\n",
    "\n",
    "train_samples = load_and_process_data(\"train_dials.json\")\n",
    "eval_samples = load_and_process_data(\"dev_dials.json\")"
   ]
  },
  {
   "cell_type": "code",
   "execution_count": 17,
   "id": "c38d9ec4",
   "metadata": {
    "execution": {
     "iopub.execute_input": "2024-12-29T12:19:59.872118Z",
     "iopub.status.busy": "2024-12-29T12:19:59.871809Z",
     "iopub.status.idle": "2024-12-29T12:20:00.690820Z",
     "shell.execute_reply": "2024-12-29T12:20:00.689820Z"
    },
    "papermill": {
     "duration": 0.828091,
     "end_time": "2024-12-29T12:20:00.692375",
     "exception": false,
     "start_time": "2024-12-29T12:19:59.864284",
     "status": "completed"
    },
    "tags": []
   },
   "outputs": [
    {
     "data": {
      "application/vnd.jupyter.widget-view+json": {
       "model_id": "fc8f3271339646f6816d333c47fb5932",
       "version_major": 2,
       "version_minor": 0
      },
      "text/plain": [
       "tokenizer_config.json:   0%|          | 0.00/48.0 [00:00<?, ?B/s]"
      ]
     },
     "metadata": {},
     "output_type": "display_data"
    },
    {
     "data": {
      "application/vnd.jupyter.widget-view+json": {
       "model_id": "abdc6d6ddb4b418f9ece31889cd764c7",
       "version_major": 2,
       "version_minor": 0
      },
      "text/plain": [
       "vocab.txt:   0%|          | 0.00/232k [00:00<?, ?B/s]"
      ]
     },
     "metadata": {},
     "output_type": "display_data"
    },
    {
     "data": {
      "application/vnd.jupyter.widget-view+json": {
       "model_id": "4afdd07bd980426b962266032a4a7928",
       "version_major": 2,
       "version_minor": 0
      },
      "text/plain": [
       "tokenizer.json:   0%|          | 0.00/466k [00:00<?, ?B/s]"
      ]
     },
     "metadata": {},
     "output_type": "display_data"
    },
    {
     "data": {
      "application/vnd.jupyter.widget-view+json": {
       "model_id": "18b65d4de06f4e8faa06417c1e55b53d",
       "version_major": 2,
       "version_minor": 0
      },
      "text/plain": [
       "config.json:   0%|          | 0.00/570 [00:00<?, ?B/s]"
      ]
     },
     "metadata": {},
     "output_type": "display_data"
    },
    {
     "name": "stderr",
     "output_type": "stream",
     "text": [
      "/usr/local/lib/python3.10/dist-packages/transformers/tokenization_utils_base.py:1601: FutureWarning: `clean_up_tokenization_spaces` was not set. It will be set to `True` by default. This behavior will be depracted in transformers v4.45, and will be then set to `False` by default. For more details check this issue: https://github.com/huggingface/transformers/issues/31884\n",
      "  warnings.warn(\n"
     ]
    }
   ],
   "source": [
    "tokenizer = BertTokenizer.from_pretrained('bert-base-uncased')\n",
    "\n",
    "train_dataset = DialogueActDataset(train_samples, tokenizer)\n",
    "eval_dataset = DialogueActDataset(eval_samples, tokenizer)"
   ]
  },
  {
   "cell_type": "code",
   "execution_count": 18,
   "id": "53670eb1",
   "metadata": {
    "execution": {
     "iopub.execute_input": "2024-12-29T12:20:00.709119Z",
     "iopub.status.busy": "2024-12-29T12:20:00.708856Z",
     "iopub.status.idle": "2024-12-29T12:20:00.714202Z",
     "shell.execute_reply": "2024-12-29T12:20:00.713489Z"
    },
    "papermill": {
     "duration": 0.015048,
     "end_time": "2024-12-29T12:20:00.715452",
     "exception": false,
     "start_time": "2024-12-29T12:20:00.700404",
     "status": "completed"
    },
    "tags": []
   },
   "outputs": [
    {
     "name": "stdout",
     "output_type": "stream",
     "text": [
      "\n",
      "Training samples: 48241\n",
      "Evaluation samples: 6371\n",
      "\n",
      "Unique dialogue acts: ['Attraction-Inform' 'Attraction-NoOffer' 'Attraction-Recommend'\n",
      " 'Attraction-Request' 'Attraction-Select' 'Booking-Book' 'Booking-Inform'\n",
      " 'Booking-NoBook' 'Booking-Request' 'Hotel-Inform' 'Hotel-NoOffer'\n",
      " 'Hotel-Recommend' 'Hotel-Request' 'Hotel-Select' 'No Annotation'\n",
      " 'Restaurant-Inform' 'Restaurant-NoOffer' 'Restaurant-Recommend'\n",
      " 'Restaurant-Request' 'Restaurant-Select' 'Taxi-Inform' 'Taxi-Request'\n",
      " 'Train-Inform' 'Train-NoOffer' 'Train-OfferBook' 'Train-OfferBooked'\n",
      " 'Train-Request' 'Train-Select' 'general-bye' 'general-greet'\n",
      " 'general-reqmore' 'general-welcome']\n",
      "Number of unique labels: 32\n"
     ]
    }
   ],
   "source": [
    "print(f\"\\nTraining samples: {len(train_dataset)}\")\n",
    "print(f\"Evaluation samples: {len(eval_dataset)}\")\n",
    "print(\"\\nUnique dialogue acts:\", train_dataset.label_binarizer.classes_)\n",
    "print(f\"Number of unique labels: {len(train_dataset.label_binarizer.classes_)}\")"
   ]
  },
  {
   "cell_type": "code",
   "execution_count": 19,
   "id": "330756a2",
   "metadata": {
    "execution": {
     "iopub.execute_input": "2024-12-29T12:20:00.731015Z",
     "iopub.status.busy": "2024-12-29T12:20:00.730799Z",
     "iopub.status.idle": "2024-12-29T12:20:03.613192Z",
     "shell.execute_reply": "2024-12-29T12:20:03.612319Z"
    },
    "papermill": {
     "duration": 2.891907,
     "end_time": "2024-12-29T12:20:03.614916",
     "exception": false,
     "start_time": "2024-12-29T12:20:00.723009",
     "status": "completed"
    },
    "tags": []
   },
   "outputs": [
    {
     "data": {
      "application/vnd.jupyter.widget-view+json": {
       "model_id": "a3a34f78e4c34a6f9e230f40d41f9f82",
       "version_major": 2,
       "version_minor": 0
      },
      "text/plain": [
       "model.safetensors:   0%|          | 0.00/440M [00:00<?, ?B/s]"
      ]
     },
     "metadata": {},
     "output_type": "display_data"
    },
    {
     "name": "stderr",
     "output_type": "stream",
     "text": [
      "Some weights of BertForMultilabelClassification were not initialized from the model checkpoint at bert-base-uncased and are newly initialized: ['classifier.bias', 'classifier.weight']\n",
      "You should probably TRAIN this model on a down-stream task to be able to use it for predictions and inference.\n"
     ]
    }
   ],
   "source": [
    "num_labels = len(train_dataset.label_binarizer.classes_)\n",
    "model = BertForMultilabelClassification.from_pretrained(\n",
    "    'bert-base-uncased',\n",
    "    num_labels=num_labels\n",
    ").to(device)"
   ]
  },
  {
   "cell_type": "code",
   "execution_count": 20,
   "id": "25edd55b",
   "metadata": {
    "execution": {
     "iopub.execute_input": "2024-12-29T12:20:03.632026Z",
     "iopub.status.busy": "2024-12-29T12:20:03.631793Z",
     "iopub.status.idle": "2024-12-29T12:20:03.635480Z",
     "shell.execute_reply": "2024-12-29T12:20:03.634718Z"
    },
    "papermill": {
     "duration": 0.013854,
     "end_time": "2024-12-29T12:20:03.637071",
     "exception": false,
     "start_time": "2024-12-29T12:20:03.623217",
     "status": "completed"
    },
    "tags": []
   },
   "outputs": [],
   "source": [
    "train_dataloader = DataLoader(train_dataset, batch_size=128, shuffle=True)\n",
    "eval_dataloader = DataLoader(eval_dataset, batch_size=128)"
   ]
  },
  {
   "cell_type": "code",
   "execution_count": 21,
   "id": "996c0b69",
   "metadata": {
    "execution": {
     "iopub.execute_input": "2024-12-29T12:20:03.659081Z",
     "iopub.status.busy": "2024-12-29T12:20:03.658789Z",
     "iopub.status.idle": "2024-12-29T18:05:40.445763Z",
     "shell.execute_reply": "2024-12-29T18:05:40.444761Z"
    },
    "papermill": {
     "duration": 20736.79645,
     "end_time": "2024-12-29T18:05:40.447015",
     "exception": false,
     "start_time": "2024-12-29T12:20:03.650565",
     "status": "completed"
    },
    "tags": []
   },
   "outputs": [
    {
     "name": "stdout",
     "output_type": "stream",
     "text": [
      "\n",
      "Epoch 1/20\n"
     ]
    },
    {
     "name": "stderr",
     "output_type": "stream",
     "text": [
      "Training: 100%|██████████| 377/377 [16:09<00:00,  2.57s/it, loss=0.0922]\n"
     ]
    },
    {
     "name": "stdout",
     "output_type": "stream",
     "text": [
      "Average training loss: 0.1691\n"
     ]
    },
    {
     "name": "stderr",
     "output_type": "stream",
     "text": [
      "Evaluating: 100%|██████████| 50/50 [00:50<00:00,  1.01s/it]\n"
     ]
    },
    {
     "name": "stdout",
     "output_type": "stream",
     "text": [
      "\n",
      "Evaluation Results:\n",
      "Micro F1: 0.7963\n",
      "Macro F1: 0.4564\n",
      "New best model saved with Micro F1: 0.7963\n",
      "\n",
      "Epoch 2/20\n"
     ]
    },
    {
     "name": "stderr",
     "output_type": "stream",
     "text": [
      "Training: 100%|██████████| 377/377 [16:24<00:00,  2.61s/it, loss=0.0597]\n"
     ]
    },
    {
     "name": "stdout",
     "output_type": "stream",
     "text": [
      "Average training loss: 0.0738\n"
     ]
    },
    {
     "name": "stderr",
     "output_type": "stream",
     "text": [
      "Evaluating: 100%|██████████| 50/50 [00:50<00:00,  1.01s/it]\n"
     ]
    },
    {
     "name": "stdout",
     "output_type": "stream",
     "text": [
      "\n",
      "Evaluation Results:\n",
      "Micro F1: 0.8594\n",
      "Macro F1: 0.6752\n",
      "New best model saved with Micro F1: 0.8594\n",
      "\n",
      "Epoch 3/20\n"
     ]
    },
    {
     "name": "stderr",
     "output_type": "stream",
     "text": [
      "Training: 100%|██████████| 377/377 [16:25<00:00,  2.61s/it, loss=0.0578]\n"
     ]
    },
    {
     "name": "stdout",
     "output_type": "stream",
     "text": [
      "Average training loss: 0.0533\n"
     ]
    },
    {
     "name": "stderr",
     "output_type": "stream",
     "text": [
      "Evaluating: 100%|██████████| 50/50 [00:50<00:00,  1.01s/it]\n"
     ]
    },
    {
     "name": "stdout",
     "output_type": "stream",
     "text": [
      "\n",
      "Evaluation Results:\n",
      "Micro F1: 0.8681\n",
      "Macro F1: 0.7036\n",
      "New best model saved with Micro F1: 0.8681\n",
      "\n",
      "Epoch 4/20\n"
     ]
    },
    {
     "name": "stderr",
     "output_type": "stream",
     "text": [
      "Training: 100%|██████████| 377/377 [16:26<00:00,  2.62s/it, loss=0.0447]\n"
     ]
    },
    {
     "name": "stdout",
     "output_type": "stream",
     "text": [
      "Average training loss: 0.0441\n"
     ]
    },
    {
     "name": "stderr",
     "output_type": "stream",
     "text": [
      "Evaluating: 100%|██████████| 50/50 [00:50<00:00,  1.00s/it]\n"
     ]
    },
    {
     "name": "stdout",
     "output_type": "stream",
     "text": [
      "\n",
      "Evaluation Results:\n",
      "Micro F1: 0.8723\n",
      "Macro F1: 0.7336\n",
      "New best model saved with Micro F1: 0.8723\n",
      "\n",
      "Epoch 5/20\n"
     ]
    },
    {
     "name": "stderr",
     "output_type": "stream",
     "text": [
      "Training: 100%|██████████| 377/377 [16:26<00:00,  2.62s/it, loss=0.0402]\n"
     ]
    },
    {
     "name": "stdout",
     "output_type": "stream",
     "text": [
      "Average training loss: 0.0382\n"
     ]
    },
    {
     "name": "stderr",
     "output_type": "stream",
     "text": [
      "Evaluating: 100%|██████████| 50/50 [00:50<00:00,  1.01s/it]\n"
     ]
    },
    {
     "name": "stdout",
     "output_type": "stream",
     "text": [
      "\n",
      "Evaluation Results:\n",
      "Micro F1: 0.8713\n",
      "Macro F1: 0.7419\n",
      "\n",
      "Epoch 6/20\n"
     ]
    },
    {
     "name": "stderr",
     "output_type": "stream",
     "text": [
      "Training: 100%|██████████| 377/377 [16:26<00:00,  2.62s/it, loss=0.0314]\n"
     ]
    },
    {
     "name": "stdout",
     "output_type": "stream",
     "text": [
      "Average training loss: 0.0339\n"
     ]
    },
    {
     "name": "stderr",
     "output_type": "stream",
     "text": [
      "Evaluating: 100%|██████████| 50/50 [00:50<00:00,  1.01s/it]\n"
     ]
    },
    {
     "name": "stdout",
     "output_type": "stream",
     "text": [
      "\n",
      "Evaluation Results:\n",
      "Micro F1: 0.8735\n",
      "Macro F1: 0.7459\n",
      "New best model saved with Micro F1: 0.8735\n",
      "\n",
      "Epoch 7/20\n"
     ]
    },
    {
     "name": "stderr",
     "output_type": "stream",
     "text": [
      "Training: 100%|██████████| 377/377 [16:26<00:00,  2.62s/it, loss=0.0302]\n"
     ]
    },
    {
     "name": "stdout",
     "output_type": "stream",
     "text": [
      "Average training loss: 0.0305\n"
     ]
    },
    {
     "name": "stderr",
     "output_type": "stream",
     "text": [
      "Evaluating: 100%|██████████| 50/50 [00:50<00:00,  1.01s/it]\n"
     ]
    },
    {
     "name": "stdout",
     "output_type": "stream",
     "text": [
      "\n",
      "Evaluation Results:\n",
      "Micro F1: 0.8717\n",
      "Macro F1: 0.7555\n",
      "\n",
      "Epoch 8/20\n"
     ]
    },
    {
     "name": "stderr",
     "output_type": "stream",
     "text": [
      "Training: 100%|██████████| 377/377 [16:26<00:00,  2.62s/it, loss=0.0255]\n"
     ]
    },
    {
     "name": "stdout",
     "output_type": "stream",
     "text": [
      "Average training loss: 0.0274\n"
     ]
    },
    {
     "name": "stderr",
     "output_type": "stream",
     "text": [
      "Evaluating: 100%|██████████| 50/50 [00:50<00:00,  1.01s/it]\n"
     ]
    },
    {
     "name": "stdout",
     "output_type": "stream",
     "text": [
      "\n",
      "Evaluation Results:\n",
      "Micro F1: 0.8701\n",
      "Macro F1: 0.7582\n",
      "\n",
      "Epoch 9/20\n"
     ]
    },
    {
     "name": "stderr",
     "output_type": "stream",
     "text": [
      "Training: 100%|██████████| 377/377 [16:26<00:00,  2.62s/it, loss=0.0275]\n"
     ]
    },
    {
     "name": "stdout",
     "output_type": "stream",
     "text": [
      "Average training loss: 0.0246\n"
     ]
    },
    {
     "name": "stderr",
     "output_type": "stream",
     "text": [
      "Evaluating: 100%|██████████| 50/50 [00:50<00:00,  1.01s/it]\n"
     ]
    },
    {
     "name": "stdout",
     "output_type": "stream",
     "text": [
      "\n",
      "Evaluation Results:\n",
      "Micro F1: 0.8697\n",
      "Macro F1: 0.7506\n",
      "\n",
      "Epoch 10/20\n"
     ]
    },
    {
     "name": "stderr",
     "output_type": "stream",
     "text": [
      "Training: 100%|██████████| 377/377 [16:26<00:00,  2.62s/it, loss=0.0241]\n"
     ]
    },
    {
     "name": "stdout",
     "output_type": "stream",
     "text": [
      "Average training loss: 0.0223\n"
     ]
    },
    {
     "name": "stderr",
     "output_type": "stream",
     "text": [
      "Evaluating: 100%|██████████| 50/50 [00:50<00:00,  1.01s/it]\n"
     ]
    },
    {
     "name": "stdout",
     "output_type": "stream",
     "text": [
      "\n",
      "Evaluation Results:\n",
      "Micro F1: 0.8697\n",
      "Macro F1: 0.7446\n",
      "\n",
      "Epoch 11/20\n"
     ]
    },
    {
     "name": "stderr",
     "output_type": "stream",
     "text": [
      "Training: 100%|██████████| 377/377 [16:26<00:00,  2.62s/it, loss=0.0184]\n"
     ]
    },
    {
     "name": "stdout",
     "output_type": "stream",
     "text": [
      "Average training loss: 0.0202\n"
     ]
    },
    {
     "name": "stderr",
     "output_type": "stream",
     "text": [
      "Evaluating: 100%|██████████| 50/50 [00:50<00:00,  1.01s/it]\n"
     ]
    },
    {
     "name": "stdout",
     "output_type": "stream",
     "text": [
      "\n",
      "Evaluation Results:\n",
      "Micro F1: 0.8642\n",
      "Macro F1: 0.7497\n",
      "\n",
      "Epoch 12/20\n"
     ]
    },
    {
     "name": "stderr",
     "output_type": "stream",
     "text": [
      "Training: 100%|██████████| 377/377 [16:27<00:00,  2.62s/it, loss=0.0200]\n"
     ]
    },
    {
     "name": "stdout",
     "output_type": "stream",
     "text": [
      "Average training loss: 0.0183\n"
     ]
    },
    {
     "name": "stderr",
     "output_type": "stream",
     "text": [
      "Evaluating: 100%|██████████| 50/50 [00:50<00:00,  1.01s/it]\n"
     ]
    },
    {
     "name": "stdout",
     "output_type": "stream",
     "text": [
      "\n",
      "Evaluation Results:\n",
      "Micro F1: 0.8657\n",
      "Macro F1: 0.7522\n",
      "\n",
      "Epoch 13/20\n"
     ]
    },
    {
     "name": "stderr",
     "output_type": "stream",
     "text": [
      "Training: 100%|██████████| 377/377 [16:27<00:00,  2.62s/it, loss=0.0157]\n"
     ]
    },
    {
     "name": "stdout",
     "output_type": "stream",
     "text": [
      "Average training loss: 0.0165\n"
     ]
    },
    {
     "name": "stderr",
     "output_type": "stream",
     "text": [
      "Evaluating: 100%|██████████| 50/50 [00:50<00:00,  1.01s/it]\n"
     ]
    },
    {
     "name": "stdout",
     "output_type": "stream",
     "text": [
      "\n",
      "Evaluation Results:\n",
      "Micro F1: 0.8608\n",
      "Macro F1: 0.7479\n",
      "\n",
      "Epoch 14/20\n"
     ]
    },
    {
     "name": "stderr",
     "output_type": "stream",
     "text": [
      "Training: 100%|██████████| 377/377 [16:26<00:00,  2.62s/it, loss=0.0138]\n"
     ]
    },
    {
     "name": "stdout",
     "output_type": "stream",
     "text": [
      "Average training loss: 0.0150\n"
     ]
    },
    {
     "name": "stderr",
     "output_type": "stream",
     "text": [
      "Evaluating: 100%|██████████| 50/50 [00:50<00:00,  1.01s/it]\n"
     ]
    },
    {
     "name": "stdout",
     "output_type": "stream",
     "text": [
      "\n",
      "Evaluation Results:\n",
      "Micro F1: 0.8639\n",
      "Macro F1: 0.7531\n",
      "\n",
      "Epoch 15/20\n"
     ]
    },
    {
     "name": "stderr",
     "output_type": "stream",
     "text": [
      "Training: 100%|██████████| 377/377 [16:27<00:00,  2.62s/it, loss=0.0120]\n"
     ]
    },
    {
     "name": "stdout",
     "output_type": "stream",
     "text": [
      "Average training loss: 0.0138\n"
     ]
    },
    {
     "name": "stderr",
     "output_type": "stream",
     "text": [
      "Evaluating: 100%|██████████| 50/50 [00:50<00:00,  1.01s/it]\n"
     ]
    },
    {
     "name": "stdout",
     "output_type": "stream",
     "text": [
      "\n",
      "Evaluation Results:\n",
      "Micro F1: 0.8612\n",
      "Macro F1: 0.7539\n",
      "\n",
      "Epoch 16/20\n"
     ]
    },
    {
     "name": "stderr",
     "output_type": "stream",
     "text": [
      "Training: 100%|██████████| 377/377 [16:26<00:00,  2.62s/it, loss=0.0089]\n"
     ]
    },
    {
     "name": "stdout",
     "output_type": "stream",
     "text": [
      "Average training loss: 0.0124\n"
     ]
    },
    {
     "name": "stderr",
     "output_type": "stream",
     "text": [
      "Evaluating: 100%|██████████| 50/50 [00:50<00:00,  1.01s/it]\n"
     ]
    },
    {
     "name": "stdout",
     "output_type": "stream",
     "text": [
      "\n",
      "Evaluation Results:\n",
      "Micro F1: 0.8607\n",
      "Macro F1: 0.7441\n",
      "\n",
      "Epoch 17/20\n"
     ]
    },
    {
     "name": "stderr",
     "output_type": "stream",
     "text": [
      "Training: 100%|██████████| 377/377 [16:26<00:00,  2.62s/it, loss=0.0089]\n"
     ]
    },
    {
     "name": "stdout",
     "output_type": "stream",
     "text": [
      "Average training loss: 0.0114\n"
     ]
    },
    {
     "name": "stderr",
     "output_type": "stream",
     "text": [
      "Evaluating: 100%|██████████| 50/50 [00:50<00:00,  1.01s/it]\n"
     ]
    },
    {
     "name": "stdout",
     "output_type": "stream",
     "text": [
      "\n",
      "Evaluation Results:\n",
      "Micro F1: 0.8616\n",
      "Macro F1: 0.7490\n",
      "\n",
      "Epoch 18/20\n"
     ]
    },
    {
     "name": "stderr",
     "output_type": "stream",
     "text": [
      "Training: 100%|██████████| 377/377 [16:27<00:00,  2.62s/it, loss=0.0104]\n"
     ]
    },
    {
     "name": "stdout",
     "output_type": "stream",
     "text": [
      "Average training loss: 0.0105\n"
     ]
    },
    {
     "name": "stderr",
     "output_type": "stream",
     "text": [
      "Evaluating: 100%|██████████| 50/50 [00:50<00:00,  1.01s/it]\n"
     ]
    },
    {
     "name": "stdout",
     "output_type": "stream",
     "text": [
      "\n",
      "Evaluation Results:\n",
      "Micro F1: 0.8586\n",
      "Macro F1: 0.7532\n",
      "\n",
      "Epoch 19/20\n"
     ]
    },
    {
     "name": "stderr",
     "output_type": "stream",
     "text": [
      "Training: 100%|██████████| 377/377 [16:28<00:00,  2.62s/it, loss=0.0069]\n"
     ]
    },
    {
     "name": "stdout",
     "output_type": "stream",
     "text": [
      "Average training loss: 0.0097\n"
     ]
    },
    {
     "name": "stderr",
     "output_type": "stream",
     "text": [
      "Evaluating: 100%|██████████| 50/50 [00:50<00:00,  1.01s/it]\n"
     ]
    },
    {
     "name": "stdout",
     "output_type": "stream",
     "text": [
      "\n",
      "Evaluation Results:\n",
      "Micro F1: 0.8642\n",
      "Macro F1: 0.7482\n",
      "\n",
      "Epoch 20/20\n"
     ]
    },
    {
     "name": "stderr",
     "output_type": "stream",
     "text": [
      "Training: 100%|██████████| 377/377 [16:27<00:00,  2.62s/it, loss=0.0064]\n"
     ]
    },
    {
     "name": "stdout",
     "output_type": "stream",
     "text": [
      "Average training loss: 0.0091\n"
     ]
    },
    {
     "name": "stderr",
     "output_type": "stream",
     "text": [
      "Evaluating: 100%|██████████| 50/50 [00:50<00:00,  1.01s/it]"
     ]
    },
    {
     "name": "stdout",
     "output_type": "stream",
     "text": [
      "\n",
      "Evaluation Results:\n",
      "Micro F1: 0.8611\n",
      "Macro F1: 0.7469\n"
     ]
    },
    {
     "name": "stderr",
     "output_type": "stream",
     "text": [
      "\n"
     ]
    }
   ],
   "source": [
    "train_model(train_dataloader, eval_dataloader, model, device)"
   ]
  },
  {
   "cell_type": "markdown",
   "id": "f400b768-92ce-485b-b289-d02bcfef5d61",
   "metadata": {},
   "source": [
    "# Evaluating"
   ]
  },
  {
   "cell_type": "code",
   "execution_count": 9,
   "id": "1920b82d",
   "metadata": {
    "execution": {
     "iopub.execute_input": "2024-12-31T07:37:59.739805Z",
     "iopub.status.busy": "2024-12-31T07:37:59.739426Z",
     "iopub.status.idle": "2024-12-31T07:37:59.996029Z",
     "shell.execute_reply": "2024-12-31T07:37:59.995210Z",
     "shell.execute_reply.started": "2024-12-31T07:37:59.739763Z"
    },
    "papermill": {
     "duration": 0.823054,
     "end_time": "2024-12-29T18:05:41.991106",
     "exception": false,
     "start_time": "2024-12-29T18:05:41.168052",
     "status": "completed"
    },
    "tags": [],
    "trusted": true
   },
   "outputs": [],
   "source": [
    "import random\n",
    "import torch\n",
    "from transformers import BertTokenizer\n",
    "from torch.utils.data import DataLoader\n",
    "import random\n",
    "import numpy as np\n",
    "from sklearn.metrics import classification_report, accuracy_score, f1_score\n",
    "import pandas as pd\n"
   ]
  },
  {
   "cell_type": "code",
   "execution_count": 10,
   "id": "6fd16e0d-bb45-45c2-95f6-3619c014b804",
   "metadata": {
    "execution": {
     "iopub.execute_input": "2024-12-31T07:38:11.150930Z",
     "iopub.status.busy": "2024-12-31T07:38:11.150466Z",
     "iopub.status.idle": "2024-12-31T07:38:12.373656Z",
     "shell.execute_reply": "2024-12-31T07:38:12.372648Z",
     "shell.execute_reply.started": "2024-12-31T07:38:11.150901Z"
    },
    "trusted": true
   },
   "outputs": [
    {
     "name": "stdout",
     "output_type": "stream",
     "text": [
      "Using device: cuda\n"
     ]
    },
    {
     "data": {
      "application/vnd.jupyter.widget-view+json": {
       "model_id": "28ec34a4db814294a264990810f33809",
       "version_major": 2,
       "version_minor": 0
      },
      "text/plain": [
       "tokenizer_config.json:   0%|          | 0.00/48.0 [00:00<?, ?B/s]"
      ]
     },
     "metadata": {},
     "output_type": "display_data"
    },
    {
     "data": {
      "application/vnd.jupyter.widget-view+json": {
       "model_id": "e9d4b19ee38946b1b8f052f051ca273e",
       "version_major": 2,
       "version_minor": 0
      },
      "text/plain": [
       "vocab.txt:   0%|          | 0.00/232k [00:00<?, ?B/s]"
      ]
     },
     "metadata": {},
     "output_type": "display_data"
    },
    {
     "data": {
      "application/vnd.jupyter.widget-view+json": {
       "model_id": "3c9830daaad940579fcab741a32f6fe9",
       "version_major": 2,
       "version_minor": 0
      },
      "text/plain": [
       "tokenizer.json:   0%|          | 0.00/466k [00:00<?, ?B/s]"
      ]
     },
     "metadata": {},
     "output_type": "display_data"
    },
    {
     "data": {
      "application/vnd.jupyter.widget-view+json": {
       "model_id": "a3fd693248204232a4d0241d45d4eb2b",
       "version_major": 2,
       "version_minor": 0
      },
      "text/plain": [
       "config.json:   0%|          | 0.00/570 [00:00<?, ?B/s]"
      ]
     },
     "metadata": {},
     "output_type": "display_data"
    },
    {
     "name": "stderr",
     "output_type": "stream",
     "text": [
      "/usr/local/lib/python3.10/dist-packages/transformers/tokenization_utils_base.py:1601: FutureWarning: `clean_up_tokenization_spaces` was not set. It will be set to `True` by default. This behavior will be depracted in transformers v4.45, and will be then set to `False` by default. For more details check this issue: https://github.com/huggingface/transformers/issues/31884\n",
      "  warnings.warn(\n"
     ]
    }
   ],
   "source": [
    "device = torch.device(\"cuda\" if torch.cuda.is_available() else \"cpu\")\n",
    "print(f\"Using device: {device}\")\n",
    "tokenizer = BertTokenizer.from_pretrained('bert-base-uncased')"
   ]
  },
  {
   "cell_type": "code",
   "execution_count": 11,
   "id": "3021b47a-9ec2-4989-87d6-49a8b18a47f6",
   "metadata": {
    "execution": {
     "iopub.execute_input": "2024-12-31T07:38:17.049638Z",
     "iopub.status.busy": "2024-12-31T07:38:17.049287Z",
     "iopub.status.idle": "2024-12-31T07:38:24.209160Z",
     "shell.execute_reply": "2024-12-31T07:38:24.208286Z",
     "shell.execute_reply.started": "2024-12-31T07:38:17.049610Z"
    },
    "trusted": true
   },
   "outputs": [
    {
     "data": {
      "text/plain": [
       "BertForMultilabelClassification(\n",
       "  (bert): BertModel(\n",
       "    (embeddings): BertEmbeddings(\n",
       "      (word_embeddings): Embedding(30522, 768, padding_idx=0)\n",
       "      (position_embeddings): Embedding(512, 768)\n",
       "      (token_type_embeddings): Embedding(2, 768)\n",
       "      (LayerNorm): LayerNorm((768,), eps=1e-12, elementwise_affine=True)\n",
       "      (dropout): Dropout(p=0.1, inplace=False)\n",
       "    )\n",
       "    (encoder): BertEncoder(\n",
       "      (layer): ModuleList(\n",
       "        (0-11): 12 x BertLayer(\n",
       "          (attention): BertAttention(\n",
       "            (self): BertSdpaSelfAttention(\n",
       "              (query): Linear(in_features=768, out_features=768, bias=True)\n",
       "              (key): Linear(in_features=768, out_features=768, bias=True)\n",
       "              (value): Linear(in_features=768, out_features=768, bias=True)\n",
       "              (dropout): Dropout(p=0.1, inplace=False)\n",
       "            )\n",
       "            (output): BertSelfOutput(\n",
       "              (dense): Linear(in_features=768, out_features=768, bias=True)\n",
       "              (LayerNorm): LayerNorm((768,), eps=1e-12, elementwise_affine=True)\n",
       "              (dropout): Dropout(p=0.1, inplace=False)\n",
       "            )\n",
       "          )\n",
       "          (intermediate): BertIntermediate(\n",
       "            (dense): Linear(in_features=768, out_features=3072, bias=True)\n",
       "            (intermediate_act_fn): GELUActivation()\n",
       "          )\n",
       "          (output): BertOutput(\n",
       "            (dense): Linear(in_features=3072, out_features=768, bias=True)\n",
       "            (LayerNorm): LayerNorm((768,), eps=1e-12, elementwise_affine=True)\n",
       "            (dropout): Dropout(p=0.1, inplace=False)\n",
       "          )\n",
       "        )\n",
       "      )\n",
       "    )\n",
       "    (pooler): BertPooler(\n",
       "      (dense): Linear(in_features=768, out_features=768, bias=True)\n",
       "      (activation): Tanh()\n",
       "    )\n",
       "  )\n",
       "  (dropout): Dropout(p=0.1, inplace=False)\n",
       "  (classifier): Linear(in_features=768, out_features=32, bias=True)\n",
       "  (bce_loss): BCEWithLogitsLoss()\n",
       ")"
      ]
     },
     "execution_count": 11,
     "metadata": {},
     "output_type": "execute_result"
    }
   ],
   "source": [
    "model = BertForMultilabelClassification.from_pretrained('/kaggle/input/test/transformers/default/1').to(device)\n",
    "model.eval()"
   ]
  },
  {
   "cell_type": "code",
   "execution_count": 12,
   "id": "294268bb-1faa-49aa-9856-83b1fea6be7c",
   "metadata": {
    "execution": {
     "iopub.execute_input": "2024-12-31T07:38:28.985873Z",
     "iopub.status.busy": "2024-12-31T07:38:28.985549Z",
     "iopub.status.idle": "2024-12-31T07:38:29.179989Z",
     "shell.execute_reply": "2024-12-31T07:38:29.179276Z",
     "shell.execute_reply.started": "2024-12-31T07:38:28.985848Z"
    },
    "trusted": true
   },
   "outputs": [],
   "source": [
    "test_samples = load_and_process_data(\"/kaggle/working/test_dials.json\")\n",
    "test_dataset = DialogueActDataset(test_samples, tokenizer)\n",
    "test_dataloader = DataLoader(test_dataset, batch_size=128)"
   ]
  },
  {
   "cell_type": "code",
   "execution_count": 13,
   "id": "0462d58c-47e8-460c-8927-9be709e399fd",
   "metadata": {
    "execution": {
     "iopub.execute_input": "2024-12-31T07:38:56.209449Z",
     "iopub.status.busy": "2024-12-31T07:38:56.209106Z",
     "iopub.status.idle": "2024-12-31T07:38:56.216078Z",
     "shell.execute_reply": "2024-12-31T07:38:56.215197Z",
     "shell.execute_reply.started": "2024-12-31T07:38:56.209423Z"
    },
    "trusted": true
   },
   "outputs": [],
   "source": [
    "def evaluate_test_set(model, test_dataloader, device, threshold=0.5):\n",
    "    model.eval()\n",
    "    all_true_labels = []\n",
    "    all_predicted_labels = []\n",
    "    \n",
    "    with torch.no_grad():\n",
    "        for batch in tqdm(test_dataloader, desc=\"Evaluating Test Set\"):\n",
    "            input_ids = batch['input_ids'].to(device)\n",
    "            attention_mask = batch['attention_mask'].to(device)\n",
    "            labels = batch['labels']\n",
    "            \n",
    "            logits, _ = model(input_ids=input_ids, attention_mask=attention_mask)\n",
    "            predictions = (logits >= threshold).cpu().numpy().astype(int)\n",
    "            all_true_labels.extend(labels.numpy())\n",
    "            all_predicted_labels.extend(predictions)\n",
    "    \n",
    "    all_true_labels = np.array(all_true_labels)\n",
    "    all_predicted_labels = np.array(all_predicted_labels)\n",
    "    accuracy = accuracy_score(all_true_labels.flatten(), all_predicted_labels.flatten())\n",
    "    f1_micro = f1_score(all_true_labels, all_predicted_labels, average='micro')\n",
    "    f1_macro = f1_score(all_true_labels, all_predicted_labels, average='macro')\n",
    "    \n",
    "    label_names = test_dataset.label_binarizer.classes_\n",
    "    report = classification_report(\n",
    "        all_true_labels, \n",
    "        all_predicted_labels,\n",
    "        target_names=label_names,\n",
    "        zero_division=0\n",
    "    )\n",
    "    \n",
    "    return {\n",
    "        'accuracy': accuracy,\n",
    "        'f1_micro': f1_micro,\n",
    "        'f1_macro': f1_macro,\n",
    "        'classification_report': report\n",
    "    }\n"
   ]
  },
  {
   "cell_type": "code",
   "execution_count": 15,
   "id": "19914b32-60a6-451b-9c5d-6f481352e56e",
   "metadata": {
    "execution": {
     "iopub.execute_input": "2024-12-31T07:39:14.477882Z",
     "iopub.status.busy": "2024-12-31T07:39:14.477555Z",
     "iopub.status.idle": "2024-12-31T07:39:58.889625Z",
     "shell.execute_reply": "2024-12-31T07:39:58.888783Z",
     "shell.execute_reply.started": "2024-12-31T07:39:14.477853Z"
    },
    "trusted": true
   },
   "outputs": [
    {
     "name": "stderr",
     "output_type": "stream",
     "text": [
      "Evaluating Test Set: 100%|██████████| 50/50 [00:44<00:00,  1.13it/s]\n"
     ]
    }
   ],
   "source": [
    "eval_results = evaluate_test_set(model, test_dataloader, device)"
   ]
  },
  {
   "cell_type": "code",
   "execution_count": 16,
   "id": "32fa1bdf-248d-48b5-94cc-fac7225c0b1f",
   "metadata": {
    "execution": {
     "iopub.execute_input": "2024-12-31T07:40:04.884997Z",
     "iopub.status.busy": "2024-12-31T07:40:04.884483Z",
     "iopub.status.idle": "2024-12-31T07:40:04.891230Z",
     "shell.execute_reply": "2024-12-31T07:40:04.890523Z",
     "shell.execute_reply.started": "2024-12-31T07:40:04.884952Z"
    },
    "trusted": true
   },
   "outputs": [
    {
     "name": "stdout",
     "output_type": "stream",
     "text": [
      "\n",
      "Test Set Metrics:\n",
      "Accuracy: 0.9879\n",
      "Micro F1: 0.8752\n",
      "Macro F1: 0.7707\n",
      "\n",
      "Detailed Classification Report:\n",
      "                      precision    recall  f1-score   support\n",
      "\n",
      "   Attraction-Inform       0.91      0.91      0.91       833\n",
      "  Attraction-NoOffer       0.77      0.84      0.80        56\n",
      "Attraction-Recommend       0.77      0.71      0.74       147\n",
      "  Attraction-Request       0.79      0.78      0.78       159\n",
      "   Attraction-Select       0.70      0.58      0.63        55\n",
      "        Booking-Book       0.89      0.95      0.92       526\n",
      "      Booking-Inform       0.93      0.91      0.92       558\n",
      "      Booking-NoBook       0.96      0.97      0.97       131\n",
      "     Booking-Request       0.95      0.94      0.94       321\n",
      "        Hotel-Inform       0.86      0.90      0.88       809\n",
      "       Hotel-NoOffer       0.86      0.75      0.80        65\n",
      "     Hotel-Recommend       0.68      0.68      0.68       138\n",
      "       Hotel-Request       0.83      0.84      0.84       280\n",
      "        Hotel-Select       0.76      0.67      0.71        79\n",
      "       No Annotation       0.71      0.06      0.12        77\n",
      "   Restaurant-Inform       0.88      0.88      0.88       730\n",
      "  Restaurant-NoOffer       0.91      0.92      0.91       108\n",
      "Restaurant-Recommend       0.79      0.53      0.64       144\n",
      "  Restaurant-Request       0.91      0.85      0.88       295\n",
      "   Restaurant-Select       0.83      0.56      0.67        85\n",
      "         Taxi-Inform       1.00      1.00      1.00       217\n",
      "        Taxi-Request       0.89      0.58      0.70       172\n",
      "        Train-Inform       0.95      0.97      0.96       901\n",
      "       Train-NoOffer       0.88      0.78      0.82         9\n",
      "     Train-OfferBook       0.95      0.86      0.90       375\n",
      "   Train-OfferBooked       0.93      0.82      0.87       292\n",
      "       Train-Request       0.89      0.95      0.92       682\n",
      "        Train-Select       0.61      0.32      0.42        34\n",
      "         general-bye       0.73      0.81      0.77        54\n",
      "       general-greet       0.25      0.02      0.03       164\n",
      "     general-reqmore       0.88      0.93      0.90      1411\n",
      "     general-welcome       0.76      0.68      0.72        90\n",
      "\n",
      "           micro avg       0.89      0.86      0.88      9997\n",
      "           macro avg       0.83      0.75      0.77      9997\n",
      "        weighted avg       0.88      0.86      0.86      9997\n",
      "         samples avg       0.88      0.86      0.86      9997\n",
      "\n"
     ]
    }
   ],
   "source": [
    "print(\"\\nTest Set Metrics:\")\n",
    "print(f\"Accuracy: {eval_results['accuracy']:.4f}\")\n",
    "print(f\"Micro F1: {eval_results['f1_micro']:.4f}\")\n",
    "print(f\"Macro F1: {eval_results['f1_macro']:.4f}\")\n",
    "\n",
    "print(\"\\nDetailed Classification Report:\")\n",
    "print(eval_results['classification_report'])"
   ]
  },
  {
   "cell_type": "code",
   "execution_count": null,
   "id": "ce4f3513-1f3e-40f7-baec-cd786d3f6e76",
   "metadata": {
    "trusted": true
   },
   "outputs": [],
   "source": [
    "def predict_random_samples(model, test_dataset, device, n_samples=10, threshold=0.5):\n",
    "    random_indices = random.sample(range(len(test_dataset)), n_samples)\n",
    "    \n",
    "    selected_texts = [test_dataset.texts[i] for i in random_indices]\n",
    "    true_labels = [test_dataset.acts[i] for i in random_indices]\n",
    "    \n",
    "    inputs = test_dataset.tokenizer(\n",
    "        selected_texts,\n",
    "        add_special_tokens=True,\n",
    "        max_length=test_dataset.max_length,\n",
    "        padding='max_length',\n",
    "        truncation=True,\n",
    "        return_tensors='pt'\n",
    "    )\n",
    "    \n",
    "    model.eval()\n",
    "    with torch.no_grad():\n",
    "        input_ids = inputs['input_ids'].to(device)\n",
    "        attention_mask = inputs['attention_mask'].to(device)\n",
    "        \n",
    "        logits, _ = model(input_ids=input_ids, attention_mask=attention_mask)\n",
    "        predictions = (logits >= threshold).cpu().numpy().astype(int)\n",
    "        \n",
    "    predicted_labels = test_dataset.label_binarizer.inverse_transform(predictions)\n",
    "    \n",
    "    results = []\n",
    "    for i in range(n_samples):\n",
    "        result = (\n",
    "            f\"Text: {selected_texts[i]}\\n\"\n",
    "            f\"True Labels: {', '.join(true_labels[i])}\\n\"\n",
    "            f\"Predicted Labels: {', '.join(predicted_labels[i])}\"\n",
    "        )\n",
    "        results.append(result)\n",
    "    \n",
    "    return results"
   ]
  },
  {
   "cell_type": "code",
   "execution_count": 17,
   "id": "20dd400c-9182-4465-9214-88a70fecf660",
   "metadata": {
    "execution": {
     "iopub.execute_input": "2024-12-31T07:40:12.309023Z",
     "iopub.status.busy": "2024-12-31T07:40:12.308697Z",
     "iopub.status.idle": "2024-12-31T07:40:12.413323Z",
     "shell.execute_reply": "2024-12-31T07:40:12.412412Z",
     "shell.execute_reply.started": "2024-12-31T07:40:12.308999Z"
    },
    "trusted": true
   },
   "outputs": [
    {
     "name": "stdout",
     "output_type": "stream",
     "text": [
      "Sample 1:\n",
      "Text: booking was successful . the table will be reserved for 15 minutes . reference number is : f29amxp7 .\n",
      "True Labels: Booking-Book\n",
      "Predicted Labels: Booking-Book\n",
      "--------------------------------------------------\n",
      "Sample 2:\n",
      "Text: the first train to leave stevenage after 09:45 leaves at 09:54 and costs 12.80 pounds . would you like me to book that for you ?\n",
      "True Labels: Train-Inform, Train-OfferBook\n",
      "Predicted Labels: Train-Inform, Train-OfferBook\n",
      "--------------------------------------------------\n",
      "Sample 3:\n",
      "Text: may i book you taxi or anything else ?\n",
      "True Labels: general-reqmore\n",
      "Predicted Labels: general-reqmore\n",
      "--------------------------------------------------\n",
      "Sample 4:\n",
      "Text: call them at 01223363682\n",
      "True Labels: Hotel-Inform\n",
      "Predicted Labels: Hotel-Inform\n",
      "--------------------------------------------------\n",
      "Sample 5:\n",
      "Text: all right , a red skoda will pick you up . the contact number is 07278222346 .\n",
      "True Labels: Taxi-Inform\n",
      "Predicted Labels: Taxi-Inform\n",
      "--------------------------------------------------\n",
      "Sample 6:\n",
      "Text: i will book that for you now .\n",
      "True Labels: Booking-Inform\n",
      "Predicted Labels: Booking-Inform\n",
      "--------------------------------------------------\n",
      "Sample 7:\n",
      "Text: your table for 4 at frankie and bennys at 14:30 this friday was successful . the table will be reserved for 15 minutes . your reference number is : h6ruhknu .\n",
      "True Labels: Booking-Book\n",
      "Predicted Labels: Booking-Book\n",
      "--------------------------------------------------\n",
      "Sample 8:\n",
      "Text: what is your destination ?\n",
      "True Labels: Train-Request\n",
      "Predicted Labels: Train-Request\n",
      "--------------------------------------------------\n",
      "Sample 9:\n",
      "Text: where would you be departing from ?\n",
      "True Labels: Train-Request\n",
      "Predicted Labels: Train-Request\n",
      "--------------------------------------------------\n",
      "Sample 10:\n",
      "Text: you are booked for a black lexus with the contact number 07050495250 . is there anything else ?\n",
      "True Labels: Taxi-Inform, general-reqmore\n",
      "Predicted Labels: Taxi-Inform, general-reqmore\n",
      "--------------------------------------------------\n"
     ]
    }
   ],
   "source": [
    "random_predictions = predict_random_samples(model, test_dataset, device)\n",
    "\n",
    "for i, prediction in enumerate(random_predictions, start=1):\n",
    "    print(f\"Sample {i}:\\n{prediction}\\n{'-'*50}\")"
   ]
  }
 ],
 "metadata": {
  "kaggle": {
   "accelerator": "nvidiaTeslaT4",
   "dataSources": [
    {
     "datasetId": 6366394,
     "sourceId": 10287364,
     "sourceType": "datasetVersion"
    },
    {
     "datasetId": 6365418,
     "sourceId": 10287400,
     "sourceType": "datasetVersion"
    },
    {
     "isSourceIdPinned": true,
     "modelId": 201526,
     "modelInstanceId": 179246,
     "sourceId": 210240,
     "sourceType": "modelInstanceVersion"
    },
    {
     "isSourceIdPinned": true,
     "modelId": 204610,
     "modelInstanceId": 182396,
     "sourceId": 213970,
     "sourceType": "modelInstanceVersion"
    }
   ],
   "dockerImageVersionId": 30823,
   "isGpuEnabled": true,
   "isInternetEnabled": true,
   "language": "python",
   "sourceType": "notebook"
  },
  "kernelspec": {
   "display_name": "Python 3",
   "language": "python",
   "name": "python3"
  },
  "language_info": {
   "codemirror_mode": {
    "name": "ipython",
    "version": 3
   },
   "file_extension": ".py",
   "mimetype": "text/x-python",
   "name": "python",
   "nbconvert_exporter": "python",
   "pygments_lexer": "ipython3",
   "version": "3.10.12"
  },
  "papermill": {
   "default_parameters": {},
   "duration": 20871.901043,
   "end_time": "2024-12-29T18:06:39.608788",
   "environment_variables": {},
   "exception": true,
   "input_path": "__notebook__.ipynb",
   "output_path": "__notebook__.ipynb",
   "parameters": {},
   "start_time": "2024-12-29T12:18:47.707745",
   "version": "2.6.0"
  },
  "widgets": {
   "application/vnd.jupyter.widget-state+json": {
    "state": {
     "0064e750e21f477a84e5f02a46d6b37a": {
      "model_module": "@jupyter-widgets/controls",
      "model_module_version": "2.0.0",
      "model_name": "FloatProgressModel",
      "state": {
       "_dom_classes": [],
       "_model_module": "@jupyter-widgets/controls",
       "_model_module_version": "2.0.0",
       "_model_name": "FloatProgressModel",
       "_view_count": null,
       "_view_module": "@jupyter-widgets/controls",
       "_view_module_version": "2.0.0",
       "_view_name": "ProgressView",
       "bar_style": "success",
       "description": "",
       "description_allow_html": false,
       "layout": "IPY_MODEL_ecc276e34be34b278d81b24c6ce6a841",
       "max": 440449768,
       "min": 0,
       "orientation": "horizontal",
       "style": "IPY_MODEL_0e4b8d273cf64ce997deed0ea2699292",
       "tabbable": null,
       "tooltip": null,
       "value": 440449768
      }
     },
     "048667648a1a4d4698d04cf69c5a59d6": {
      "model_module": "@jupyter-widgets/base",
      "model_module_version": "2.0.0",
      "model_name": "LayoutModel",
      "state": {
       "_model_module": "@jupyter-widgets/base",
       "_model_module_version": "2.0.0",
       "_model_name": "LayoutModel",
       "_view_count": null,
       "_view_module": "@jupyter-widgets/base",
       "_view_module_version": "2.0.0",
       "_view_name": "LayoutView",
       "align_content": null,
       "align_items": null,
       "align_self": null,
       "border_bottom": null,
       "border_left": null,
       "border_right": null,
       "border_top": null,
       "bottom": null,
       "display": null,
       "flex": null,
       "flex_flow": null,
       "grid_area": null,
       "grid_auto_columns": null,
       "grid_auto_flow": null,
       "grid_auto_rows": null,
       "grid_column": null,
       "grid_gap": null,
       "grid_row": null,
       "grid_template_areas": null,
       "grid_template_columns": null,
       "grid_template_rows": null,
       "height": null,
       "justify_content": null,
       "justify_items": null,
       "left": null,
       "margin": null,
       "max_height": null,
       "max_width": null,
       "min_height": null,
       "min_width": null,
       "object_fit": null,
       "object_position": null,
       "order": null,
       "overflow": null,
       "padding": null,
       "right": null,
       "top": null,
       "visibility": null,
       "width": null
      }
     },
     "0512451393534db4b9755d9c852ad557": {
      "model_module": "@jupyter-widgets/base",
      "model_module_version": "2.0.0",
      "model_name": "LayoutModel",
      "state": {
       "_model_module": "@jupyter-widgets/base",
       "_model_module_version": "2.0.0",
       "_model_name": "LayoutModel",
       "_view_count": null,
       "_view_module": "@jupyter-widgets/base",
       "_view_module_version": "2.0.0",
       "_view_name": "LayoutView",
       "align_content": null,
       "align_items": null,
       "align_self": null,
       "border_bottom": null,
       "border_left": null,
       "border_right": null,
       "border_top": null,
       "bottom": null,
       "display": null,
       "flex": null,
       "flex_flow": null,
       "grid_area": null,
       "grid_auto_columns": null,
       "grid_auto_flow": null,
       "grid_auto_rows": null,
       "grid_column": null,
       "grid_gap": null,
       "grid_row": null,
       "grid_template_areas": null,
       "grid_template_columns": null,
       "grid_template_rows": null,
       "height": null,
       "justify_content": null,
       "justify_items": null,
       "left": null,
       "margin": null,
       "max_height": null,
       "max_width": null,
       "min_height": null,
       "min_width": null,
       "object_fit": null,
       "object_position": null,
       "order": null,
       "overflow": null,
       "padding": null,
       "right": null,
       "top": null,
       "visibility": null,
       "width": null
      }
     },
     "0b26620b4c1b459197f21040eebb15d0": {
      "model_module": "@jupyter-widgets/controls",
      "model_module_version": "2.0.0",
      "model_name": "HTMLModel",
      "state": {
       "_dom_classes": [],
       "_model_module": "@jupyter-widgets/controls",
       "_model_module_version": "2.0.0",
       "_model_name": "HTMLModel",
       "_view_count": null,
       "_view_module": "@jupyter-widgets/controls",
       "_view_module_version": "2.0.0",
       "_view_name": "HTMLView",
       "description": "",
       "description_allow_html": false,
       "layout": "IPY_MODEL_82e39acc8ac84074a9ea8afc92898258",
       "placeholder": "​",
       "style": "IPY_MODEL_e0c1806cbc544c1194667712335a8c83",
       "tabbable": null,
       "tooltip": null,
       "value": "vocab.txt: 100%"
      }
     },
     "0e4b8d273cf64ce997deed0ea2699292": {
      "model_module": "@jupyter-widgets/controls",
      "model_module_version": "2.0.0",
      "model_name": "ProgressStyleModel",
      "state": {
       "_model_module": "@jupyter-widgets/controls",
       "_model_module_version": "2.0.0",
       "_model_name": "ProgressStyleModel",
       "_view_count": null,
       "_view_module": "@jupyter-widgets/base",
       "_view_module_version": "2.0.0",
       "_view_name": "StyleView",
       "bar_color": null,
       "description_width": ""
      }
     },
     "18b65d4de06f4e8faa06417c1e55b53d": {
      "model_module": "@jupyter-widgets/controls",
      "model_module_version": "2.0.0",
      "model_name": "HBoxModel",
      "state": {
       "_dom_classes": [],
       "_model_module": "@jupyter-widgets/controls",
       "_model_module_version": "2.0.0",
       "_model_name": "HBoxModel",
       "_view_count": null,
       "_view_module": "@jupyter-widgets/controls",
       "_view_module_version": "2.0.0",
       "_view_name": "HBoxView",
       "box_style": "",
       "children": [
        "IPY_MODEL_dc4c00036421421b92fd7c6516c6927e",
        "IPY_MODEL_7c6d73ab6f69428a989f82b1751e45b3",
        "IPY_MODEL_601b8b67d9884875816141d86e5027bf"
       ],
       "layout": "IPY_MODEL_38d3dd1c96a7488894e4110c9e0c7a0d",
       "tabbable": null,
       "tooltip": null
      }
     },
     "1fc12d863b854563ad99d9a863da5d51": {
      "model_module": "@jupyter-widgets/base",
      "model_module_version": "2.0.0",
      "model_name": "LayoutModel",
      "state": {
       "_model_module": "@jupyter-widgets/base",
       "_model_module_version": "2.0.0",
       "_model_name": "LayoutModel",
       "_view_count": null,
       "_view_module": "@jupyter-widgets/base",
       "_view_module_version": "2.0.0",
       "_view_name": "LayoutView",
       "align_content": null,
       "align_items": null,
       "align_self": null,
       "border_bottom": null,
       "border_left": null,
       "border_right": null,
       "border_top": null,
       "bottom": null,
       "display": null,
       "flex": null,
       "flex_flow": null,
       "grid_area": null,
       "grid_auto_columns": null,
       "grid_auto_flow": null,
       "grid_auto_rows": null,
       "grid_column": null,
       "grid_gap": null,
       "grid_row": null,
       "grid_template_areas": null,
       "grid_template_columns": null,
       "grid_template_rows": null,
       "height": null,
       "justify_content": null,
       "justify_items": null,
       "left": null,
       "margin": null,
       "max_height": null,
       "max_width": null,
       "min_height": null,
       "min_width": null,
       "object_fit": null,
       "object_position": null,
       "order": null,
       "overflow": null,
       "padding": null,
       "right": null,
       "top": null,
       "visibility": null,
       "width": null
      }
     },
     "2a5a172b3b5c489b904c09703613a80e": {
      "model_module": "@jupyter-widgets/controls",
      "model_module_version": "2.0.0",
      "model_name": "HTMLModel",
      "state": {
       "_dom_classes": [],
       "_model_module": "@jupyter-widgets/controls",
       "_model_module_version": "2.0.0",
       "_model_name": "HTMLModel",
       "_view_count": null,
       "_view_module": "@jupyter-widgets/controls",
       "_view_module_version": "2.0.0",
       "_view_name": "HTMLView",
       "description": "",
       "description_allow_html": false,
       "layout": "IPY_MODEL_d35476cbdc5f4b2492a5c76becb91332",
       "placeholder": "​",
       "style": "IPY_MODEL_96d4dd2c1c534c2a97f5634a7226d269",
       "tabbable": null,
       "tooltip": null,
       "value": " 440M/440M [00:02&lt;00:00, 177MB/s]"
      }
     },
     "389d9ccd010540098b22b293af0f4a2e": {
      "model_module": "@jupyter-widgets/base",
      "model_module_version": "2.0.0",
      "model_name": "LayoutModel",
      "state": {
       "_model_module": "@jupyter-widgets/base",
       "_model_module_version": "2.0.0",
       "_model_name": "LayoutModel",
       "_view_count": null,
       "_view_module": "@jupyter-widgets/base",
       "_view_module_version": "2.0.0",
       "_view_name": "LayoutView",
       "align_content": null,
       "align_items": null,
       "align_self": null,
       "border_bottom": null,
       "border_left": null,
       "border_right": null,
       "border_top": null,
       "bottom": null,
       "display": null,
       "flex": null,
       "flex_flow": null,
       "grid_area": null,
       "grid_auto_columns": null,
       "grid_auto_flow": null,
       "grid_auto_rows": null,
       "grid_column": null,
       "grid_gap": null,
       "grid_row": null,
       "grid_template_areas": null,
       "grid_template_columns": null,
       "grid_template_rows": null,
       "height": null,
       "justify_content": null,
       "justify_items": null,
       "left": null,
       "margin": null,
       "max_height": null,
       "max_width": null,
       "min_height": null,
       "min_width": null,
       "object_fit": null,
       "object_position": null,
       "order": null,
       "overflow": null,
       "padding": null,
       "right": null,
       "top": null,
       "visibility": null,
       "width": null
      }
     },
     "38d3dd1c96a7488894e4110c9e0c7a0d": {
      "model_module": "@jupyter-widgets/base",
      "model_module_version": "2.0.0",
      "model_name": "LayoutModel",
      "state": {
       "_model_module": "@jupyter-widgets/base",
       "_model_module_version": "2.0.0",
       "_model_name": "LayoutModel",
       "_view_count": null,
       "_view_module": "@jupyter-widgets/base",
       "_view_module_version": "2.0.0",
       "_view_name": "LayoutView",
       "align_content": null,
       "align_items": null,
       "align_self": null,
       "border_bottom": null,
       "border_left": null,
       "border_right": null,
       "border_top": null,
       "bottom": null,
       "display": null,
       "flex": null,
       "flex_flow": null,
       "grid_area": null,
       "grid_auto_columns": null,
       "grid_auto_flow": null,
       "grid_auto_rows": null,
       "grid_column": null,
       "grid_gap": null,
       "grid_row": null,
       "grid_template_areas": null,
       "grid_template_columns": null,
       "grid_template_rows": null,
       "height": null,
       "justify_content": null,
       "justify_items": null,
       "left": null,
       "margin": null,
       "max_height": null,
       "max_width": null,
       "min_height": null,
       "min_width": null,
       "object_fit": null,
       "object_position": null,
       "order": null,
       "overflow": null,
       "padding": null,
       "right": null,
       "top": null,
       "visibility": null,
       "width": null
      }
     },
     "3b29a3ea154d4abdbc6bbe1afa9139a2": {
      "model_module": "@jupyter-widgets/base",
      "model_module_version": "2.0.0",
      "model_name": "LayoutModel",
      "state": {
       "_model_module": "@jupyter-widgets/base",
       "_model_module_version": "2.0.0",
       "_model_name": "LayoutModel",
       "_view_count": null,
       "_view_module": "@jupyter-widgets/base",
       "_view_module_version": "2.0.0",
       "_view_name": "LayoutView",
       "align_content": null,
       "align_items": null,
       "align_self": null,
       "border_bottom": null,
       "border_left": null,
       "border_right": null,
       "border_top": null,
       "bottom": null,
       "display": null,
       "flex": null,
       "flex_flow": null,
       "grid_area": null,
       "grid_auto_columns": null,
       "grid_auto_flow": null,
       "grid_auto_rows": null,
       "grid_column": null,
       "grid_gap": null,
       "grid_row": null,
       "grid_template_areas": null,
       "grid_template_columns": null,
       "grid_template_rows": null,
       "height": null,
       "justify_content": null,
       "justify_items": null,
       "left": null,
       "margin": null,
       "max_height": null,
       "max_width": null,
       "min_height": null,
       "min_width": null,
       "object_fit": null,
       "object_position": null,
       "order": null,
       "overflow": null,
       "padding": null,
       "right": null,
       "top": null,
       "visibility": null,
       "width": null
      }
     },
     "41fdf6b6875849e9967069adc2b8334e": {
      "model_module": "@jupyter-widgets/controls",
      "model_module_version": "2.0.0",
      "model_name": "HTMLStyleModel",
      "state": {
       "_model_module": "@jupyter-widgets/controls",
       "_model_module_version": "2.0.0",
       "_model_name": "HTMLStyleModel",
       "_view_count": null,
       "_view_module": "@jupyter-widgets/base",
       "_view_module_version": "2.0.0",
       "_view_name": "StyleView",
       "background": null,
       "description_width": "",
       "font_size": null,
       "text_color": null
      }
     },
     "426d10301e71407381694f612879d4e2": {
      "model_module": "@jupyter-widgets/controls",
      "model_module_version": "2.0.0",
      "model_name": "FloatProgressModel",
      "state": {
       "_dom_classes": [],
       "_model_module": "@jupyter-widgets/controls",
       "_model_module_version": "2.0.0",
       "_model_name": "FloatProgressModel",
       "_view_count": null,
       "_view_module": "@jupyter-widgets/controls",
       "_view_module_version": "2.0.0",
       "_view_name": "ProgressView",
       "bar_style": "success",
       "description": "",
       "description_allow_html": false,
       "layout": "IPY_MODEL_df11489fa85645d68d2b2743d80b5fe9",
       "max": 466062,
       "min": 0,
       "orientation": "horizontal",
       "style": "IPY_MODEL_562e676095834f058e2581ffa50b86cc",
       "tabbable": null,
       "tooltip": null,
       "value": 466062
      }
     },
     "4a833cf821ea4140a10e8df27896d620": {
      "model_module": "@jupyter-widgets/controls",
      "model_module_version": "2.0.0",
      "model_name": "ProgressStyleModel",
      "state": {
       "_model_module": "@jupyter-widgets/controls",
       "_model_module_version": "2.0.0",
       "_model_name": "ProgressStyleModel",
       "_view_count": null,
       "_view_module": "@jupyter-widgets/base",
       "_view_module_version": "2.0.0",
       "_view_name": "StyleView",
       "bar_color": null,
       "description_width": ""
      }
     },
     "4afdd07bd980426b962266032a4a7928": {
      "model_module": "@jupyter-widgets/controls",
      "model_module_version": "2.0.0",
      "model_name": "HBoxModel",
      "state": {
       "_dom_classes": [],
       "_model_module": "@jupyter-widgets/controls",
       "_model_module_version": "2.0.0",
       "_model_name": "HBoxModel",
       "_view_count": null,
       "_view_module": "@jupyter-widgets/controls",
       "_view_module_version": "2.0.0",
       "_view_name": "HBoxView",
       "box_style": "",
       "children": [
        "IPY_MODEL_7f684e7392a54c9780cb98d35ab9506c",
        "IPY_MODEL_426d10301e71407381694f612879d4e2",
        "IPY_MODEL_9e02210aafa74118ac6a5a59bceff35e"
       ],
       "layout": "IPY_MODEL_79e950bf4c1249c4a2f26617c2ab0e8a",
       "tabbable": null,
       "tooltip": null
      }
     },
     "562e676095834f058e2581ffa50b86cc": {
      "model_module": "@jupyter-widgets/controls",
      "model_module_version": "2.0.0",
      "model_name": "ProgressStyleModel",
      "state": {
       "_model_module": "@jupyter-widgets/controls",
       "_model_module_version": "2.0.0",
       "_model_name": "ProgressStyleModel",
       "_view_count": null,
       "_view_module": "@jupyter-widgets/base",
       "_view_module_version": "2.0.0",
       "_view_name": "StyleView",
       "bar_color": null,
       "description_width": ""
      }
     },
     "5918f96cccaa410b80236cc8a7005e8a": {
      "model_module": "@jupyter-widgets/base",
      "model_module_version": "2.0.0",
      "model_name": "LayoutModel",
      "state": {
       "_model_module": "@jupyter-widgets/base",
       "_model_module_version": "2.0.0",
       "_model_name": "LayoutModel",
       "_view_count": null,
       "_view_module": "@jupyter-widgets/base",
       "_view_module_version": "2.0.0",
       "_view_name": "LayoutView",
       "align_content": null,
       "align_items": null,
       "align_self": null,
       "border_bottom": null,
       "border_left": null,
       "border_right": null,
       "border_top": null,
       "bottom": null,
       "display": null,
       "flex": null,
       "flex_flow": null,
       "grid_area": null,
       "grid_auto_columns": null,
       "grid_auto_flow": null,
       "grid_auto_rows": null,
       "grid_column": null,
       "grid_gap": null,
       "grid_row": null,
       "grid_template_areas": null,
       "grid_template_columns": null,
       "grid_template_rows": null,
       "height": null,
       "justify_content": null,
       "justify_items": null,
       "left": null,
       "margin": null,
       "max_height": null,
       "max_width": null,
       "min_height": null,
       "min_width": null,
       "object_fit": null,
       "object_position": null,
       "order": null,
       "overflow": null,
       "padding": null,
       "right": null,
       "top": null,
       "visibility": null,
       "width": null
      }
     },
     "59dfc12ceb0e4c4c8b449b2e34877903": {
      "model_module": "@jupyter-widgets/controls",
      "model_module_version": "2.0.0",
      "model_name": "ProgressStyleModel",
      "state": {
       "_model_module": "@jupyter-widgets/controls",
       "_model_module_version": "2.0.0",
       "_model_name": "ProgressStyleModel",
       "_view_count": null,
       "_view_module": "@jupyter-widgets/base",
       "_view_module_version": "2.0.0",
       "_view_name": "StyleView",
       "bar_color": null,
       "description_width": ""
      }
     },
     "601b8b67d9884875816141d86e5027bf": {
      "model_module": "@jupyter-widgets/controls",
      "model_module_version": "2.0.0",
      "model_name": "HTMLModel",
      "state": {
       "_dom_classes": [],
       "_model_module": "@jupyter-widgets/controls",
       "_model_module_version": "2.0.0",
       "_model_name": "HTMLModel",
       "_view_count": null,
       "_view_module": "@jupyter-widgets/controls",
       "_view_module_version": "2.0.0",
       "_view_name": "HTMLView",
       "description": "",
       "description_allow_html": false,
       "layout": "IPY_MODEL_a1b1d9fa7f16437786ea7c5a23bf77fd",
       "placeholder": "​",
       "style": "IPY_MODEL_9207fc98a527459eb84c9aff5f7ac8a3",
       "tabbable": null,
       "tooltip": null,
       "value": " 570/570 [00:00&lt;00:00, 63.5kB/s]"
      }
     },
     "6123fe5ece0b46f8a6c12779fa07f0bc": {
      "model_module": "@jupyter-widgets/controls",
      "model_module_version": "2.0.0",
      "model_name": "HTMLStyleModel",
      "state": {
       "_model_module": "@jupyter-widgets/controls",
       "_model_module_version": "2.0.0",
       "_model_name": "HTMLStyleModel",
       "_view_count": null,
       "_view_module": "@jupyter-widgets/base",
       "_view_module_version": "2.0.0",
       "_view_name": "StyleView",
       "background": null,
       "description_width": "",
       "font_size": null,
       "text_color": null
      }
     },
     "67d7c018f061447b9bf182abb5adb174": {
      "model_module": "@jupyter-widgets/base",
      "model_module_version": "2.0.0",
      "model_name": "LayoutModel",
      "state": {
       "_model_module": "@jupyter-widgets/base",
       "_model_module_version": "2.0.0",
       "_model_name": "LayoutModel",
       "_view_count": null,
       "_view_module": "@jupyter-widgets/base",
       "_view_module_version": "2.0.0",
       "_view_name": "LayoutView",
       "align_content": null,
       "align_items": null,
       "align_self": null,
       "border_bottom": null,
       "border_left": null,
       "border_right": null,
       "border_top": null,
       "bottom": null,
       "display": null,
       "flex": null,
       "flex_flow": null,
       "grid_area": null,
       "grid_auto_columns": null,
       "grid_auto_flow": null,
       "grid_auto_rows": null,
       "grid_column": null,
       "grid_gap": null,
       "grid_row": null,
       "grid_template_areas": null,
       "grid_template_columns": null,
       "grid_template_rows": null,
       "height": null,
       "justify_content": null,
       "justify_items": null,
       "left": null,
       "margin": null,
       "max_height": null,
       "max_width": null,
       "min_height": null,
       "min_width": null,
       "object_fit": null,
       "object_position": null,
       "order": null,
       "overflow": null,
       "padding": null,
       "right": null,
       "top": null,
       "visibility": null,
       "width": null
      }
     },
     "79e950bf4c1249c4a2f26617c2ab0e8a": {
      "model_module": "@jupyter-widgets/base",
      "model_module_version": "2.0.0",
      "model_name": "LayoutModel",
      "state": {
       "_model_module": "@jupyter-widgets/base",
       "_model_module_version": "2.0.0",
       "_model_name": "LayoutModel",
       "_view_count": null,
       "_view_module": "@jupyter-widgets/base",
       "_view_module_version": "2.0.0",
       "_view_name": "LayoutView",
       "align_content": null,
       "align_items": null,
       "align_self": null,
       "border_bottom": null,
       "border_left": null,
       "border_right": null,
       "border_top": null,
       "bottom": null,
       "display": null,
       "flex": null,
       "flex_flow": null,
       "grid_area": null,
       "grid_auto_columns": null,
       "grid_auto_flow": null,
       "grid_auto_rows": null,
       "grid_column": null,
       "grid_gap": null,
       "grid_row": null,
       "grid_template_areas": null,
       "grid_template_columns": null,
       "grid_template_rows": null,
       "height": null,
       "justify_content": null,
       "justify_items": null,
       "left": null,
       "margin": null,
       "max_height": null,
       "max_width": null,
       "min_height": null,
       "min_width": null,
       "object_fit": null,
       "object_position": null,
       "order": null,
       "overflow": null,
       "padding": null,
       "right": null,
       "top": null,
       "visibility": null,
       "width": null
      }
     },
     "7c6d73ab6f69428a989f82b1751e45b3": {
      "model_module": "@jupyter-widgets/controls",
      "model_module_version": "2.0.0",
      "model_name": "FloatProgressModel",
      "state": {
       "_dom_classes": [],
       "_model_module": "@jupyter-widgets/controls",
       "_model_module_version": "2.0.0",
       "_model_name": "FloatProgressModel",
       "_view_count": null,
       "_view_module": "@jupyter-widgets/controls",
       "_view_module_version": "2.0.0",
       "_view_name": "ProgressView",
       "bar_style": "success",
       "description": "",
       "description_allow_html": false,
       "layout": "IPY_MODEL_aa86544d1c404eae86f8d3ab62593ed2",
       "max": 570,
       "min": 0,
       "orientation": "horizontal",
       "style": "IPY_MODEL_4a833cf821ea4140a10e8df27896d620",
       "tabbable": null,
       "tooltip": null,
       "value": 570
      }
     },
     "7f684e7392a54c9780cb98d35ab9506c": {
      "model_module": "@jupyter-widgets/controls",
      "model_module_version": "2.0.0",
      "model_name": "HTMLModel",
      "state": {
       "_dom_classes": [],
       "_model_module": "@jupyter-widgets/controls",
       "_model_module_version": "2.0.0",
       "_model_name": "HTMLModel",
       "_view_count": null,
       "_view_module": "@jupyter-widgets/controls",
       "_view_module_version": "2.0.0",
       "_view_name": "HTMLView",
       "description": "",
       "description_allow_html": false,
       "layout": "IPY_MODEL_e30aec5ffdd248b2807d0c94b8edafb8",
       "placeholder": "​",
       "style": "IPY_MODEL_c19f7413e88c4e30813b4aad63ff9176",
       "tabbable": null,
       "tooltip": null,
       "value": "tokenizer.json: 100%"
      }
     },
     "82e39acc8ac84074a9ea8afc92898258": {
      "model_module": "@jupyter-widgets/base",
      "model_module_version": "2.0.0",
      "model_name": "LayoutModel",
      "state": {
       "_model_module": "@jupyter-widgets/base",
       "_model_module_version": "2.0.0",
       "_model_name": "LayoutModel",
       "_view_count": null,
       "_view_module": "@jupyter-widgets/base",
       "_view_module_version": "2.0.0",
       "_view_name": "LayoutView",
       "align_content": null,
       "align_items": null,
       "align_self": null,
       "border_bottom": null,
       "border_left": null,
       "border_right": null,
       "border_top": null,
       "bottom": null,
       "display": null,
       "flex": null,
       "flex_flow": null,
       "grid_area": null,
       "grid_auto_columns": null,
       "grid_auto_flow": null,
       "grid_auto_rows": null,
       "grid_column": null,
       "grid_gap": null,
       "grid_row": null,
       "grid_template_areas": null,
       "grid_template_columns": null,
       "grid_template_rows": null,
       "height": null,
       "justify_content": null,
       "justify_items": null,
       "left": null,
       "margin": null,
       "max_height": null,
       "max_width": null,
       "min_height": null,
       "min_width": null,
       "object_fit": null,
       "object_position": null,
       "order": null,
       "overflow": null,
       "padding": null,
       "right": null,
       "top": null,
       "visibility": null,
       "width": null
      }
     },
     "84371c4f2c2049338a6d4ce9b469f609": {
      "model_module": "@jupyter-widgets/controls",
      "model_module_version": "2.0.0",
      "model_name": "HTMLModel",
      "state": {
       "_dom_classes": [],
       "_model_module": "@jupyter-widgets/controls",
       "_model_module_version": "2.0.0",
       "_model_name": "HTMLModel",
       "_view_count": null,
       "_view_module": "@jupyter-widgets/controls",
       "_view_module_version": "2.0.0",
       "_view_name": "HTMLView",
       "description": "",
       "description_allow_html": false,
       "layout": "IPY_MODEL_1fc12d863b854563ad99d9a863da5d51",
       "placeholder": "​",
       "style": "IPY_MODEL_c39200a5eefc46ec8a2bc0d1402b9649",
       "tabbable": null,
       "tooltip": null,
       "value": "tokenizer_config.json: 100%"
      }
     },
     "9207fc98a527459eb84c9aff5f7ac8a3": {
      "model_module": "@jupyter-widgets/controls",
      "model_module_version": "2.0.0",
      "model_name": "HTMLStyleModel",
      "state": {
       "_model_module": "@jupyter-widgets/controls",
       "_model_module_version": "2.0.0",
       "_model_name": "HTMLStyleModel",
       "_view_count": null,
       "_view_module": "@jupyter-widgets/base",
       "_view_module_version": "2.0.0",
       "_view_name": "StyleView",
       "background": null,
       "description_width": "",
       "font_size": null,
       "text_color": null
      }
     },
     "96b105ceb3234e9b8b07f0d257be68e8": {
      "model_module": "@jupyter-widgets/controls",
      "model_module_version": "2.0.0",
      "model_name": "HTMLStyleModel",
      "state": {
       "_model_module": "@jupyter-widgets/controls",
       "_model_module_version": "2.0.0",
       "_model_name": "HTMLStyleModel",
       "_view_count": null,
       "_view_module": "@jupyter-widgets/base",
       "_view_module_version": "2.0.0",
       "_view_name": "StyleView",
       "background": null,
       "description_width": "",
       "font_size": null,
       "text_color": null
      }
     },
     "96d4dd2c1c534c2a97f5634a7226d269": {
      "model_module": "@jupyter-widgets/controls",
      "model_module_version": "2.0.0",
      "model_name": "HTMLStyleModel",
      "state": {
       "_model_module": "@jupyter-widgets/controls",
       "_model_module_version": "2.0.0",
       "_model_name": "HTMLStyleModel",
       "_view_count": null,
       "_view_module": "@jupyter-widgets/base",
       "_view_module_version": "2.0.0",
       "_view_name": "StyleView",
       "background": null,
       "description_width": "",
       "font_size": null,
       "text_color": null
      }
     },
     "997b65f6a3d84db79b44d0441ee7e369": {
      "model_module": "@jupyter-widgets/controls",
      "model_module_version": "2.0.0",
      "model_name": "HTMLModel",
      "state": {
       "_dom_classes": [],
       "_model_module": "@jupyter-widgets/controls",
       "_model_module_version": "2.0.0",
       "_model_name": "HTMLModel",
       "_view_count": null,
       "_view_module": "@jupyter-widgets/controls",
       "_view_module_version": "2.0.0",
       "_view_name": "HTMLView",
       "description": "",
       "description_allow_html": false,
       "layout": "IPY_MODEL_389d9ccd010540098b22b293af0f4a2e",
       "placeholder": "​",
       "style": "IPY_MODEL_eaee620daa434e6dbbb7492b62f03806",
       "tabbable": null,
       "tooltip": null,
       "value": " 232k/232k [00:00&lt;00:00, 5.25MB/s]"
      }
     },
     "9e02210aafa74118ac6a5a59bceff35e": {
      "model_module": "@jupyter-widgets/controls",
      "model_module_version": "2.0.0",
      "model_name": "HTMLModel",
      "state": {
       "_dom_classes": [],
       "_model_module": "@jupyter-widgets/controls",
       "_model_module_version": "2.0.0",
       "_model_name": "HTMLModel",
       "_view_count": null,
       "_view_module": "@jupyter-widgets/controls",
       "_view_module_version": "2.0.0",
       "_view_name": "HTMLView",
       "description": "",
       "description_allow_html": false,
       "layout": "IPY_MODEL_adaf9d89b31c46849a92aea7e831f437",
       "placeholder": "​",
       "style": "IPY_MODEL_96b105ceb3234e9b8b07f0d257be68e8",
       "tabbable": null,
       "tooltip": null,
       "value": " 466k/466k [00:00&lt;00:00, 23.4MB/s]"
      }
     },
     "a1b1d9fa7f16437786ea7c5a23bf77fd": {
      "model_module": "@jupyter-widgets/base",
      "model_module_version": "2.0.0",
      "model_name": "LayoutModel",
      "state": {
       "_model_module": "@jupyter-widgets/base",
       "_model_module_version": "2.0.0",
       "_model_name": "LayoutModel",
       "_view_count": null,
       "_view_module": "@jupyter-widgets/base",
       "_view_module_version": "2.0.0",
       "_view_name": "LayoutView",
       "align_content": null,
       "align_items": null,
       "align_self": null,
       "border_bottom": null,
       "border_left": null,
       "border_right": null,
       "border_top": null,
       "bottom": null,
       "display": null,
       "flex": null,
       "flex_flow": null,
       "grid_area": null,
       "grid_auto_columns": null,
       "grid_auto_flow": null,
       "grid_auto_rows": null,
       "grid_column": null,
       "grid_gap": null,
       "grid_row": null,
       "grid_template_areas": null,
       "grid_template_columns": null,
       "grid_template_rows": null,
       "height": null,
       "justify_content": null,
       "justify_items": null,
       "left": null,
       "margin": null,
       "max_height": null,
       "max_width": null,
       "min_height": null,
       "min_width": null,
       "object_fit": null,
       "object_position": null,
       "order": null,
       "overflow": null,
       "padding": null,
       "right": null,
       "top": null,
       "visibility": null,
       "width": null
      }
     },
     "a33b0ebfc61f42cd88a457f8eb3b161e": {
      "model_module": "@jupyter-widgets/controls",
      "model_module_version": "2.0.0",
      "model_name": "FloatProgressModel",
      "state": {
       "_dom_classes": [],
       "_model_module": "@jupyter-widgets/controls",
       "_model_module_version": "2.0.0",
       "_model_name": "FloatProgressModel",
       "_view_count": null,
       "_view_module": "@jupyter-widgets/controls",
       "_view_module_version": "2.0.0",
       "_view_name": "ProgressView",
       "bar_style": "success",
       "description": "",
       "description_allow_html": false,
       "layout": "IPY_MODEL_3b29a3ea154d4abdbc6bbe1afa9139a2",
       "max": 48,
       "min": 0,
       "orientation": "horizontal",
       "style": "IPY_MODEL_da0cde00215d452b930781ce1c877645",
       "tabbable": null,
       "tooltip": null,
       "value": 48
      }
     },
     "a3a34f78e4c34a6f9e230f40d41f9f82": {
      "model_module": "@jupyter-widgets/controls",
      "model_module_version": "2.0.0",
      "model_name": "HBoxModel",
      "state": {
       "_dom_classes": [],
       "_model_module": "@jupyter-widgets/controls",
       "_model_module_version": "2.0.0",
       "_model_name": "HBoxModel",
       "_view_count": null,
       "_view_module": "@jupyter-widgets/controls",
       "_view_module_version": "2.0.0",
       "_view_name": "HBoxView",
       "box_style": "",
       "children": [
        "IPY_MODEL_e7be51e411bf4b5d99a56097548d5814",
        "IPY_MODEL_0064e750e21f477a84e5f02a46d6b37a",
        "IPY_MODEL_2a5a172b3b5c489b904c09703613a80e"
       ],
       "layout": "IPY_MODEL_5918f96cccaa410b80236cc8a7005e8a",
       "tabbable": null,
       "tooltip": null
      }
     },
     "a645f996c491481fa027743828b71a1e": {
      "model_module": "@jupyter-widgets/base",
      "model_module_version": "2.0.0",
      "model_name": "LayoutModel",
      "state": {
       "_model_module": "@jupyter-widgets/base",
       "_model_module_version": "2.0.0",
       "_model_name": "LayoutModel",
       "_view_count": null,
       "_view_module": "@jupyter-widgets/base",
       "_view_module_version": "2.0.0",
       "_view_name": "LayoutView",
       "align_content": null,
       "align_items": null,
       "align_self": null,
       "border_bottom": null,
       "border_left": null,
       "border_right": null,
       "border_top": null,
       "bottom": null,
       "display": null,
       "flex": null,
       "flex_flow": null,
       "grid_area": null,
       "grid_auto_columns": null,
       "grid_auto_flow": null,
       "grid_auto_rows": null,
       "grid_column": null,
       "grid_gap": null,
       "grid_row": null,
       "grid_template_areas": null,
       "grid_template_columns": null,
       "grid_template_rows": null,
       "height": null,
       "justify_content": null,
       "justify_items": null,
       "left": null,
       "margin": null,
       "max_height": null,
       "max_width": null,
       "min_height": null,
       "min_width": null,
       "object_fit": null,
       "object_position": null,
       "order": null,
       "overflow": null,
       "padding": null,
       "right": null,
       "top": null,
       "visibility": null,
       "width": null
      }
     },
     "aa86544d1c404eae86f8d3ab62593ed2": {
      "model_module": "@jupyter-widgets/base",
      "model_module_version": "2.0.0",
      "model_name": "LayoutModel",
      "state": {
       "_model_module": "@jupyter-widgets/base",
       "_model_module_version": "2.0.0",
       "_model_name": "LayoutModel",
       "_view_count": null,
       "_view_module": "@jupyter-widgets/base",
       "_view_module_version": "2.0.0",
       "_view_name": "LayoutView",
       "align_content": null,
       "align_items": null,
       "align_self": null,
       "border_bottom": null,
       "border_left": null,
       "border_right": null,
       "border_top": null,
       "bottom": null,
       "display": null,
       "flex": null,
       "flex_flow": null,
       "grid_area": null,
       "grid_auto_columns": null,
       "grid_auto_flow": null,
       "grid_auto_rows": null,
       "grid_column": null,
       "grid_gap": null,
       "grid_row": null,
       "grid_template_areas": null,
       "grid_template_columns": null,
       "grid_template_rows": null,
       "height": null,
       "justify_content": null,
       "justify_items": null,
       "left": null,
       "margin": null,
       "max_height": null,
       "max_width": null,
       "min_height": null,
       "min_width": null,
       "object_fit": null,
       "object_position": null,
       "order": null,
       "overflow": null,
       "padding": null,
       "right": null,
       "top": null,
       "visibility": null,
       "width": null
      }
     },
     "abdc6d6ddb4b418f9ece31889cd764c7": {
      "model_module": "@jupyter-widgets/controls",
      "model_module_version": "2.0.0",
      "model_name": "HBoxModel",
      "state": {
       "_dom_classes": [],
       "_model_module": "@jupyter-widgets/controls",
       "_model_module_version": "2.0.0",
       "_model_name": "HBoxModel",
       "_view_count": null,
       "_view_module": "@jupyter-widgets/controls",
       "_view_module_version": "2.0.0",
       "_view_name": "HBoxView",
       "box_style": "",
       "children": [
        "IPY_MODEL_0b26620b4c1b459197f21040eebb15d0",
        "IPY_MODEL_eb52d35bedd3435e84adb04332cde9da",
        "IPY_MODEL_997b65f6a3d84db79b44d0441ee7e369"
       ],
       "layout": "IPY_MODEL_b9cdc2d569a149d8a9c78e74b414a65f",
       "tabbable": null,
       "tooltip": null
      }
     },
     "adaf9d89b31c46849a92aea7e831f437": {
      "model_module": "@jupyter-widgets/base",
      "model_module_version": "2.0.0",
      "model_name": "LayoutModel",
      "state": {
       "_model_module": "@jupyter-widgets/base",
       "_model_module_version": "2.0.0",
       "_model_name": "LayoutModel",
       "_view_count": null,
       "_view_module": "@jupyter-widgets/base",
       "_view_module_version": "2.0.0",
       "_view_name": "LayoutView",
       "align_content": null,
       "align_items": null,
       "align_self": null,
       "border_bottom": null,
       "border_left": null,
       "border_right": null,
       "border_top": null,
       "bottom": null,
       "display": null,
       "flex": null,
       "flex_flow": null,
       "grid_area": null,
       "grid_auto_columns": null,
       "grid_auto_flow": null,
       "grid_auto_rows": null,
       "grid_column": null,
       "grid_gap": null,
       "grid_row": null,
       "grid_template_areas": null,
       "grid_template_columns": null,
       "grid_template_rows": null,
       "height": null,
       "justify_content": null,
       "justify_items": null,
       "left": null,
       "margin": null,
       "max_height": null,
       "max_width": null,
       "min_height": null,
       "min_width": null,
       "object_fit": null,
       "object_position": null,
       "order": null,
       "overflow": null,
       "padding": null,
       "right": null,
       "top": null,
       "visibility": null,
       "width": null
      }
     },
     "b0484c14ee8540bdb863818692b1d99d": {
      "model_module": "@jupyter-widgets/base",
      "model_module_version": "2.0.0",
      "model_name": "LayoutModel",
      "state": {
       "_model_module": "@jupyter-widgets/base",
       "_model_module_version": "2.0.0",
       "_model_name": "LayoutModel",
       "_view_count": null,
       "_view_module": "@jupyter-widgets/base",
       "_view_module_version": "2.0.0",
       "_view_name": "LayoutView",
       "align_content": null,
       "align_items": null,
       "align_self": null,
       "border_bottom": null,
       "border_left": null,
       "border_right": null,
       "border_top": null,
       "bottom": null,
       "display": null,
       "flex": null,
       "flex_flow": null,
       "grid_area": null,
       "grid_auto_columns": null,
       "grid_auto_flow": null,
       "grid_auto_rows": null,
       "grid_column": null,
       "grid_gap": null,
       "grid_row": null,
       "grid_template_areas": null,
       "grid_template_columns": null,
       "grid_template_rows": null,
       "height": null,
       "justify_content": null,
       "justify_items": null,
       "left": null,
       "margin": null,
       "max_height": null,
       "max_width": null,
       "min_height": null,
       "min_width": null,
       "object_fit": null,
       "object_position": null,
       "order": null,
       "overflow": null,
       "padding": null,
       "right": null,
       "top": null,
       "visibility": null,
       "width": null
      }
     },
     "b7a0c6ca9a3145e5a524408998933d05": {
      "model_module": "@jupyter-widgets/controls",
      "model_module_version": "2.0.0",
      "model_name": "HTMLStyleModel",
      "state": {
       "_model_module": "@jupyter-widgets/controls",
       "_model_module_version": "2.0.0",
       "_model_name": "HTMLStyleModel",
       "_view_count": null,
       "_view_module": "@jupyter-widgets/base",
       "_view_module_version": "2.0.0",
       "_view_name": "StyleView",
       "background": null,
       "description_width": "",
       "font_size": null,
       "text_color": null
      }
     },
     "b9cdc2d569a149d8a9c78e74b414a65f": {
      "model_module": "@jupyter-widgets/base",
      "model_module_version": "2.0.0",
      "model_name": "LayoutModel",
      "state": {
       "_model_module": "@jupyter-widgets/base",
       "_model_module_version": "2.0.0",
       "_model_name": "LayoutModel",
       "_view_count": null,
       "_view_module": "@jupyter-widgets/base",
       "_view_module_version": "2.0.0",
       "_view_name": "LayoutView",
       "align_content": null,
       "align_items": null,
       "align_self": null,
       "border_bottom": null,
       "border_left": null,
       "border_right": null,
       "border_top": null,
       "bottom": null,
       "display": null,
       "flex": null,
       "flex_flow": null,
       "grid_area": null,
       "grid_auto_columns": null,
       "grid_auto_flow": null,
       "grid_auto_rows": null,
       "grid_column": null,
       "grid_gap": null,
       "grid_row": null,
       "grid_template_areas": null,
       "grid_template_columns": null,
       "grid_template_rows": null,
       "height": null,
       "justify_content": null,
       "justify_items": null,
       "left": null,
       "margin": null,
       "max_height": null,
       "max_width": null,
       "min_height": null,
       "min_width": null,
       "object_fit": null,
       "object_position": null,
       "order": null,
       "overflow": null,
       "padding": null,
       "right": null,
       "top": null,
       "visibility": null,
       "width": null
      }
     },
     "c19f7413e88c4e30813b4aad63ff9176": {
      "model_module": "@jupyter-widgets/controls",
      "model_module_version": "2.0.0",
      "model_name": "HTMLStyleModel",
      "state": {
       "_model_module": "@jupyter-widgets/controls",
       "_model_module_version": "2.0.0",
       "_model_name": "HTMLStyleModel",
       "_view_count": null,
       "_view_module": "@jupyter-widgets/base",
       "_view_module_version": "2.0.0",
       "_view_name": "StyleView",
       "background": null,
       "description_width": "",
       "font_size": null,
       "text_color": null
      }
     },
     "c39200a5eefc46ec8a2bc0d1402b9649": {
      "model_module": "@jupyter-widgets/controls",
      "model_module_version": "2.0.0",
      "model_name": "HTMLStyleModel",
      "state": {
       "_model_module": "@jupyter-widgets/controls",
       "_model_module_version": "2.0.0",
       "_model_name": "HTMLStyleModel",
       "_view_count": null,
       "_view_module": "@jupyter-widgets/base",
       "_view_module_version": "2.0.0",
       "_view_name": "StyleView",
       "background": null,
       "description_width": "",
       "font_size": null,
       "text_color": null
      }
     },
     "d35476cbdc5f4b2492a5c76becb91332": {
      "model_module": "@jupyter-widgets/base",
      "model_module_version": "2.0.0",
      "model_name": "LayoutModel",
      "state": {
       "_model_module": "@jupyter-widgets/base",
       "_model_module_version": "2.0.0",
       "_model_name": "LayoutModel",
       "_view_count": null,
       "_view_module": "@jupyter-widgets/base",
       "_view_module_version": "2.0.0",
       "_view_name": "LayoutView",
       "align_content": null,
       "align_items": null,
       "align_self": null,
       "border_bottom": null,
       "border_left": null,
       "border_right": null,
       "border_top": null,
       "bottom": null,
       "display": null,
       "flex": null,
       "flex_flow": null,
       "grid_area": null,
       "grid_auto_columns": null,
       "grid_auto_flow": null,
       "grid_auto_rows": null,
       "grid_column": null,
       "grid_gap": null,
       "grid_row": null,
       "grid_template_areas": null,
       "grid_template_columns": null,
       "grid_template_rows": null,
       "height": null,
       "justify_content": null,
       "justify_items": null,
       "left": null,
       "margin": null,
       "max_height": null,
       "max_width": null,
       "min_height": null,
       "min_width": null,
       "object_fit": null,
       "object_position": null,
       "order": null,
       "overflow": null,
       "padding": null,
       "right": null,
       "top": null,
       "visibility": null,
       "width": null
      }
     },
     "da0cde00215d452b930781ce1c877645": {
      "model_module": "@jupyter-widgets/controls",
      "model_module_version": "2.0.0",
      "model_name": "ProgressStyleModel",
      "state": {
       "_model_module": "@jupyter-widgets/controls",
       "_model_module_version": "2.0.0",
       "_model_name": "ProgressStyleModel",
       "_view_count": null,
       "_view_module": "@jupyter-widgets/base",
       "_view_module_version": "2.0.0",
       "_view_name": "StyleView",
       "bar_color": null,
       "description_width": ""
      }
     },
     "dc4c00036421421b92fd7c6516c6927e": {
      "model_module": "@jupyter-widgets/controls",
      "model_module_version": "2.0.0",
      "model_name": "HTMLModel",
      "state": {
       "_dom_classes": [],
       "_model_module": "@jupyter-widgets/controls",
       "_model_module_version": "2.0.0",
       "_model_name": "HTMLModel",
       "_view_count": null,
       "_view_module": "@jupyter-widgets/controls",
       "_view_module_version": "2.0.0",
       "_view_name": "HTMLView",
       "description": "",
       "description_allow_html": false,
       "layout": "IPY_MODEL_b0484c14ee8540bdb863818692b1d99d",
       "placeholder": "​",
       "style": "IPY_MODEL_6123fe5ece0b46f8a6c12779fa07f0bc",
       "tabbable": null,
       "tooltip": null,
       "value": "config.json: 100%"
      }
     },
     "df11489fa85645d68d2b2743d80b5fe9": {
      "model_module": "@jupyter-widgets/base",
      "model_module_version": "2.0.0",
      "model_name": "LayoutModel",
      "state": {
       "_model_module": "@jupyter-widgets/base",
       "_model_module_version": "2.0.0",
       "_model_name": "LayoutModel",
       "_view_count": null,
       "_view_module": "@jupyter-widgets/base",
       "_view_module_version": "2.0.0",
       "_view_name": "LayoutView",
       "align_content": null,
       "align_items": null,
       "align_self": null,
       "border_bottom": null,
       "border_left": null,
       "border_right": null,
       "border_top": null,
       "bottom": null,
       "display": null,
       "flex": null,
       "flex_flow": null,
       "grid_area": null,
       "grid_auto_columns": null,
       "grid_auto_flow": null,
       "grid_auto_rows": null,
       "grid_column": null,
       "grid_gap": null,
       "grid_row": null,
       "grid_template_areas": null,
       "grid_template_columns": null,
       "grid_template_rows": null,
       "height": null,
       "justify_content": null,
       "justify_items": null,
       "left": null,
       "margin": null,
       "max_height": null,
       "max_width": null,
       "min_height": null,
       "min_width": null,
       "object_fit": null,
       "object_position": null,
       "order": null,
       "overflow": null,
       "padding": null,
       "right": null,
       "top": null,
       "visibility": null,
       "width": null
      }
     },
     "e0c1806cbc544c1194667712335a8c83": {
      "model_module": "@jupyter-widgets/controls",
      "model_module_version": "2.0.0",
      "model_name": "HTMLStyleModel",
      "state": {
       "_model_module": "@jupyter-widgets/controls",
       "_model_module_version": "2.0.0",
       "_model_name": "HTMLStyleModel",
       "_view_count": null,
       "_view_module": "@jupyter-widgets/base",
       "_view_module_version": "2.0.0",
       "_view_name": "StyleView",
       "background": null,
       "description_width": "",
       "font_size": null,
       "text_color": null
      }
     },
     "e30aec5ffdd248b2807d0c94b8edafb8": {
      "model_module": "@jupyter-widgets/base",
      "model_module_version": "2.0.0",
      "model_name": "LayoutModel",
      "state": {
       "_model_module": "@jupyter-widgets/base",
       "_model_module_version": "2.0.0",
       "_model_name": "LayoutModel",
       "_view_count": null,
       "_view_module": "@jupyter-widgets/base",
       "_view_module_version": "2.0.0",
       "_view_name": "LayoutView",
       "align_content": null,
       "align_items": null,
       "align_self": null,
       "border_bottom": null,
       "border_left": null,
       "border_right": null,
       "border_top": null,
       "bottom": null,
       "display": null,
       "flex": null,
       "flex_flow": null,
       "grid_area": null,
       "grid_auto_columns": null,
       "grid_auto_flow": null,
       "grid_auto_rows": null,
       "grid_column": null,
       "grid_gap": null,
       "grid_row": null,
       "grid_template_areas": null,
       "grid_template_columns": null,
       "grid_template_rows": null,
       "height": null,
       "justify_content": null,
       "justify_items": null,
       "left": null,
       "margin": null,
       "max_height": null,
       "max_width": null,
       "min_height": null,
       "min_width": null,
       "object_fit": null,
       "object_position": null,
       "order": null,
       "overflow": null,
       "padding": null,
       "right": null,
       "top": null,
       "visibility": null,
       "width": null
      }
     },
     "e7be51e411bf4b5d99a56097548d5814": {
      "model_module": "@jupyter-widgets/controls",
      "model_module_version": "2.0.0",
      "model_name": "HTMLModel",
      "state": {
       "_dom_classes": [],
       "_model_module": "@jupyter-widgets/controls",
       "_model_module_version": "2.0.0",
       "_model_name": "HTMLModel",
       "_view_count": null,
       "_view_module": "@jupyter-widgets/controls",
       "_view_module_version": "2.0.0",
       "_view_name": "HTMLView",
       "description": "",
       "description_allow_html": false,
       "layout": "IPY_MODEL_67d7c018f061447b9bf182abb5adb174",
       "placeholder": "​",
       "style": "IPY_MODEL_b7a0c6ca9a3145e5a524408998933d05",
       "tabbable": null,
       "tooltip": null,
       "value": "model.safetensors: 100%"
      }
     },
     "eaee620daa434e6dbbb7492b62f03806": {
      "model_module": "@jupyter-widgets/controls",
      "model_module_version": "2.0.0",
      "model_name": "HTMLStyleModel",
      "state": {
       "_model_module": "@jupyter-widgets/controls",
       "_model_module_version": "2.0.0",
       "_model_name": "HTMLStyleModel",
       "_view_count": null,
       "_view_module": "@jupyter-widgets/base",
       "_view_module_version": "2.0.0",
       "_view_name": "StyleView",
       "background": null,
       "description_width": "",
       "font_size": null,
       "text_color": null
      }
     },
     "eb52d35bedd3435e84adb04332cde9da": {
      "model_module": "@jupyter-widgets/controls",
      "model_module_version": "2.0.0",
      "model_name": "FloatProgressModel",
      "state": {
       "_dom_classes": [],
       "_model_module": "@jupyter-widgets/controls",
       "_model_module_version": "2.0.0",
       "_model_name": "FloatProgressModel",
       "_view_count": null,
       "_view_module": "@jupyter-widgets/controls",
       "_view_module_version": "2.0.0",
       "_view_name": "ProgressView",
       "bar_style": "success",
       "description": "",
       "description_allow_html": false,
       "layout": "IPY_MODEL_0512451393534db4b9755d9c852ad557",
       "max": 231508,
       "min": 0,
       "orientation": "horizontal",
       "style": "IPY_MODEL_59dfc12ceb0e4c4c8b449b2e34877903",
       "tabbable": null,
       "tooltip": null,
       "value": 231508
      }
     },
     "ecc276e34be34b278d81b24c6ce6a841": {
      "model_module": "@jupyter-widgets/base",
      "model_module_version": "2.0.0",
      "model_name": "LayoutModel",
      "state": {
       "_model_module": "@jupyter-widgets/base",
       "_model_module_version": "2.0.0",
       "_model_name": "LayoutModel",
       "_view_count": null,
       "_view_module": "@jupyter-widgets/base",
       "_view_module_version": "2.0.0",
       "_view_name": "LayoutView",
       "align_content": null,
       "align_items": null,
       "align_self": null,
       "border_bottom": null,
       "border_left": null,
       "border_right": null,
       "border_top": null,
       "bottom": null,
       "display": null,
       "flex": null,
       "flex_flow": null,
       "grid_area": null,
       "grid_auto_columns": null,
       "grid_auto_flow": null,
       "grid_auto_rows": null,
       "grid_column": null,
       "grid_gap": null,
       "grid_row": null,
       "grid_template_areas": null,
       "grid_template_columns": null,
       "grid_template_rows": null,
       "height": null,
       "justify_content": null,
       "justify_items": null,
       "left": null,
       "margin": null,
       "max_height": null,
       "max_width": null,
       "min_height": null,
       "min_width": null,
       "object_fit": null,
       "object_position": null,
       "order": null,
       "overflow": null,
       "padding": null,
       "right": null,
       "top": null,
       "visibility": null,
       "width": null
      }
     },
     "f7fccdaf243648738855de3aa6fa958c": {
      "model_module": "@jupyter-widgets/controls",
      "model_module_version": "2.0.0",
      "model_name": "HTMLModel",
      "state": {
       "_dom_classes": [],
       "_model_module": "@jupyter-widgets/controls",
       "_model_module_version": "2.0.0",
       "_model_name": "HTMLModel",
       "_view_count": null,
       "_view_module": "@jupyter-widgets/controls",
       "_view_module_version": "2.0.0",
       "_view_name": "HTMLView",
       "description": "",
       "description_allow_html": false,
       "layout": "IPY_MODEL_048667648a1a4d4698d04cf69c5a59d6",
       "placeholder": "​",
       "style": "IPY_MODEL_41fdf6b6875849e9967069adc2b8334e",
       "tabbable": null,
       "tooltip": null,
       "value": " 48.0/48.0 [00:00&lt;00:00, 4.21kB/s]"
      }
     },
     "fc8f3271339646f6816d333c47fb5932": {
      "model_module": "@jupyter-widgets/controls",
      "model_module_version": "2.0.0",
      "model_name": "HBoxModel",
      "state": {
       "_dom_classes": [],
       "_model_module": "@jupyter-widgets/controls",
       "_model_module_version": "2.0.0",
       "_model_name": "HBoxModel",
       "_view_count": null,
       "_view_module": "@jupyter-widgets/controls",
       "_view_module_version": "2.0.0",
       "_view_name": "HBoxView",
       "box_style": "",
       "children": [
        "IPY_MODEL_84371c4f2c2049338a6d4ce9b469f609",
        "IPY_MODEL_a33b0ebfc61f42cd88a457f8eb3b161e",
        "IPY_MODEL_f7fccdaf243648738855de3aa6fa958c"
       ],
       "layout": "IPY_MODEL_a645f996c491481fa027743828b71a1e",
       "tabbable": null,
       "tooltip": null
      }
     }
    },
    "version_major": 2,
    "version_minor": 0
   }
  }
 },
 "nbformat": 4,
 "nbformat_minor": 5
}
