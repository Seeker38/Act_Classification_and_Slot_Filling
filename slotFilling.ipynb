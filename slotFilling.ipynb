{
 "cells": [
  {
   "cell_type": "code",
   "execution_count": 1,
   "id": "efc2c0cd",
   "metadata": {
    "_cell_guid": "b1076dfc-b9ad-4769-8c92-a6c4dae69d19",
    "_uuid": "8f2839f25d086af736a60e9eeb907d3b93b6e0e5",
    "execution": {
     "iopub.execute_input": "2024-12-31T09:09:55.778916Z",
     "iopub.status.busy": "2024-12-31T09:09:55.778693Z",
     "iopub.status.idle": "2024-12-31T09:09:55.783177Z",
     "shell.execute_reply": "2024-12-31T09:09:55.782345Z",
     "shell.execute_reply.started": "2024-12-31T09:09:55.778896Z"
    },
    "papermill": {
     "duration": 0.012374,
     "end_time": "2024-12-27T05:12:40.539293",
     "exception": false,
     "start_time": "2024-12-27T05:12:40.526919",
     "status": "completed"
    },
    "tags": [],
    "trusted": true
   },
   "outputs": [],
   "source": [
    "import numpy as np\n",
    "import argparse\n",
    "from shutil import copyfile\n",
    "from create_data import createData\n",
    "from create_data import divideData"
   ]
  },
  {
   "cell_type": "code",
   "execution_count": 3,
   "id": "be0d8acc",
   "metadata": {
    "execution": {
     "iopub.execute_input": "2024-12-31T09:10:13.245887Z",
     "iopub.status.busy": "2024-12-31T09:10:13.245576Z",
     "iopub.status.idle": "2024-12-31T09:11:00.945707Z",
     "shell.execute_reply": "2024-12-31T09:11:00.945067Z",
     "shell.execute_reply.started": "2024-12-31T09:10:13.245866Z"
    },
    "papermill": {
     "duration": 46.528853,
     "end_time": "2024-12-27T05:13:27.133964",
     "exception": false,
     "start_time": "2024-12-27T05:12:40.605111",
     "status": "completed"
    },
    "tags": [],
    "trusted": true
   },
   "outputs": [
    {
     "name": "stdout",
     "output_type": "stream",
     "text": [
      "Create WOZ-like dialogues. Get yourself a coffee, this might take a while.\n",
      "Divide dialogues...\n",
      "# of dialogues: Train 8420, Val 1000, Test 999\n"
     ]
    }
   ],
   "source": [
    "print('Create WOZ-like dialogues. Get yourself a coffee, this might take a while.')\n",
    "args = argparse.Namespace(\n",
    "    main_dir=\"/kaggle/input/multiwoz2-4\",\n",
    "    mwz_ver=\"2.4\",\n",
    "    target_path=\"/kaggle/working/\"\n",
    ")\n",
    "\n",
    "delex_data = createData(args)\n",
    "print('Divide dialogues...')\n",
    "divideData(delex_data,args)"
   ]
  },
  {
   "cell_type": "code",
   "execution_count": 4,
   "id": "87e39bf5",
   "metadata": {
    "execution": {
     "iopub.execute_input": "2024-12-31T09:11:00.947200Z",
     "iopub.status.busy": "2024-12-31T09:11:00.946920Z",
     "iopub.status.idle": "2024-12-31T09:11:00.952799Z",
     "shell.execute_reply": "2024-12-31T09:11:00.952122Z",
     "shell.execute_reply.started": "2024-12-31T09:11:00.947171Z"
    },
    "papermill": {
     "duration": 0.011922,
     "end_time": "2024-12-27T05:13:27.151143",
     "exception": false,
     "start_time": "2024-12-27T05:13:27.139221",
     "status": "completed"
    },
    "tags": [],
    "trusted": true
   },
   "outputs": [],
   "source": [
    "import json\n",
    "\n",
    "def load_json(file_path):\n",
    "    with open(file_path, 'r', encoding='utf-8') as f:\n",
    "        return json.load(f)\n",
    "\n",
    "def save_json(data, file_path):\n",
    "    with open(file_path, 'w', encoding='utf-8') as f:\n",
    "        json.dump(data, f, indent=4, ensure_ascii=False)\n",
    "\n",
    "def add_dialogue_acts(dialogue_acts, data_files):\n",
    "    for file_path in data_files:\n",
    "        data = load_json(file_path)\n",
    "        \n",
    "        for dialogue in data:\n",
    "            dialogue_idx = dialogue['dialogue_idx'].replace('.json', '')\n",
    "\n",
    "            if dialogue_idx in dialogue_acts:\n",
    "                acts = dialogue_acts[dialogue_idx]\n",
    "\n",
    "                for turn in dialogue['dialogue']:\n",
    "                    turn_idx = str(turn['turn_idx'])\n",
    "                    if turn_idx in acts:\n",
    "                        turn['dialogue_act'] = acts[turn_idx]\n",
    "\n",
    "        save_json(data, file_path)\n"
   ]
  },
  {
   "cell_type": "code",
   "execution_count": 5,
   "id": "a513f958",
   "metadata": {
    "execution": {
     "iopub.execute_input": "2024-12-31T09:11:00.954582Z",
     "iopub.status.busy": "2024-12-31T09:11:00.954337Z",
     "iopub.status.idle": "2024-12-31T09:11:12.517958Z",
     "shell.execute_reply": "2024-12-31T09:11:12.517080Z",
     "shell.execute_reply.started": "2024-12-31T09:11:00.954564Z"
    },
    "papermill": {
     "duration": 11.607871,
     "end_time": "2024-12-27T05:13:38.763474",
     "exception": false,
     "start_time": "2024-12-27T05:13:27.155603",
     "status": "completed"
    },
    "tags": [],
    "trusted": true
   },
   "outputs": [
    {
     "name": "stdout",
     "output_type": "stream",
     "text": [
      "Dialogue acts have been added to all data files.\n"
     ]
    }
   ],
   "source": [
    "dialogue_acts_path = '/kaggle/input/multiwoz2-4/dialogue_acts.json'\n",
    "data_files = ['/kaggle/working/train_dials.json', '/kaggle/working/dev_dials.json', '/kaggle/working/test_dials.json']\n",
    "\n",
    "dialogue_acts = load_json(dialogue_acts_path)\n",
    "\n",
    "add_dialogue_acts(dialogue_acts, data_files)\n",
    "\n",
    "print(\"Dialogue acts have been added to all data files.\")"
   ]
  },
  {
   "cell_type": "markdown",
   "id": "754b2cc7",
   "metadata": {},
   "source": [
    "# Slot Filling"
   ]
  },
  {
   "cell_type": "code",
   "execution_count": 6,
   "id": "de433441",
   "metadata": {
    "execution": {
     "iopub.execute_input": "2024-12-31T09:11:12.519386Z",
     "iopub.status.busy": "2024-12-31T09:11:12.519072Z",
     "iopub.status.idle": "2024-12-31T09:11:17.376610Z",
     "shell.execute_reply": "2024-12-31T09:11:17.375957Z",
     "shell.execute_reply.started": "2024-12-31T09:11:12.519355Z"
    },
    "papermill": {
     "duration": 5.323046,
     "end_time": "2024-12-27T05:13:44.132224",
     "exception": false,
     "start_time": "2024-12-27T05:13:38.809178",
     "status": "completed"
    },
    "tags": [],
    "trusted": true
   },
   "outputs": [],
   "source": [
    "import json\n",
    "import torch\n",
    "from torch.utils.data import Dataset, DataLoader\n",
    "from transformers import BertTokenizer, BertForTokenClassification, AdamW\n",
    "from sklearn.metrics import classification_report\n",
    "import numpy as np\n",
    "from tqdm import tqdm"
   ]
  },
  {
   "cell_type": "code",
   "execution_count": null,
   "id": "b2a63e75",
   "metadata": {},
   "outputs": [],
   "source": [
    "class SlotFillingDataset(Dataset):\n",
    "    def __init__(self, file_path, tokenizer, label2id=None, max_len=128):\n",
    "        self.tokenizer = tokenizer\n",
    "        self.max_len = max_len\n",
    "        self.label2id = label2id\n",
    "        \n",
    "        \n",
    "        if self.label2id is None: # create label id\n",
    "            # First, get all possible labels from the data\n",
    "            unique_labels = {'O'}  # Initialize with 'O' tag\n",
    "            with open(file_path, 'r') as f:\n",
    "                data = json.load(f)\n",
    "                for dialogue in data:\n",
    "                    for turn in dialogue['dialogue']:\n",
    "                        labels = turn.get('turn_label', [])\n",
    "                        for slot_name, _ in labels:\n",
    "                            unique_labels.add(f'B-{slot_name}')\n",
    "                            unique_labels.add(f'I-{slot_name}')\n",
    "            \n",
    "            self.label2id = {label: idx for idx, label in enumerate(sorted(unique_labels))}\n",
    "        \n",
    "        self.data = self.load_and_process_data(file_path)\n",
    "        \n",
    "    def load_and_process_data(self, file_path):\n",
    "        with open(file_path, 'r') as f:\n",
    "            data = json.load(f)\n",
    "        \n",
    "        processed_data = []\n",
    "        for dialogue in data:\n",
    "            for turn in dialogue['dialogue']:\n",
    "                text = turn['transcript']\n",
    "                labels = turn.get('turn_label', [])\n",
    "                \n",
    "                encoding = self.tokenizer(\n",
    "                    text,\n",
    "                    padding='max_length',\n",
    "                    truncation=True,\n",
    "                    max_length=self.max_len,\n",
    "                    return_tensors='pt'\n",
    "                )\n",
    "                \n",
    "                \n",
    "                label_ids = ['O'] * len(encoding['input_ids'][0]) # Init labels as 'O'\n",
    "                \n",
    "                \n",
    "                for slot_name, slot_value in labels: # Map slots to BIO tags\n",
    "                    # Tokenize slot value\n",
    "                    slot_tokens = self.tokenizer.tokenize(slot_value)\n",
    "                    text_tokens = self.tokenizer.tokenize(text)\n",
    "                    \n",
    "                    # Find slot tokens in text\n",
    "                    for i in range(len(text_tokens)):\n",
    "                        if text_tokens[i:i+len(slot_tokens)] == slot_tokens:\n",
    "                            # Account for [CLS] token\n",
    "                            label_ids[i+1] = f'B-{slot_name}'\n",
    "                            for j in range(1, len(slot_tokens)):\n",
    "                                if i+j+1 < len(label_ids):\n",
    "                                    label_ids[i+j+1] = f'I-{slot_name}'\n",
    "                \n",
    "                label_ids = [self.label2id[label] for label in label_ids]\n",
    "                labels_tensor = torch.tensor(label_ids)\n",
    "                \n",
    "                processed_data.append({\n",
    "                    'input_ids': encoding['input_ids'][0],\n",
    "                    'attention_mask': encoding['attention_mask'][0],\n",
    "                    'labels': labels_tensor\n",
    "                })\n",
    "        \n",
    "        return processed_data\n",
    "    \n",
    "    def __len__(self):\n",
    "        return len(self.data)\n",
    "    \n",
    "    def __getitem__(self, idx):\n",
    "        return self.data[idx]"
   ]
  },
  {
   "cell_type": "code",
   "execution_count": null,
   "id": "e4a828da",
   "metadata": {},
   "outputs": [],
   "source": [
    "def collate_fn(batch):\n",
    "    input_ids = torch.stack([item['input_ids'] for item in batch])\n",
    "    attention_mask = torch.stack([item['attention_mask'] for item in batch])\n",
    "    labels = torch.stack([item['labels'] for item in batch])\n",
    "    \n",
    "    return {\n",
    "        'input_ids': input_ids,\n",
    "        'attention_mask': attention_mask,\n",
    "        'labels': labels\n",
    "    }"
   ]
  },
  {
   "cell_type": "code",
   "execution_count": null,
   "id": "e17b4d51",
   "metadata": {},
   "outputs": [],
   "source": [
    "def train_model(model, train_loader, val_loader, device, num_epochs=20):\n",
    "    optimizer = AdamW(model.parameters(), lr=2e-5)\n",
    "    best_val_loss = float('inf')\n",
    "    \n",
    "    for epoch in range(num_epochs):\n",
    "        model.train()\n",
    "        total_loss = 0\n",
    "        \n",
    "        for batch in tqdm(train_loader, desc=f'Epoch {epoch + 1}/{num_epochs}'):\n",
    "            input_ids = batch['input_ids'].to(device)\n",
    "            attention_mask = batch['attention_mask'].to(device)\n",
    "            labels = batch['labels'].to(device)\n",
    "            \n",
    "            outputs = model(\n",
    "                input_ids=input_ids,\n",
    "                attention_mask=attention_mask,\n",
    "                labels=labels\n",
    "            )\n",
    "            \n",
    "            loss = outputs.loss\n",
    "            total_loss += loss.item()\n",
    "            \n",
    "            optimizer.zero_grad()\n",
    "            loss.backward()\n",
    "            optimizer.step()\n",
    "\n",
    "        model.eval()\n",
    "        val_loss = 0\n",
    "        with torch.no_grad():\n",
    "            for batch in val_loader:\n",
    "                input_ids = batch['input_ids'].to(device)\n",
    "                attention_mask = batch['attention_mask'].to(device)\n",
    "                labels = batch['labels'].to(device)\n",
    "                \n",
    "                outputs = model(\n",
    "                    input_ids=input_ids,\n",
    "                    attention_mask=attention_mask,\n",
    "                    labels=labels\n",
    "                )\n",
    "                \n",
    "                val_loss += outputs.loss.item()\n",
    "        \n",
    "        avg_val_loss = val_loss / len(val_loader)\n",
    "        print(f'Epoch {epoch + 1}, Validation Loss: {avg_val_loss:.4f}')\n",
    "        \n",
    "        # Saving\n",
    "        if avg_val_loss < best_val_loss:\n",
    "            best_val_loss = avg_val_loss\n",
    "            torch.save(model.state_dict(), 'slot_filling_model.pt')"
   ]
  },
  {
   "cell_type": "code",
   "execution_count": 7,
   "id": "f502320a",
   "metadata": {
    "execution": {
     "iopub.execute_input": "2024-12-31T09:11:17.377712Z",
     "iopub.status.busy": "2024-12-31T09:11:17.377363Z",
     "iopub.status.idle": "2024-12-31T09:11:17.393896Z",
     "shell.execute_reply": "2024-12-31T09:11:17.393180Z",
     "shell.execute_reply.started": "2024-12-31T09:11:17.377681Z"
    },
    "papermill": {
     "duration": 0.023579,
     "end_time": "2024-12-27T05:13:44.160584",
     "exception": false,
     "start_time": "2024-12-27T05:13:44.137005",
     "status": "completed"
    },
    "tags": [],
    "trusted": true
   },
   "outputs": [],
   "source": [
    "def evaluate_model(model, test_loader, device, id2label):\n",
    "    model.eval()\n",
    "    all_predictions = []\n",
    "    all_labels = []\n",
    "    \n",
    "    with torch.no_grad():\n",
    "        for batch in test_loader:\n",
    "            input_ids = batch['input_ids'].to(device)\n",
    "            attention_mask = batch['attention_mask'].to(device)\n",
    "            labels = batch['labels']\n",
    "            \n",
    "            outputs = model(\n",
    "                input_ids=input_ids,\n",
    "                attention_mask=attention_mask\n",
    "            )\n",
    "            \n",
    "            predictions = torch.argmax(outputs.logits, dim=2)\n",
    "            \n",
    "            for pred, label, mask in zip(predictions, labels, attention_mask):\n",
    "                pred = [id2label[p.item()] for p, m in zip(pred, mask) if m.item() == 1]\n",
    "                label = [id2label[l.item()] for l, m in zip(label, mask) if m.item() == 1]\n",
    "                \n",
    "                all_predictions.extend(pred)\n",
    "                all_labels.extend(label)\n",
    "    \n",
    "    return classification_report(all_labels, all_predictions)\n"
   ]
  },
  {
   "cell_type": "markdown",
   "id": "39d21c0b",
   "metadata": {},
   "source": [
    "# Training"
   ]
  },
  {
   "cell_type": "code",
   "execution_count": 11,
   "id": "da536b88",
   "metadata": {
    "execution": {
     "iopub.execute_input": "2024-12-27T05:13:44.169952Z",
     "iopub.status.busy": "2024-12-27T05:13:44.169746Z",
     "iopub.status.idle": "2024-12-27T05:13:45.308194Z",
     "shell.execute_reply": "2024-12-27T05:13:45.307219Z"
    },
    "papermill": {
     "duration": 1.144603,
     "end_time": "2024-12-27T05:13:45.309522",
     "exception": false,
     "start_time": "2024-12-27T05:13:44.164919",
     "status": "completed"
    },
    "tags": []
   },
   "outputs": [
    {
     "name": "stdout",
     "output_type": "stream",
     "text": [
      "Using device: cuda\n"
     ]
    },
    {
     "data": {
      "application/vnd.jupyter.widget-view+json": {
       "model_id": "c8874da504f04ceb8921496f7c65a926",
       "version_major": 2,
       "version_minor": 0
      },
      "text/plain": [
       "tokenizer_config.json:   0%|          | 0.00/48.0 [00:00<?, ?B/s]"
      ]
     },
     "metadata": {},
     "output_type": "display_data"
    },
    {
     "data": {
      "application/vnd.jupyter.widget-view+json": {
       "model_id": "b3dfc54bcf82424697a7a4619bb7fcad",
       "version_major": 2,
       "version_minor": 0
      },
      "text/plain": [
       "vocab.txt:   0%|          | 0.00/232k [00:00<?, ?B/s]"
      ]
     },
     "metadata": {},
     "output_type": "display_data"
    },
    {
     "data": {
      "application/vnd.jupyter.widget-view+json": {
       "model_id": "cbf44ffab7574ac7a0886e3f8a9dc7c7",
       "version_major": 2,
       "version_minor": 0
      },
      "text/plain": [
       "tokenizer.json:   0%|          | 0.00/466k [00:00<?, ?B/s]"
      ]
     },
     "metadata": {},
     "output_type": "display_data"
    },
    {
     "data": {
      "application/vnd.jupyter.widget-view+json": {
       "model_id": "f8cbe002c4dc42e8802ade821fa99029",
       "version_major": 2,
       "version_minor": 0
      },
      "text/plain": [
       "config.json:   0%|          | 0.00/570 [00:00<?, ?B/s]"
      ]
     },
     "metadata": {},
     "output_type": "display_data"
    },
    {
     "name": "stderr",
     "output_type": "stream",
     "text": [
      "/usr/local/lib/python3.10/dist-packages/transformers/tokenization_utils_base.py:1601: FutureWarning: `clean_up_tokenization_spaces` was not set. It will be set to `True` by default. This behavior will be depracted in transformers v4.45, and will be then set to `False` by default. For more details check this issue: https://github.com/huggingface/transformers/issues/31884\n",
      "  warnings.warn(\n"
     ]
    }
   ],
   "source": [
    "device = torch.device('cuda' if torch.cuda.is_available() else 'cpu')\n",
    "print(f\"Using device: {device}\")\n",
    "\n",
    "tokenizer = BertTokenizer.from_pretrained('bert-base-uncased')"
   ]
  },
  {
   "cell_type": "code",
   "execution_count": 12,
   "id": "92fcdfb7",
   "metadata": {
    "execution": {
     "iopub.execute_input": "2024-12-27T05:13:45.320877Z",
     "iopub.status.busy": "2024-12-27T05:13:45.320658Z",
     "iopub.status.idle": "2024-12-27T05:14:43.006932Z",
     "shell.execute_reply": "2024-12-27T05:14:43.006200Z"
    },
    "papermill": {
     "duration": 57.693564,
     "end_time": "2024-12-27T05:14:43.008479",
     "exception": false,
     "start_time": "2024-12-27T05:13:45.314915",
     "status": "completed"
    },
    "tags": []
   },
   "outputs": [],
   "source": [
    "train_dataset = SlotFillingDataset('/kaggle/working/train_dials.json', tokenizer)\n",
    "label2id = train_dataset.label2id"
   ]
  },
  {
   "cell_type": "code",
   "execution_count": 13,
   "id": "0fcafdc1",
   "metadata": {
    "execution": {
     "iopub.execute_input": "2024-12-27T05:14:43.019678Z",
     "iopub.status.busy": "2024-12-27T05:14:43.019409Z",
     "iopub.status.idle": "2024-12-27T05:14:43.023706Z",
     "shell.execute_reply": "2024-12-27T05:14:43.023014Z"
    },
    "papermill": {
     "duration": 0.01085,
     "end_time": "2024-12-27T05:14:43.024813",
     "exception": false,
     "start_time": "2024-12-27T05:14:43.013963",
     "status": "completed"
    },
    "tags": []
   },
   "outputs": [
    {
     "name": "stdout",
     "output_type": "stream",
     "text": [
      "Label to ID mapping: {'B-attraction-area': 0, 'B-attraction-name': 1, 'B-attraction-type': 2, 'B-hospital-department': 3, 'B-hotel-area': 4, 'B-hotel-book day': 5, 'B-hotel-book people': 6, 'B-hotel-book stay': 7, 'B-hotel-internet': 8, 'B-hotel-name': 9, 'B-hotel-parking': 10, 'B-hotel-pricerange': 11, 'B-hotel-stars': 12, 'B-hotel-type': 13, 'B-restaurant-area': 14, 'B-restaurant-book day': 15, 'B-restaurant-book people': 16, 'B-restaurant-book time': 17, 'B-restaurant-food': 18, 'B-restaurant-name': 19, 'B-restaurant-pricerange': 20, 'B-taxi-arriveby': 21, 'B-taxi-departure': 22, 'B-taxi-destination': 23, 'B-taxi-leaveat': 24, 'B-train-arriveby': 25, 'B-train-book people': 26, 'B-train-day': 27, 'B-train-departure': 28, 'B-train-destination': 29, 'B-train-leaveat': 30, 'I-attraction-area': 31, 'I-attraction-name': 32, 'I-attraction-type': 33, 'I-hospital-department': 34, 'I-hotel-area': 35, 'I-hotel-book day': 36, 'I-hotel-book people': 37, 'I-hotel-book stay': 38, 'I-hotel-internet': 39, 'I-hotel-name': 40, 'I-hotel-parking': 41, 'I-hotel-pricerange': 42, 'I-hotel-stars': 43, 'I-hotel-type': 44, 'I-restaurant-area': 45, 'I-restaurant-book day': 46, 'I-restaurant-book people': 47, 'I-restaurant-book time': 48, 'I-restaurant-food': 49, 'I-restaurant-name': 50, 'I-restaurant-pricerange': 51, 'I-taxi-arriveby': 52, 'I-taxi-departure': 53, 'I-taxi-destination': 54, 'I-taxi-leaveat': 55, 'I-train-arriveby': 56, 'I-train-book people': 57, 'I-train-day': 58, 'I-train-departure': 59, 'I-train-destination': 60, 'I-train-leaveat': 61, 'O': 62}\n"
     ]
    }
   ],
   "source": [
    "print(\"Label to ID mapping:\", label2id) "
   ]
  },
  {
   "cell_type": "code",
   "execution_count": 14,
   "id": "b57cdd14",
   "metadata": {
    "execution": {
     "iopub.execute_input": "2024-12-27T05:14:43.034947Z",
     "iopub.status.busy": "2024-12-27T05:14:43.034746Z",
     "iopub.status.idle": "2024-12-27T05:15:52.259759Z",
     "shell.execute_reply": "2024-12-27T05:15:52.259016Z"
    },
    "papermill": {
     "duration": 69.231587,
     "end_time": "2024-12-27T05:15:52.261192",
     "exception": false,
     "start_time": "2024-12-27T05:14:43.029605",
     "status": "completed"
    },
    "tags": []
   },
   "outputs": [],
   "source": [
    "train_dataset = SlotFillingDataset('/kaggle/working/train_dials.json', tokenizer, label2id)\n",
    "val_dataset = SlotFillingDataset('/kaggle/working/dev_dials.json', tokenizer, label2id)\n",
    "test_dataset = SlotFillingDataset('/kaggle/working/test_dials.json', tokenizer, label2id)"
   ]
  },
  {
   "cell_type": "code",
   "execution_count": 15,
   "id": "f0b53f1f",
   "metadata": {
    "execution": {
     "iopub.execute_input": "2024-12-27T05:15:52.272193Z",
     "iopub.status.busy": "2024-12-27T05:15:52.271974Z",
     "iopub.status.idle": "2024-12-27T05:15:52.274823Z",
     "shell.execute_reply": "2024-12-27T05:15:52.274141Z"
    },
    "papermill": {
     "duration": 0.009508,
     "end_time": "2024-12-27T05:15:52.276097",
     "exception": false,
     "start_time": "2024-12-27T05:15:52.266589",
     "status": "completed"
    },
    "tags": []
   },
   "outputs": [],
   "source": [
    "# global label2id\n",
    "# unique_labels = set()\n",
    "# for dataset in [train_dataset, val_dataset, test_dataset]:\n",
    "#     for item in dataset.data:\n",
    "#         unique_labels.update(item['labels'])\n",
    "# label2id = {label: idx for idx, label in enumerate(sorted(unique_labels))}"
   ]
  },
  {
   "cell_type": "code",
   "execution_count": 16,
   "id": "c31abca8",
   "metadata": {
    "execution": {
     "iopub.execute_input": "2024-12-27T05:15:52.287177Z",
     "iopub.status.busy": "2024-12-27T05:15:52.286977Z",
     "iopub.status.idle": "2024-12-27T05:15:52.289612Z",
     "shell.execute_reply": "2024-12-27T05:15:52.288995Z"
    },
    "papermill": {
     "duration": 0.009206,
     "end_time": "2024-12-27T05:15:52.290696",
     "exception": false,
     "start_time": "2024-12-27T05:15:52.281490",
     "status": "completed"
    },
    "tags": []
   },
   "outputs": [],
   "source": [
    "# unique_labels = set()\n",
    "# for dataset in [train_dataset, val_dataset, test_dataset]:\n",
    "#     for item in dataset.data:\n",
    "#         unique_labels.update(item['labels'])\n",
    "# label2id = {label: idx for idx, label in enumerate(sorted(unique_labels))}\n",
    "\n",
    "# train_loader = DataLoader(train_dataset, batch_size=256, shuffle=True)\n",
    "# val_loader = DataLoader(val_dataset, batch_size=256)\n"
   ]
  },
  {
   "cell_type": "code",
   "execution_count": 17,
   "id": "85adc018",
   "metadata": {
    "execution": {
     "iopub.execute_input": "2024-12-27T05:15:52.300857Z",
     "iopub.status.busy": "2024-12-27T05:15:52.300651Z",
     "iopub.status.idle": "2024-12-27T05:15:52.303847Z",
     "shell.execute_reply": "2024-12-27T05:15:52.303250Z"
    },
    "papermill": {
     "duration": 0.009509,
     "end_time": "2024-12-27T05:15:52.305009",
     "exception": false,
     "start_time": "2024-12-27T05:15:52.295500",
     "status": "completed"
    },
    "tags": []
   },
   "outputs": [],
   "source": [
    "train_loader = DataLoader(train_dataset, batch_size=128, shuffle=True, collate_fn=collate_fn)\n",
    "val_loader = DataLoader(val_dataset, batch_size=128, collate_fn=collate_fn)\n"
   ]
  },
  {
   "cell_type": "code",
   "execution_count": 18,
   "id": "f8365ce2",
   "metadata": {
    "execution": {
     "iopub.execute_input": "2024-12-27T05:15:52.315801Z",
     "iopub.status.busy": "2024-12-27T05:15:52.315597Z",
     "iopub.status.idle": "2024-12-27T05:15:55.023978Z",
     "shell.execute_reply": "2024-12-27T05:15:55.023277Z"
    },
    "papermill": {
     "duration": 2.715744,
     "end_time": "2024-12-27T05:15:55.025526",
     "exception": false,
     "start_time": "2024-12-27T05:15:52.309782",
     "status": "completed"
    },
    "tags": []
   },
   "outputs": [
    {
     "data": {
      "application/vnd.jupyter.widget-view+json": {
       "model_id": "aec144796a2a488c86d5cab9ad436e91",
       "version_major": 2,
       "version_minor": 0
      },
      "text/plain": [
       "model.safetensors:   0%|          | 0.00/440M [00:00<?, ?B/s]"
      ]
     },
     "metadata": {},
     "output_type": "display_data"
    },
    {
     "name": "stderr",
     "output_type": "stream",
     "text": [
      "Some weights of BertForTokenClassification were not initialized from the model checkpoint at bert-base-uncased and are newly initialized: ['classifier.bias', 'classifier.weight']\n",
      "You should probably TRAIN this model on a down-stream task to be able to use it for predictions and inference.\n"
     ]
    }
   ],
   "source": [
    "model = BertForTokenClassification.from_pretrained(\n",
    "    'bert-base-uncased',\n",
    "    num_labels=len(label2id),\n",
    "    id2label={v: k for k, v in label2id.items()},\n",
    "    label2id=label2id\n",
    ").to(device)"
   ]
  },
  {
   "cell_type": "code",
   "execution_count": 19,
   "id": "985b683e",
   "metadata": {
    "execution": {
     "iopub.execute_input": "2024-12-27T05:15:55.037542Z",
     "iopub.status.busy": "2024-12-27T05:15:55.037285Z",
     "iopub.status.idle": "2024-12-27T12:02:14.214681Z",
     "shell.execute_reply": "2024-12-27T12:02:14.213775Z"
    },
    "papermill": {
     "duration": 24379.583596,
     "end_time": "2024-12-27T12:02:14.615080",
     "exception": false,
     "start_time": "2024-12-27T05:15:55.031484",
     "status": "completed"
    },
    "tags": []
   },
   "outputs": [
    {
     "name": "stderr",
     "output_type": "stream",
     "text": [
      "/usr/local/lib/python3.10/dist-packages/transformers/optimization.py:591: FutureWarning: This implementation of AdamW is deprecated and will be removed in a future version. Use the PyTorch implementation torch.optim.AdamW instead, or set `no_deprecation_warning=True` to disable this warning\n",
      "  warnings.warn(\n",
      "Epoch 1/20: 100%|██████████| 443/443 [19:22<00:00,  2.62s/it]\n"
     ]
    },
    {
     "name": "stdout",
     "output_type": "stream",
     "text": [
      "Epoch 1, Validation Loss: 0.0331\n"
     ]
    },
    {
     "name": "stderr",
     "output_type": "stream",
     "text": [
      "Epoch 2/20: 100%|██████████| 443/443 [19:28<00:00,  2.64s/it]\n"
     ]
    },
    {
     "name": "stdout",
     "output_type": "stream",
     "text": [
      "Epoch 2, Validation Loss: 0.0177\n"
     ]
    },
    {
     "name": "stderr",
     "output_type": "stream",
     "text": [
      "Epoch 3/20: 100%|██████████| 443/443 [19:28<00:00,  2.64s/it]\n"
     ]
    },
    {
     "name": "stdout",
     "output_type": "stream",
     "text": [
      "Epoch 3, Validation Loss: 0.0115\n"
     ]
    },
    {
     "name": "stderr",
     "output_type": "stream",
     "text": [
      "Epoch 4/20: 100%|██████████| 443/443 [19:27<00:00,  2.64s/it]\n"
     ]
    },
    {
     "name": "stdout",
     "output_type": "stream",
     "text": [
      "Epoch 4, Validation Loss: 0.0085\n"
     ]
    },
    {
     "name": "stderr",
     "output_type": "stream",
     "text": [
      "Epoch 5/20: 100%|██████████| 443/443 [19:27<00:00,  2.63s/it]\n"
     ]
    },
    {
     "name": "stdout",
     "output_type": "stream",
     "text": [
      "Epoch 5, Validation Loss: 0.0071\n"
     ]
    },
    {
     "name": "stderr",
     "output_type": "stream",
     "text": [
      "Epoch 6/20: 100%|██████████| 443/443 [19:27<00:00,  2.64s/it]\n"
     ]
    },
    {
     "name": "stdout",
     "output_type": "stream",
     "text": [
      "Epoch 6, Validation Loss: 0.0070\n"
     ]
    },
    {
     "name": "stderr",
     "output_type": "stream",
     "text": [
      "Epoch 7/20: 100%|██████████| 443/443 [19:27<00:00,  2.64s/it]\n"
     ]
    },
    {
     "name": "stdout",
     "output_type": "stream",
     "text": [
      "Epoch 7, Validation Loss: 0.0063\n"
     ]
    },
    {
     "name": "stderr",
     "output_type": "stream",
     "text": [
      "Epoch 8/20: 100%|██████████| 443/443 [19:27<00:00,  2.63s/it]\n"
     ]
    },
    {
     "name": "stdout",
     "output_type": "stream",
     "text": [
      "Epoch 8, Validation Loss: 0.0063\n"
     ]
    },
    {
     "name": "stderr",
     "output_type": "stream",
     "text": [
      "Epoch 9/20: 100%|██████████| 443/443 [19:28<00:00,  2.64s/it]\n"
     ]
    },
    {
     "name": "stdout",
     "output_type": "stream",
     "text": [
      "Epoch 9, Validation Loss: 0.0062\n"
     ]
    },
    {
     "name": "stderr",
     "output_type": "stream",
     "text": [
      "Epoch 10/20: 100%|██████████| 443/443 [19:27<00:00,  2.64s/it]\n"
     ]
    },
    {
     "name": "stdout",
     "output_type": "stream",
     "text": [
      "Epoch 10, Validation Loss: 0.0059\n"
     ]
    },
    {
     "name": "stderr",
     "output_type": "stream",
     "text": [
      "Epoch 11/20: 100%|██████████| 443/443 [19:28<00:00,  2.64s/it]\n"
     ]
    },
    {
     "name": "stdout",
     "output_type": "stream",
     "text": [
      "Epoch 11, Validation Loss: 0.0065\n"
     ]
    },
    {
     "name": "stderr",
     "output_type": "stream",
     "text": [
      "Epoch 12/20: 100%|██████████| 443/443 [19:27<00:00,  2.64s/it]\n"
     ]
    },
    {
     "name": "stdout",
     "output_type": "stream",
     "text": [
      "Epoch 12, Validation Loss: 0.0065\n"
     ]
    },
    {
     "name": "stderr",
     "output_type": "stream",
     "text": [
      "Epoch 13/20: 100%|██████████| 443/443 [19:27<00:00,  2.63s/it]\n"
     ]
    },
    {
     "name": "stdout",
     "output_type": "stream",
     "text": [
      "Epoch 13, Validation Loss: 0.0064\n"
     ]
    },
    {
     "name": "stderr",
     "output_type": "stream",
     "text": [
      "Epoch 14/20: 100%|██████████| 443/443 [19:26<00:00,  2.63s/it]\n"
     ]
    },
    {
     "name": "stdout",
     "output_type": "stream",
     "text": [
      "Epoch 14, Validation Loss: 0.0070\n"
     ]
    },
    {
     "name": "stderr",
     "output_type": "stream",
     "text": [
      "Epoch 15/20: 100%|██████████| 443/443 [19:27<00:00,  2.64s/it]\n"
     ]
    },
    {
     "name": "stdout",
     "output_type": "stream",
     "text": [
      "Epoch 15, Validation Loss: 0.0070\n"
     ]
    },
    {
     "name": "stderr",
     "output_type": "stream",
     "text": [
      "Epoch 16/20: 100%|██████████| 443/443 [19:28<00:00,  2.64s/it]\n"
     ]
    },
    {
     "name": "stdout",
     "output_type": "stream",
     "text": [
      "Epoch 16, Validation Loss: 0.0075\n"
     ]
    },
    {
     "name": "stderr",
     "output_type": "stream",
     "text": [
      "Epoch 17/20: 100%|██████████| 443/443 [19:27<00:00,  2.64s/it]\n"
     ]
    },
    {
     "name": "stdout",
     "output_type": "stream",
     "text": [
      "Epoch 17, Validation Loss: 0.0076\n"
     ]
    },
    {
     "name": "stderr",
     "output_type": "stream",
     "text": [
      "Epoch 18/20: 100%|██████████| 443/443 [19:27<00:00,  2.63s/it]\n"
     ]
    },
    {
     "name": "stdout",
     "output_type": "stream",
     "text": [
      "Epoch 18, Validation Loss: 0.0080\n"
     ]
    },
    {
     "name": "stderr",
     "output_type": "stream",
     "text": [
      "Epoch 19/20: 100%|██████████| 443/443 [19:27<00:00,  2.64s/it]\n"
     ]
    },
    {
     "name": "stdout",
     "output_type": "stream",
     "text": [
      "Epoch 19, Validation Loss: 0.0085\n"
     ]
    },
    {
     "name": "stderr",
     "output_type": "stream",
     "text": [
      "Epoch 20/20: 100%|██████████| 443/443 [19:27<00:00,  2.64s/it]\n"
     ]
    },
    {
     "name": "stdout",
     "output_type": "stream",
     "text": [
      "Epoch 20, Validation Loss: 0.0084\n"
     ]
    }
   ],
   "source": [
    "train_model(model, train_loader, val_loader, device)"
   ]
  },
  {
   "cell_type": "markdown",
   "id": "0e2d9eca-3a0a-4ce4-878d-25ad37dc0c16",
   "metadata": {},
   "source": [
    "# Evaluating"
   ]
  },
  {
   "cell_type": "code",
   "execution_count": 8,
   "id": "afa836a7-bd19-4542-9f9f-3bebe3d1d242",
   "metadata": {
    "execution": {
     "iopub.execute_input": "2024-12-31T09:11:17.395209Z",
     "iopub.status.busy": "2024-12-31T09:11:17.394941Z",
     "iopub.status.idle": "2024-12-31T09:11:19.073273Z",
     "shell.execute_reply": "2024-12-31T09:11:19.072330Z",
     "shell.execute_reply.started": "2024-12-31T09:11:17.395190Z"
    },
    "trusted": true
   },
   "outputs": [
    {
     "name": "stdout",
     "output_type": "stream",
     "text": [
      "Using device: cuda\n"
     ]
    },
    {
     "data": {
      "application/vnd.jupyter.widget-view+json": {
       "model_id": "0b877d40fe954b4999888ea56ff4ed5d",
       "version_major": 2,
       "version_minor": 0
      },
      "text/plain": [
       "tokenizer_config.json:   0%|          | 0.00/48.0 [00:00<?, ?B/s]"
      ]
     },
     "metadata": {},
     "output_type": "display_data"
    },
    {
     "data": {
      "application/vnd.jupyter.widget-view+json": {
       "model_id": "4525472a29084e13a1df488d68467b9b",
       "version_major": 2,
       "version_minor": 0
      },
      "text/plain": [
       "vocab.txt:   0%|          | 0.00/232k [00:00<?, ?B/s]"
      ]
     },
     "metadata": {},
     "output_type": "display_data"
    },
    {
     "data": {
      "application/vnd.jupyter.widget-view+json": {
       "model_id": "76edcb70af9c45dda83fda75ee2fc3fd",
       "version_major": 2,
       "version_minor": 0
      },
      "text/plain": [
       "tokenizer.json:   0%|          | 0.00/466k [00:00<?, ?B/s]"
      ]
     },
     "metadata": {},
     "output_type": "display_data"
    },
    {
     "data": {
      "application/vnd.jupyter.widget-view+json": {
       "model_id": "f8d524819e3b43b8b3e79b043ce6ad42",
       "version_major": 2,
       "version_minor": 0
      },
      "text/plain": [
       "config.json:   0%|          | 0.00/570 [00:00<?, ?B/s]"
      ]
     },
     "metadata": {},
     "output_type": "display_data"
    },
    {
     "name": "stderr",
     "output_type": "stream",
     "text": [
      "/usr/local/lib/python3.10/dist-packages/transformers/tokenization_utils_base.py:1601: FutureWarning: `clean_up_tokenization_spaces` was not set. It will be set to `True` by default. This behavior will be depracted in transformers v4.45, and will be then set to `False` by default. For more details check this issue: https://github.com/huggingface/transformers/issues/31884\n",
      "  warnings.warn(\n"
     ]
    }
   ],
   "source": [
    "device = torch.device('cuda' if torch.cuda.is_available() else 'cpu')\n",
    "print(f\"Using device: {device}\")\n",
    "\n",
    "tokenizer = BertTokenizer.from_pretrained('bert-base-uncased')"
   ]
  },
  {
   "cell_type": "code",
   "execution_count": 9,
   "id": "6fdf7418-7fa0-45aa-82b8-76176632e575",
   "metadata": {
    "execution": {
     "iopub.execute_input": "2024-12-31T09:12:24.044541Z",
     "iopub.status.busy": "2024-12-31T09:12:24.044233Z",
     "iopub.status.idle": "2024-12-31T09:13:21.944944Z",
     "shell.execute_reply": "2024-12-31T09:13:21.943951Z",
     "shell.execute_reply.started": "2024-12-31T09:12:24.044520Z"
    },
    "trusted": true
   },
   "outputs": [],
   "source": [
    "train_dataset = SlotFillingDataset('/kaggle/working/train_dials.json', tokenizer)\n",
    "label2id = train_dataset.label2id"
   ]
  },
  {
   "cell_type": "code",
   "execution_count": 10,
   "id": "37f37a4b-4201-4123-a9fb-65d7cb60ae75",
   "metadata": {
    "execution": {
     "iopub.execute_input": "2024-12-31T09:13:28.282949Z",
     "iopub.status.busy": "2024-12-31T09:13:28.282576Z",
     "iopub.status.idle": "2024-12-31T09:13:30.965850Z",
     "shell.execute_reply": "2024-12-31T09:13:30.965170Z",
     "shell.execute_reply.started": "2024-12-31T09:13:28.282910Z"
    },
    "trusted": true
   },
   "outputs": [
    {
     "data": {
      "application/vnd.jupyter.widget-view+json": {
       "model_id": "d4f26c0ad13140e1858910adfeb67cfe",
       "version_major": 2,
       "version_minor": 0
      },
      "text/plain": [
       "model.safetensors:   0%|          | 0.00/440M [00:00<?, ?B/s]"
      ]
     },
     "metadata": {},
     "output_type": "display_data"
    },
    {
     "name": "stderr",
     "output_type": "stream",
     "text": [
      "Some weights of BertForTokenClassification were not initialized from the model checkpoint at bert-base-uncased and are newly initialized: ['classifier.bias', 'classifier.weight']\n",
      "You should probably TRAIN this model on a down-stream task to be able to use it for predictions and inference.\n"
     ]
    }
   ],
   "source": [
    "model = BertForTokenClassification.from_pretrained(\n",
    "    'bert-base-uncased',\n",
    "    num_labels=len(label2id),\n",
    "    id2label={v: k for k, v in label2id.items()},\n",
    "    label2id=label2id\n",
    ").to(device)"
   ]
  },
  {
   "cell_type": "code",
   "execution_count": 11,
   "id": "455f9bd0",
   "metadata": {
    "execution": {
     "iopub.execute_input": "2024-12-31T09:13:30.967127Z",
     "iopub.status.busy": "2024-12-31T09:13:30.966849Z",
     "iopub.status.idle": "2024-12-31T09:13:33.831015Z",
     "shell.execute_reply": "2024-12-31T09:13:33.830066Z",
     "shell.execute_reply.started": "2024-12-31T09:13:30.967099Z"
    },
    "papermill": {
     "duration": 0.740415,
     "end_time": "2024-12-27T12:02:15.753388",
     "exception": false,
     "start_time": "2024-12-27T12:02:15.012973",
     "status": "completed"
    },
    "tags": [],
    "trusted": true
   },
   "outputs": [
    {
     "name": "stderr",
     "output_type": "stream",
     "text": [
      "<ipython-input-11-763fc24e918d>:1: FutureWarning: You are using `torch.load` with `weights_only=False` (the current default value), which uses the default pickle module implicitly. It is possible to construct malicious pickle data which will execute arbitrary code during unpickling (See https://github.com/pytorch/pytorch/blob/main/SECURITY.md#untrusted-models for more details). In a future release, the default value for `weights_only` will be flipped to `True`. This limits the functions that could be executed during unpickling. Arbitrary objects will no longer be allowed to be loaded via this mode unless they are explicitly allowlisted by the user via `torch.serialization.add_safe_globals`. We recommend you start setting `weights_only=True` for any use case where you don't have full control of the loaded file. Please open an issue on GitHub for any issues related to this experimental feature.\n",
      "  model.load_state_dict(torch.load('/kaggle/input/slotactdectection/transformers/default/1/best_slot_filling_model.pt'))\n"
     ]
    },
    {
     "data": {
      "text/plain": [
       "<All keys matched successfully>"
      ]
     },
     "execution_count": 11,
     "metadata": {},
     "output_type": "execute_result"
    }
   ],
   "source": [
    "model.load_state_dict(torch.load('/kaggle/input/slotactdectection/transformers/default/1/slot_filling_model.pt'))"
   ]
  },
  {
   "cell_type": "code",
   "execution_count": 18,
   "id": "554d8941-48b6-40de-9b2d-a0c36d56d544",
   "metadata": {
    "execution": {
     "iopub.execute_input": "2024-12-31T09:24:24.166613Z",
     "iopub.status.busy": "2024-12-31T09:24:24.166288Z",
     "iopub.status.idle": "2024-12-31T09:24:24.173451Z",
     "shell.execute_reply": "2024-12-31T09:24:24.172402Z",
     "shell.execute_reply.started": "2024-12-31T09:24:24.166591Z"
    },
    "trusted": true
   },
   "outputs": [],
   "source": [
    "def evaluate_model(model, test_loader, device, id2label):\n",
    "    model.eval()\n",
    "    all_predictions = []\n",
    "    all_labels = []\n",
    "\n",
    "    with torch.no_grad():\n",
    "        for batch in test_loader:\n",
    "            input_ids = batch['input_ids'].to(device)\n",
    "            attention_mask = batch['attention_mask'].to(device)\n",
    "            labels = batch['labels'].to(device)  \n",
    "            outputs = model(\n",
    "                input_ids=input_ids,\n",
    "                attention_mask=attention_mask\n",
    "            )\n",
    "            \n",
    "            predictions = torch.argmax(outputs.logits, dim=2)\n",
    "            \n",
    "            for pred, label, mask in zip(predictions, labels, attention_mask):\n",
    "                pred = [id2label[p.item()] for p, m in zip(pred, mask) if m.item() == 1]\n",
    "                label = [id2label[l.item()] for l, m in zip(label, mask) if m.item() == 1]\n",
    "\n",
    "                all_predictions.append(pred)\n",
    "                all_labels.append(label)\n",
    "\n",
    "    flat_predictions = [p for preds in all_predictions for p in preds]\n",
    "    flat_labels = [l for labels in all_labels for l in labels]\n",
    "    return flat_labels, flat_predictions"
   ]
  },
  {
   "cell_type": "code",
   "execution_count": null,
   "id": "7b2233f4",
   "metadata": {},
   "outputs": [],
   "source": [
    "id2label = {v: k for k, v in label2id.items()}"
   ]
  },
  {
   "cell_type": "code",
   "execution_count": 21,
   "id": "535e633c-0c41-43e5-b735-b7ef0c492606",
   "metadata": {
    "execution": {
     "iopub.execute_input": "2024-12-31T09:26:33.840421Z",
     "iopub.status.busy": "2024-12-31T09:26:33.840132Z",
     "iopub.status.idle": "2024-12-31T09:28:00.429108Z",
     "shell.execute_reply": "2024-12-31T09:28:00.428238Z",
     "shell.execute_reply.started": "2024-12-31T09:26:33.840400Z"
    },
    "trusted": true
   },
   "outputs": [
    {
     "name": "stdout",
     "output_type": "stream",
     "text": [
      "\n",
      "Test Set Results:\n",
      "                          precision    recall  f1-score   support\n",
      "\n",
      "       B-attraction-area       0.88      0.88      0.88       208\n",
      "       B-attraction-name       0.83      0.87      0.85       108\n",
      "       B-attraction-type       0.83      0.91      0.87       235\n",
      "            B-hotel-area       0.82      0.83      0.83       135\n",
      "        B-hotel-book day       0.86      0.97      0.91       238\n",
      "     B-hotel-book people       0.82      0.91      0.86       198\n",
      "       B-hotel-book stay       0.89      0.98      0.93       299\n",
      "        B-hotel-internet       0.71      0.85      0.77        20\n",
      "            B-hotel-name       0.90      0.96      0.93       127\n",
      "         B-hotel-parking       0.89      0.57      0.70        14\n",
      "      B-hotel-pricerange       0.82      0.83      0.83       215\n",
      "           B-hotel-stars       0.88      0.98      0.92       167\n",
      "            B-hotel-type       0.65      0.93      0.76       200\n",
      "       B-restaurant-area       0.83      0.87      0.85       255\n",
      "   B-restaurant-book day       0.93      0.96      0.94       263\n",
      "B-restaurant-book people       0.91      0.96      0.93       273\n",
      "  B-restaurant-book time       0.95      0.98      0.96       309\n",
      "       B-restaurant-food       0.94      0.98      0.96       384\n",
      "       B-restaurant-name       0.84      0.89      0.87       150\n",
      " B-restaurant-pricerange       0.80      0.87      0.84       272\n",
      "         B-taxi-arriveby       0.84      0.79      0.81        47\n",
      "        B-taxi-departure       0.83      0.95      0.89        74\n",
      "      B-taxi-destination       0.76      0.94      0.84        67\n",
      "          B-taxi-leaveat       0.88      0.82      0.85        93\n",
      "        B-train-arriveby       0.89      0.97      0.93       271\n",
      "     B-train-book people       0.89      0.93      0.91       255\n",
      "             B-train-day       0.92      0.98      0.95       464\n",
      "       B-train-departure       0.93      0.99      0.96       441\n",
      "     B-train-destination       0.89      0.96      0.92       472\n",
      "         B-train-leaveat       0.85      0.93      0.89       185\n",
      "       I-attraction-name       0.83      0.87      0.85       241\n",
      "       I-attraction-type       0.73      0.86      0.79        22\n",
      "            I-hotel-name       0.92      0.96      0.94       321\n",
      "            I-hotel-type       0.87      0.96      0.91       115\n",
      "  I-restaurant-book time       0.96      0.99      0.97       618\n",
      "       I-restaurant-food       0.95      0.97      0.96        77\n",
      "       I-restaurant-name       0.84      0.89      0.86       292\n",
      "         I-taxi-arriveby       0.77      0.77      0.77        94\n",
      "        I-taxi-departure       0.83      0.94      0.88       159\n",
      "      I-taxi-destination       0.78      0.92      0.85       161\n",
      "          I-taxi-leaveat       0.88      0.81      0.84       186\n",
      "        I-train-arriveby       0.89      0.96      0.92       542\n",
      "       I-train-departure       0.92      0.99      0.96       285\n",
      "     I-train-destination       0.91      0.98      0.94       301\n",
      "         I-train-leaveat       0.84      0.94      0.88       370\n",
      "                       O       1.00      0.99      0.99    111681\n",
      "\n",
      "                accuracy                           0.99    121904\n",
      "               macro avg       0.86      0.91      0.88    121904\n",
      "            weighted avg       0.99      0.99      0.99    121904\n",
      "\n"
     ]
    }
   ],
   "source": [
    "test_dataset = SlotFillingDataset('/kaggle/working/test_dials.json', tokenizer, label2id)\n",
    "test_loader = DataLoader(test_dataset, batch_size=512, collate_fn=collate_fn)\n",
    "true_labels, predicted_labels = evaluate_model(model, test_loader, device, id2label)\n",
    "print(\"\\nTest Set Results:\")\n",
    "print(classification_report(true_labels, predicted_labels))"
   ]
  },
  {
   "cell_type": "code",
   "execution_count": 22,
   "id": "d90e3bc1-184b-4250-bdb5-71055543b223",
   "metadata": {
    "execution": {
     "iopub.execute_input": "2024-12-31T09:28:00.430483Z",
     "iopub.status.busy": "2024-12-31T09:28:00.430215Z",
     "iopub.status.idle": "2024-12-31T09:28:01.340978Z",
     "shell.execute_reply": "2024-12-31T09:28:01.340064Z",
     "shell.execute_reply.started": "2024-12-31T09:28:00.430461Z"
    },
    "trusted": true
   },
   "outputs": [
    {
     "name": "stdout",
     "output_type": "stream",
     "text": [
      "\n",
      "Accuracy: 0.9857674891718073\n",
      "F1 Score (Weighted): 0.9860700347442711\n"
     ]
    }
   ],
   "source": [
    "from sklearn.metrics import accuracy_score, f1_score\n",
    "\n",
    "accuracy = accuracy_score(true_labels, predicted_labels)\n",
    "f1 = f1_score(true_labels, predicted_labels, average='weighted')  \n",
    "\n",
    "print(\"\\nAccuracy:\", accuracy)\n",
    "print(\"F1 Score (Weighted):\", f1)"
   ]
  },
  {
   "cell_type": "markdown",
   "id": "27e6e7d8-f8c8-491c-90ff-a89f6d4128a8",
   "metadata": {},
   "source": [
    "# "
   ]
  }
 ],
 "metadata": {
  "kaggle": {
   "accelerator": "nvidiaTeslaT4",
   "dataSources": [
    {
     "datasetId": 6366394,
     "sourceId": 10287364,
     "sourceType": "datasetVersion"
    },
    {
     "datasetId": 6365418,
     "sourceId": 10287400,
     "sourceType": "datasetVersion"
    },
    {
     "isSourceIdPinned": true,
     "modelId": 201526,
     "modelInstanceId": 179246,
     "sourceId": 210240,
     "sourceType": "modelInstanceVersion"
    },
    {
     "isSourceIdPinned": true,
     "modelId": 202666,
     "modelInstanceId": 180405,
     "sourceId": 211601,
     "sourceType": "modelInstanceVersion"
    }
   ],
   "dockerImageVersionId": 30823,
   "isGpuEnabled": true,
   "isInternetEnabled": true,
   "language": "python",
   "sourceType": "notebook"
  },
  "kernelspec": {
   "display_name": "Python 3",
   "language": "python",
   "name": "python3"
  },
  "language_info": {
   "codemirror_mode": {
    "name": "ipython",
    "version": 3
   },
   "file_extension": ".py",
   "mimetype": "text/x-python",
   "name": "python",
   "nbconvert_exporter": "python",
   "pygments_lexer": "ipython3",
   "version": "3.10.12"
  },
  "papermill": {
   "default_parameters": {},
   "duration": 24657.797592,
   "end_time": "2024-12-27T12:03:36.226198",
   "environment_variables": {},
   "exception": null,
   "input_path": "__notebook__.ipynb",
   "output_path": "__notebook__.ipynb",
   "parameters": {},
   "start_time": "2024-12-27T05:12:38.428606",
   "version": "2.6.0"
  },
  "widgets": {
   "application/vnd.jupyter.widget-state+json": {
    "state": {
     "08f295f1b72a42c98e82e2fc60fd437c": {
      "model_module": "@jupyter-widgets/base",
      "model_module_version": "2.0.0",
      "model_name": "LayoutModel",
      "state": {
       "_model_module": "@jupyter-widgets/base",
       "_model_module_version": "2.0.0",
       "_model_name": "LayoutModel",
       "_view_count": null,
       "_view_module": "@jupyter-widgets/base",
       "_view_module_version": "2.0.0",
       "_view_name": "LayoutView",
       "align_content": null,
       "align_items": null,
       "align_self": null,
       "border_bottom": null,
       "border_left": null,
       "border_right": null,
       "border_top": null,
       "bottom": null,
       "display": null,
       "flex": null,
       "flex_flow": null,
       "grid_area": null,
       "grid_auto_columns": null,
       "grid_auto_flow": null,
       "grid_auto_rows": null,
       "grid_column": null,
       "grid_gap": null,
       "grid_row": null,
       "grid_template_areas": null,
       "grid_template_columns": null,
       "grid_template_rows": null,
       "height": null,
       "justify_content": null,
       "justify_items": null,
       "left": null,
       "margin": null,
       "max_height": null,
       "max_width": null,
       "min_height": null,
       "min_width": null,
       "object_fit": null,
       "object_position": null,
       "order": null,
       "overflow": null,
       "padding": null,
       "right": null,
       "top": null,
       "visibility": null,
       "width": null
      }
     },
     "10a8c6f712a64ebdaad80181e6e50942": {
      "model_module": "@jupyter-widgets/controls",
      "model_module_version": "2.0.0",
      "model_name": "HTMLModel",
      "state": {
       "_dom_classes": [],
       "_model_module": "@jupyter-widgets/controls",
       "_model_module_version": "2.0.0",
       "_model_name": "HTMLModel",
       "_view_count": null,
       "_view_module": "@jupyter-widgets/controls",
       "_view_module_version": "2.0.0",
       "_view_name": "HTMLView",
       "description": "",
       "description_allow_html": false,
       "layout": "IPY_MODEL_7f4770885abf41e6a562d45aaa0b8b4b",
       "placeholder": "​",
       "style": "IPY_MODEL_e5d35b172e654d1c96094d81dc6bb728",
       "tabbable": null,
       "tooltip": null,
       "value": "model.safetensors: 100%"
      }
     },
     "1a949167c105447fa0fad4d43497c580": {
      "model_module": "@jupyter-widgets/base",
      "model_module_version": "2.0.0",
      "model_name": "LayoutModel",
      "state": {
       "_model_module": "@jupyter-widgets/base",
       "_model_module_version": "2.0.0",
       "_model_name": "LayoutModel",
       "_view_count": null,
       "_view_module": "@jupyter-widgets/base",
       "_view_module_version": "2.0.0",
       "_view_name": "LayoutView",
       "align_content": null,
       "align_items": null,
       "align_self": null,
       "border_bottom": null,
       "border_left": null,
       "border_right": null,
       "border_top": null,
       "bottom": null,
       "display": null,
       "flex": null,
       "flex_flow": null,
       "grid_area": null,
       "grid_auto_columns": null,
       "grid_auto_flow": null,
       "grid_auto_rows": null,
       "grid_column": null,
       "grid_gap": null,
       "grid_row": null,
       "grid_template_areas": null,
       "grid_template_columns": null,
       "grid_template_rows": null,
       "height": null,
       "justify_content": null,
       "justify_items": null,
       "left": null,
       "margin": null,
       "max_height": null,
       "max_width": null,
       "min_height": null,
       "min_width": null,
       "object_fit": null,
       "object_position": null,
       "order": null,
       "overflow": null,
       "padding": null,
       "right": null,
       "top": null,
       "visibility": null,
       "width": null
      }
     },
     "1caa765230b04564ae7959ce2851886b": {
      "model_module": "@jupyter-widgets/controls",
      "model_module_version": "2.0.0",
      "model_name": "HTMLStyleModel",
      "state": {
       "_model_module": "@jupyter-widgets/controls",
       "_model_module_version": "2.0.0",
       "_model_name": "HTMLStyleModel",
       "_view_count": null,
       "_view_module": "@jupyter-widgets/base",
       "_view_module_version": "2.0.0",
       "_view_name": "StyleView",
       "background": null,
       "description_width": "",
       "font_size": null,
       "text_color": null
      }
     },
     "32049992eb9f4ac79fd587c83f615334": {
      "model_module": "@jupyter-widgets/base",
      "model_module_version": "2.0.0",
      "model_name": "LayoutModel",
      "state": {
       "_model_module": "@jupyter-widgets/base",
       "_model_module_version": "2.0.0",
       "_model_name": "LayoutModel",
       "_view_count": null,
       "_view_module": "@jupyter-widgets/base",
       "_view_module_version": "2.0.0",
       "_view_name": "LayoutView",
       "align_content": null,
       "align_items": null,
       "align_self": null,
       "border_bottom": null,
       "border_left": null,
       "border_right": null,
       "border_top": null,
       "bottom": null,
       "display": null,
       "flex": null,
       "flex_flow": null,
       "grid_area": null,
       "grid_auto_columns": null,
       "grid_auto_flow": null,
       "grid_auto_rows": null,
       "grid_column": null,
       "grid_gap": null,
       "grid_row": null,
       "grid_template_areas": null,
       "grid_template_columns": null,
       "grid_template_rows": null,
       "height": null,
       "justify_content": null,
       "justify_items": null,
       "left": null,
       "margin": null,
       "max_height": null,
       "max_width": null,
       "min_height": null,
       "min_width": null,
       "object_fit": null,
       "object_position": null,
       "order": null,
       "overflow": null,
       "padding": null,
       "right": null,
       "top": null,
       "visibility": null,
       "width": null
      }
     },
     "344dedd0f1614135b6dfdbaf8beb1d14": {
      "model_module": "@jupyter-widgets/controls",
      "model_module_version": "2.0.0",
      "model_name": "FloatProgressModel",
      "state": {
       "_dom_classes": [],
       "_model_module": "@jupyter-widgets/controls",
       "_model_module_version": "2.0.0",
       "_model_name": "FloatProgressModel",
       "_view_count": null,
       "_view_module": "@jupyter-widgets/controls",
       "_view_module_version": "2.0.0",
       "_view_name": "ProgressView",
       "bar_style": "success",
       "description": "",
       "description_allow_html": false,
       "layout": "IPY_MODEL_43da972018174f618f399c4e7cc385c6",
       "max": 231508,
       "min": 0,
       "orientation": "horizontal",
       "style": "IPY_MODEL_4ef7e2494ad74cc1879f90becf89acbd",
       "tabbable": null,
       "tooltip": null,
       "value": 231508
      }
     },
     "3677d51690ce474db66cc57d3754d21d": {
      "model_module": "@jupyter-widgets/controls",
      "model_module_version": "2.0.0",
      "model_name": "HTMLStyleModel",
      "state": {
       "_model_module": "@jupyter-widgets/controls",
       "_model_module_version": "2.0.0",
       "_model_name": "HTMLStyleModel",
       "_view_count": null,
       "_view_module": "@jupyter-widgets/base",
       "_view_module_version": "2.0.0",
       "_view_name": "StyleView",
       "background": null,
       "description_width": "",
       "font_size": null,
       "text_color": null
      }
     },
     "43da972018174f618f399c4e7cc385c6": {
      "model_module": "@jupyter-widgets/base",
      "model_module_version": "2.0.0",
      "model_name": "LayoutModel",
      "state": {
       "_model_module": "@jupyter-widgets/base",
       "_model_module_version": "2.0.0",
       "_model_name": "LayoutModel",
       "_view_count": null,
       "_view_module": "@jupyter-widgets/base",
       "_view_module_version": "2.0.0",
       "_view_name": "LayoutView",
       "align_content": null,
       "align_items": null,
       "align_self": null,
       "border_bottom": null,
       "border_left": null,
       "border_right": null,
       "border_top": null,
       "bottom": null,
       "display": null,
       "flex": null,
       "flex_flow": null,
       "grid_area": null,
       "grid_auto_columns": null,
       "grid_auto_flow": null,
       "grid_auto_rows": null,
       "grid_column": null,
       "grid_gap": null,
       "grid_row": null,
       "grid_template_areas": null,
       "grid_template_columns": null,
       "grid_template_rows": null,
       "height": null,
       "justify_content": null,
       "justify_items": null,
       "left": null,
       "margin": null,
       "max_height": null,
       "max_width": null,
       "min_height": null,
       "min_width": null,
       "object_fit": null,
       "object_position": null,
       "order": null,
       "overflow": null,
       "padding": null,
       "right": null,
       "top": null,
       "visibility": null,
       "width": null
      }
     },
     "44ff4c1feda14d5a8734226e4d8fe67c": {
      "model_module": "@jupyter-widgets/controls",
      "model_module_version": "2.0.0",
      "model_name": "HTMLModel",
      "state": {
       "_dom_classes": [],
       "_model_module": "@jupyter-widgets/controls",
       "_model_module_version": "2.0.0",
       "_model_name": "HTMLModel",
       "_view_count": null,
       "_view_module": "@jupyter-widgets/controls",
       "_view_module_version": "2.0.0",
       "_view_name": "HTMLView",
       "description": "",
       "description_allow_html": false,
       "layout": "IPY_MODEL_efcdfab576f64ef1ba8fce82c26f274e",
       "placeholder": "​",
       "style": "IPY_MODEL_3677d51690ce474db66cc57d3754d21d",
       "tabbable": null,
       "tooltip": null,
       "value": "tokenizer.json: 100%"
      }
     },
     "45ae321b9209404fb652910fe8377f60": {
      "model_module": "@jupyter-widgets/controls",
      "model_module_version": "2.0.0",
      "model_name": "HTMLModel",
      "state": {
       "_dom_classes": [],
       "_model_module": "@jupyter-widgets/controls",
       "_model_module_version": "2.0.0",
       "_model_name": "HTMLModel",
       "_view_count": null,
       "_view_module": "@jupyter-widgets/controls",
       "_view_module_version": "2.0.0",
       "_view_name": "HTMLView",
       "description": "",
       "description_allow_html": false,
       "layout": "IPY_MODEL_08f295f1b72a42c98e82e2fc60fd437c",
       "placeholder": "​",
       "style": "IPY_MODEL_1caa765230b04564ae7959ce2851886b",
       "tabbable": null,
       "tooltip": null,
       "value": " 570/570 [00:00&lt;00:00, 56.2kB/s]"
      }
     },
     "48200fad28f247cdbc6b7b421c2b3503": {
      "model_module": "@jupyter-widgets/controls",
      "model_module_version": "2.0.0",
      "model_name": "FloatProgressModel",
      "state": {
       "_dom_classes": [],
       "_model_module": "@jupyter-widgets/controls",
       "_model_module_version": "2.0.0",
       "_model_name": "FloatProgressModel",
       "_view_count": null,
       "_view_module": "@jupyter-widgets/controls",
       "_view_module_version": "2.0.0",
       "_view_name": "ProgressView",
       "bar_style": "success",
       "description": "",
       "description_allow_html": false,
       "layout": "IPY_MODEL_e018e7058c16406487a8f16197c45842",
       "max": 48,
       "min": 0,
       "orientation": "horizontal",
       "style": "IPY_MODEL_da60a6685feb49f096086d56987af0b6",
       "tabbable": null,
       "tooltip": null,
       "value": 48
      }
     },
     "4d101be73ce744e78069e8d7d6cb552b": {
      "model_module": "@jupyter-widgets/base",
      "model_module_version": "2.0.0",
      "model_name": "LayoutModel",
      "state": {
       "_model_module": "@jupyter-widgets/base",
       "_model_module_version": "2.0.0",
       "_model_name": "LayoutModel",
       "_view_count": null,
       "_view_module": "@jupyter-widgets/base",
       "_view_module_version": "2.0.0",
       "_view_name": "LayoutView",
       "align_content": null,
       "align_items": null,
       "align_self": null,
       "border_bottom": null,
       "border_left": null,
       "border_right": null,
       "border_top": null,
       "bottom": null,
       "display": null,
       "flex": null,
       "flex_flow": null,
       "grid_area": null,
       "grid_auto_columns": null,
       "grid_auto_flow": null,
       "grid_auto_rows": null,
       "grid_column": null,
       "grid_gap": null,
       "grid_row": null,
       "grid_template_areas": null,
       "grid_template_columns": null,
       "grid_template_rows": null,
       "height": null,
       "justify_content": null,
       "justify_items": null,
       "left": null,
       "margin": null,
       "max_height": null,
       "max_width": null,
       "min_height": null,
       "min_width": null,
       "object_fit": null,
       "object_position": null,
       "order": null,
       "overflow": null,
       "padding": null,
       "right": null,
       "top": null,
       "visibility": null,
       "width": null
      }
     },
     "4ef7e2494ad74cc1879f90becf89acbd": {
      "model_module": "@jupyter-widgets/controls",
      "model_module_version": "2.0.0",
      "model_name": "ProgressStyleModel",
      "state": {
       "_model_module": "@jupyter-widgets/controls",
       "_model_module_version": "2.0.0",
       "_model_name": "ProgressStyleModel",
       "_view_count": null,
       "_view_module": "@jupyter-widgets/base",
       "_view_module_version": "2.0.0",
       "_view_name": "StyleView",
       "bar_color": null,
       "description_width": ""
      }
     },
     "5b233b48f2384effb16e5b4d70fbe774": {
      "model_module": "@jupyter-widgets/base",
      "model_module_version": "2.0.0",
      "model_name": "LayoutModel",
      "state": {
       "_model_module": "@jupyter-widgets/base",
       "_model_module_version": "2.0.0",
       "_model_name": "LayoutModel",
       "_view_count": null,
       "_view_module": "@jupyter-widgets/base",
       "_view_module_version": "2.0.0",
       "_view_name": "LayoutView",
       "align_content": null,
       "align_items": null,
       "align_self": null,
       "border_bottom": null,
       "border_left": null,
       "border_right": null,
       "border_top": null,
       "bottom": null,
       "display": null,
       "flex": null,
       "flex_flow": null,
       "grid_area": null,
       "grid_auto_columns": null,
       "grid_auto_flow": null,
       "grid_auto_rows": null,
       "grid_column": null,
       "grid_gap": null,
       "grid_row": null,
       "grid_template_areas": null,
       "grid_template_columns": null,
       "grid_template_rows": null,
       "height": null,
       "justify_content": null,
       "justify_items": null,
       "left": null,
       "margin": null,
       "max_height": null,
       "max_width": null,
       "min_height": null,
       "min_width": null,
       "object_fit": null,
       "object_position": null,
       "order": null,
       "overflow": null,
       "padding": null,
       "right": null,
       "top": null,
       "visibility": null,
       "width": null
      }
     },
     "5c36498729ee4be2904b7020d2fca416": {
      "model_module": "@jupyter-widgets/controls",
      "model_module_version": "2.0.0",
      "model_name": "HTMLStyleModel",
      "state": {
       "_model_module": "@jupyter-widgets/controls",
       "_model_module_version": "2.0.0",
       "_model_name": "HTMLStyleModel",
       "_view_count": null,
       "_view_module": "@jupyter-widgets/base",
       "_view_module_version": "2.0.0",
       "_view_name": "StyleView",
       "background": null,
       "description_width": "",
       "font_size": null,
       "text_color": null
      }
     },
     "5dbadc633a5b402ea74b52bed13af461": {
      "model_module": "@jupyter-widgets/controls",
      "model_module_version": "2.0.0",
      "model_name": "FloatProgressModel",
      "state": {
       "_dom_classes": [],
       "_model_module": "@jupyter-widgets/controls",
       "_model_module_version": "2.0.0",
       "_model_name": "FloatProgressModel",
       "_view_count": null,
       "_view_module": "@jupyter-widgets/controls",
       "_view_module_version": "2.0.0",
       "_view_name": "ProgressView",
       "bar_style": "success",
       "description": "",
       "description_allow_html": false,
       "layout": "IPY_MODEL_68fdf6fc59074d629c29ff14d06253c6",
       "max": 466062,
       "min": 0,
       "orientation": "horizontal",
       "style": "IPY_MODEL_6288e55873274736abd8f26b541903e3",
       "tabbable": null,
       "tooltip": null,
       "value": 466062
      }
     },
     "60454aedffc443f7ba504bf3c86aa35a": {
      "model_module": "@jupyter-widgets/controls",
      "model_module_version": "2.0.0",
      "model_name": "ProgressStyleModel",
      "state": {
       "_model_module": "@jupyter-widgets/controls",
       "_model_module_version": "2.0.0",
       "_model_name": "ProgressStyleModel",
       "_view_count": null,
       "_view_module": "@jupyter-widgets/base",
       "_view_module_version": "2.0.0",
       "_view_name": "StyleView",
       "bar_color": null,
       "description_width": ""
      }
     },
     "6288e55873274736abd8f26b541903e3": {
      "model_module": "@jupyter-widgets/controls",
      "model_module_version": "2.0.0",
      "model_name": "ProgressStyleModel",
      "state": {
       "_model_module": "@jupyter-widgets/controls",
       "_model_module_version": "2.0.0",
       "_model_name": "ProgressStyleModel",
       "_view_count": null,
       "_view_module": "@jupyter-widgets/base",
       "_view_module_version": "2.0.0",
       "_view_name": "StyleView",
       "bar_color": null,
       "description_width": ""
      }
     },
     "64bab0dd995a4e90b1d7e472bbd5e1a8": {
      "model_module": "@jupyter-widgets/controls",
      "model_module_version": "2.0.0",
      "model_name": "FloatProgressModel",
      "state": {
       "_dom_classes": [],
       "_model_module": "@jupyter-widgets/controls",
       "_model_module_version": "2.0.0",
       "_model_name": "FloatProgressModel",
       "_view_count": null,
       "_view_module": "@jupyter-widgets/controls",
       "_view_module_version": "2.0.0",
       "_view_name": "ProgressView",
       "bar_style": "success",
       "description": "",
       "description_allow_html": false,
       "layout": "IPY_MODEL_1a949167c105447fa0fad4d43497c580",
       "max": 440449768,
       "min": 0,
       "orientation": "horizontal",
       "style": "IPY_MODEL_60454aedffc443f7ba504bf3c86aa35a",
       "tabbable": null,
       "tooltip": null,
       "value": 440449768
      }
     },
     "68fdf6fc59074d629c29ff14d06253c6": {
      "model_module": "@jupyter-widgets/base",
      "model_module_version": "2.0.0",
      "model_name": "LayoutModel",
      "state": {
       "_model_module": "@jupyter-widgets/base",
       "_model_module_version": "2.0.0",
       "_model_name": "LayoutModel",
       "_view_count": null,
       "_view_module": "@jupyter-widgets/base",
       "_view_module_version": "2.0.0",
       "_view_name": "LayoutView",
       "align_content": null,
       "align_items": null,
       "align_self": null,
       "border_bottom": null,
       "border_left": null,
       "border_right": null,
       "border_top": null,
       "bottom": null,
       "display": null,
       "flex": null,
       "flex_flow": null,
       "grid_area": null,
       "grid_auto_columns": null,
       "grid_auto_flow": null,
       "grid_auto_rows": null,
       "grid_column": null,
       "grid_gap": null,
       "grid_row": null,
       "grid_template_areas": null,
       "grid_template_columns": null,
       "grid_template_rows": null,
       "height": null,
       "justify_content": null,
       "justify_items": null,
       "left": null,
       "margin": null,
       "max_height": null,
       "max_width": null,
       "min_height": null,
       "min_width": null,
       "object_fit": null,
       "object_position": null,
       "order": null,
       "overflow": null,
       "padding": null,
       "right": null,
       "top": null,
       "visibility": null,
       "width": null
      }
     },
     "7281c863d60e4f53b8f07b6613e36e5f": {
      "model_module": "@jupyter-widgets/base",
      "model_module_version": "2.0.0",
      "model_name": "LayoutModel",
      "state": {
       "_model_module": "@jupyter-widgets/base",
       "_model_module_version": "2.0.0",
       "_model_name": "LayoutModel",
       "_view_count": null,
       "_view_module": "@jupyter-widgets/base",
       "_view_module_version": "2.0.0",
       "_view_name": "LayoutView",
       "align_content": null,
       "align_items": null,
       "align_self": null,
       "border_bottom": null,
       "border_left": null,
       "border_right": null,
       "border_top": null,
       "bottom": null,
       "display": null,
       "flex": null,
       "flex_flow": null,
       "grid_area": null,
       "grid_auto_columns": null,
       "grid_auto_flow": null,
       "grid_auto_rows": null,
       "grid_column": null,
       "grid_gap": null,
       "grid_row": null,
       "grid_template_areas": null,
       "grid_template_columns": null,
       "grid_template_rows": null,
       "height": null,
       "justify_content": null,
       "justify_items": null,
       "left": null,
       "margin": null,
       "max_height": null,
       "max_width": null,
       "min_height": null,
       "min_width": null,
       "object_fit": null,
       "object_position": null,
       "order": null,
       "overflow": null,
       "padding": null,
       "right": null,
       "top": null,
       "visibility": null,
       "width": null
      }
     },
     "7f4770885abf41e6a562d45aaa0b8b4b": {
      "model_module": "@jupyter-widgets/base",
      "model_module_version": "2.0.0",
      "model_name": "LayoutModel",
      "state": {
       "_model_module": "@jupyter-widgets/base",
       "_model_module_version": "2.0.0",
       "_model_name": "LayoutModel",
       "_view_count": null,
       "_view_module": "@jupyter-widgets/base",
       "_view_module_version": "2.0.0",
       "_view_name": "LayoutView",
       "align_content": null,
       "align_items": null,
       "align_self": null,
       "border_bottom": null,
       "border_left": null,
       "border_right": null,
       "border_top": null,
       "bottom": null,
       "display": null,
       "flex": null,
       "flex_flow": null,
       "grid_area": null,
       "grid_auto_columns": null,
       "grid_auto_flow": null,
       "grid_auto_rows": null,
       "grid_column": null,
       "grid_gap": null,
       "grid_row": null,
       "grid_template_areas": null,
       "grid_template_columns": null,
       "grid_template_rows": null,
       "height": null,
       "justify_content": null,
       "justify_items": null,
       "left": null,
       "margin": null,
       "max_height": null,
       "max_width": null,
       "min_height": null,
       "min_width": null,
       "object_fit": null,
       "object_position": null,
       "order": null,
       "overflow": null,
       "padding": null,
       "right": null,
       "top": null,
       "visibility": null,
       "width": null
      }
     },
     "802472e0eee64c9699d3a440924da78d": {
      "model_module": "@jupyter-widgets/base",
      "model_module_version": "2.0.0",
      "model_name": "LayoutModel",
      "state": {
       "_model_module": "@jupyter-widgets/base",
       "_model_module_version": "2.0.0",
       "_model_name": "LayoutModel",
       "_view_count": null,
       "_view_module": "@jupyter-widgets/base",
       "_view_module_version": "2.0.0",
       "_view_name": "LayoutView",
       "align_content": null,
       "align_items": null,
       "align_self": null,
       "border_bottom": null,
       "border_left": null,
       "border_right": null,
       "border_top": null,
       "bottom": null,
       "display": null,
       "flex": null,
       "flex_flow": null,
       "grid_area": null,
       "grid_auto_columns": null,
       "grid_auto_flow": null,
       "grid_auto_rows": null,
       "grid_column": null,
       "grid_gap": null,
       "grid_row": null,
       "grid_template_areas": null,
       "grid_template_columns": null,
       "grid_template_rows": null,
       "height": null,
       "justify_content": null,
       "justify_items": null,
       "left": null,
       "margin": null,
       "max_height": null,
       "max_width": null,
       "min_height": null,
       "min_width": null,
       "object_fit": null,
       "object_position": null,
       "order": null,
       "overflow": null,
       "padding": null,
       "right": null,
       "top": null,
       "visibility": null,
       "width": null
      }
     },
     "84a6e3d6c1b24b1e84686174eda49bd9": {
      "model_module": "@jupyter-widgets/controls",
      "model_module_version": "2.0.0",
      "model_name": "HTMLStyleModel",
      "state": {
       "_model_module": "@jupyter-widgets/controls",
       "_model_module_version": "2.0.0",
       "_model_name": "HTMLStyleModel",
       "_view_count": null,
       "_view_module": "@jupyter-widgets/base",
       "_view_module_version": "2.0.0",
       "_view_name": "StyleView",
       "background": null,
       "description_width": "",
       "font_size": null,
       "text_color": null
      }
     },
     "8d3d32d8419f495597c64718191e10b9": {
      "model_module": "@jupyter-widgets/controls",
      "model_module_version": "2.0.0",
      "model_name": "HTMLStyleModel",
      "state": {
       "_model_module": "@jupyter-widgets/controls",
       "_model_module_version": "2.0.0",
       "_model_name": "HTMLStyleModel",
       "_view_count": null,
       "_view_module": "@jupyter-widgets/base",
       "_view_module_version": "2.0.0",
       "_view_name": "StyleView",
       "background": null,
       "description_width": "",
       "font_size": null,
       "text_color": null
      }
     },
     "8f2a440b5cfe41d7b1ff55e983962284": {
      "model_module": "@jupyter-widgets/base",
      "model_module_version": "2.0.0",
      "model_name": "LayoutModel",
      "state": {
       "_model_module": "@jupyter-widgets/base",
       "_model_module_version": "2.0.0",
       "_model_name": "LayoutModel",
       "_view_count": null,
       "_view_module": "@jupyter-widgets/base",
       "_view_module_version": "2.0.0",
       "_view_name": "LayoutView",
       "align_content": null,
       "align_items": null,
       "align_self": null,
       "border_bottom": null,
       "border_left": null,
       "border_right": null,
       "border_top": null,
       "bottom": null,
       "display": null,
       "flex": null,
       "flex_flow": null,
       "grid_area": null,
       "grid_auto_columns": null,
       "grid_auto_flow": null,
       "grid_auto_rows": null,
       "grid_column": null,
       "grid_gap": null,
       "grid_row": null,
       "grid_template_areas": null,
       "grid_template_columns": null,
       "grid_template_rows": null,
       "height": null,
       "justify_content": null,
       "justify_items": null,
       "left": null,
       "margin": null,
       "max_height": null,
       "max_width": null,
       "min_height": null,
       "min_width": null,
       "object_fit": null,
       "object_position": null,
       "order": null,
       "overflow": null,
       "padding": null,
       "right": null,
       "top": null,
       "visibility": null,
       "width": null
      }
     },
     "920f4889959d4b6b8834298e5d2b4c70": {
      "model_module": "@jupyter-widgets/controls",
      "model_module_version": "2.0.0",
      "model_name": "ProgressStyleModel",
      "state": {
       "_model_module": "@jupyter-widgets/controls",
       "_model_module_version": "2.0.0",
       "_model_name": "ProgressStyleModel",
       "_view_count": null,
       "_view_module": "@jupyter-widgets/base",
       "_view_module_version": "2.0.0",
       "_view_name": "StyleView",
       "bar_color": null,
       "description_width": ""
      }
     },
     "934853b2c592427bb9e002a5585436d5": {
      "model_module": "@jupyter-widgets/base",
      "model_module_version": "2.0.0",
      "model_name": "LayoutModel",
      "state": {
       "_model_module": "@jupyter-widgets/base",
       "_model_module_version": "2.0.0",
       "_model_name": "LayoutModel",
       "_view_count": null,
       "_view_module": "@jupyter-widgets/base",
       "_view_module_version": "2.0.0",
       "_view_name": "LayoutView",
       "align_content": null,
       "align_items": null,
       "align_self": null,
       "border_bottom": null,
       "border_left": null,
       "border_right": null,
       "border_top": null,
       "bottom": null,
       "display": null,
       "flex": null,
       "flex_flow": null,
       "grid_area": null,
       "grid_auto_columns": null,
       "grid_auto_flow": null,
       "grid_auto_rows": null,
       "grid_column": null,
       "grid_gap": null,
       "grid_row": null,
       "grid_template_areas": null,
       "grid_template_columns": null,
       "grid_template_rows": null,
       "height": null,
       "justify_content": null,
       "justify_items": null,
       "left": null,
       "margin": null,
       "max_height": null,
       "max_width": null,
       "min_height": null,
       "min_width": null,
       "object_fit": null,
       "object_position": null,
       "order": null,
       "overflow": null,
       "padding": null,
       "right": null,
       "top": null,
       "visibility": null,
       "width": null
      }
     },
     "957bf63d43534810bda24f4169372052": {
      "model_module": "@jupyter-widgets/base",
      "model_module_version": "2.0.0",
      "model_name": "LayoutModel",
      "state": {
       "_model_module": "@jupyter-widgets/base",
       "_model_module_version": "2.0.0",
       "_model_name": "LayoutModel",
       "_view_count": null,
       "_view_module": "@jupyter-widgets/base",
       "_view_module_version": "2.0.0",
       "_view_name": "LayoutView",
       "align_content": null,
       "align_items": null,
       "align_self": null,
       "border_bottom": null,
       "border_left": null,
       "border_right": null,
       "border_top": null,
       "bottom": null,
       "display": null,
       "flex": null,
       "flex_flow": null,
       "grid_area": null,
       "grid_auto_columns": null,
       "grid_auto_flow": null,
       "grid_auto_rows": null,
       "grid_column": null,
       "grid_gap": null,
       "grid_row": null,
       "grid_template_areas": null,
       "grid_template_columns": null,
       "grid_template_rows": null,
       "height": null,
       "justify_content": null,
       "justify_items": null,
       "left": null,
       "margin": null,
       "max_height": null,
       "max_width": null,
       "min_height": null,
       "min_width": null,
       "object_fit": null,
       "object_position": null,
       "order": null,
       "overflow": null,
       "padding": null,
       "right": null,
       "top": null,
       "visibility": null,
       "width": null
      }
     },
     "95e1443eaebd4c589976dd9674307f25": {
      "model_module": "@jupyter-widgets/controls",
      "model_module_version": "2.0.0",
      "model_name": "HTMLModel",
      "state": {
       "_dom_classes": [],
       "_model_module": "@jupyter-widgets/controls",
       "_model_module_version": "2.0.0",
       "_model_name": "HTMLModel",
       "_view_count": null,
       "_view_module": "@jupyter-widgets/controls",
       "_view_module_version": "2.0.0",
       "_view_name": "HTMLView",
       "description": "",
       "description_allow_html": false,
       "layout": "IPY_MODEL_d9327c64f9764cd68fa6e5219c2cf405",
       "placeholder": "​",
       "style": "IPY_MODEL_dc3008f33c85446381739e1e7a17a6b7",
       "tabbable": null,
       "tooltip": null,
       "value": " 440M/440M [00:01&lt;00:00, 230MB/s]"
      }
     },
     "99ba0b77bd164736874658ec6a5c1e0e": {
      "model_module": "@jupyter-widgets/base",
      "model_module_version": "2.0.0",
      "model_name": "LayoutModel",
      "state": {
       "_model_module": "@jupyter-widgets/base",
       "_model_module_version": "2.0.0",
       "_model_name": "LayoutModel",
       "_view_count": null,
       "_view_module": "@jupyter-widgets/base",
       "_view_module_version": "2.0.0",
       "_view_name": "LayoutView",
       "align_content": null,
       "align_items": null,
       "align_self": null,
       "border_bottom": null,
       "border_left": null,
       "border_right": null,
       "border_top": null,
       "bottom": null,
       "display": null,
       "flex": null,
       "flex_flow": null,
       "grid_area": null,
       "grid_auto_columns": null,
       "grid_auto_flow": null,
       "grid_auto_rows": null,
       "grid_column": null,
       "grid_gap": null,
       "grid_row": null,
       "grid_template_areas": null,
       "grid_template_columns": null,
       "grid_template_rows": null,
       "height": null,
       "justify_content": null,
       "justify_items": null,
       "left": null,
       "margin": null,
       "max_height": null,
       "max_width": null,
       "min_height": null,
       "min_width": null,
       "object_fit": null,
       "object_position": null,
       "order": null,
       "overflow": null,
       "padding": null,
       "right": null,
       "top": null,
       "visibility": null,
       "width": null
      }
     },
     "a50af51b0be543639995fbb2ed30779c": {
      "model_module": "@jupyter-widgets/controls",
      "model_module_version": "2.0.0",
      "model_name": "HTMLStyleModel",
      "state": {
       "_model_module": "@jupyter-widgets/controls",
       "_model_module_version": "2.0.0",
       "_model_name": "HTMLStyleModel",
       "_view_count": null,
       "_view_module": "@jupyter-widgets/base",
       "_view_module_version": "2.0.0",
       "_view_name": "StyleView",
       "background": null,
       "description_width": "",
       "font_size": null,
       "text_color": null
      }
     },
     "a5bdf68989644c5fae42f37f26430d50": {
      "model_module": "@jupyter-widgets/controls",
      "model_module_version": "2.0.0",
      "model_name": "HTMLModel",
      "state": {
       "_dom_classes": [],
       "_model_module": "@jupyter-widgets/controls",
       "_model_module_version": "2.0.0",
       "_model_name": "HTMLModel",
       "_view_count": null,
       "_view_module": "@jupyter-widgets/controls",
       "_view_module_version": "2.0.0",
       "_view_name": "HTMLView",
       "description": "",
       "description_allow_html": false,
       "layout": "IPY_MODEL_99ba0b77bd164736874658ec6a5c1e0e",
       "placeholder": "​",
       "style": "IPY_MODEL_8d3d32d8419f495597c64718191e10b9",
       "tabbable": null,
       "tooltip": null,
       "value": "config.json: 100%"
      }
     },
     "aec144796a2a488c86d5cab9ad436e91": {
      "model_module": "@jupyter-widgets/controls",
      "model_module_version": "2.0.0",
      "model_name": "HBoxModel",
      "state": {
       "_dom_classes": [],
       "_model_module": "@jupyter-widgets/controls",
       "_model_module_version": "2.0.0",
       "_model_name": "HBoxModel",
       "_view_count": null,
       "_view_module": "@jupyter-widgets/controls",
       "_view_module_version": "2.0.0",
       "_view_name": "HBoxView",
       "box_style": "",
       "children": [
        "IPY_MODEL_10a8c6f712a64ebdaad80181e6e50942",
        "IPY_MODEL_64bab0dd995a4e90b1d7e472bbd5e1a8",
        "IPY_MODEL_95e1443eaebd4c589976dd9674307f25"
       ],
       "layout": "IPY_MODEL_ce4bf178893f4152b5d74efd73eeee88",
       "tabbable": null,
       "tooltip": null
      }
     },
     "b3dfc54bcf82424697a7a4619bb7fcad": {
      "model_module": "@jupyter-widgets/controls",
      "model_module_version": "2.0.0",
      "model_name": "HBoxModel",
      "state": {
       "_dom_classes": [],
       "_model_module": "@jupyter-widgets/controls",
       "_model_module_version": "2.0.0",
       "_model_name": "HBoxModel",
       "_view_count": null,
       "_view_module": "@jupyter-widgets/controls",
       "_view_module_version": "2.0.0",
       "_view_name": "HBoxView",
       "box_style": "",
       "children": [
        "IPY_MODEL_f1cc314a9d9a48b3a48c9da72b1d8eef",
        "IPY_MODEL_344dedd0f1614135b6dfdbaf8beb1d14",
        "IPY_MODEL_f493b052378f41839ff265097e911897"
       ],
       "layout": "IPY_MODEL_32049992eb9f4ac79fd587c83f615334",
       "tabbable": null,
       "tooltip": null
      }
     },
     "c669a29e24a24e6d9a7d4a9039288e1b": {
      "model_module": "@jupyter-widgets/base",
      "model_module_version": "2.0.0",
      "model_name": "LayoutModel",
      "state": {
       "_model_module": "@jupyter-widgets/base",
       "_model_module_version": "2.0.0",
       "_model_name": "LayoutModel",
       "_view_count": null,
       "_view_module": "@jupyter-widgets/base",
       "_view_module_version": "2.0.0",
       "_view_name": "LayoutView",
       "align_content": null,
       "align_items": null,
       "align_self": null,
       "border_bottom": null,
       "border_left": null,
       "border_right": null,
       "border_top": null,
       "bottom": null,
       "display": null,
       "flex": null,
       "flex_flow": null,
       "grid_area": null,
       "grid_auto_columns": null,
       "grid_auto_flow": null,
       "grid_auto_rows": null,
       "grid_column": null,
       "grid_gap": null,
       "grid_row": null,
       "grid_template_areas": null,
       "grid_template_columns": null,
       "grid_template_rows": null,
       "height": null,
       "justify_content": null,
       "justify_items": null,
       "left": null,
       "margin": null,
       "max_height": null,
       "max_width": null,
       "min_height": null,
       "min_width": null,
       "object_fit": null,
       "object_position": null,
       "order": null,
       "overflow": null,
       "padding": null,
       "right": null,
       "top": null,
       "visibility": null,
       "width": null
      }
     },
     "c8874da504f04ceb8921496f7c65a926": {
      "model_module": "@jupyter-widgets/controls",
      "model_module_version": "2.0.0",
      "model_name": "HBoxModel",
      "state": {
       "_dom_classes": [],
       "_model_module": "@jupyter-widgets/controls",
       "_model_module_version": "2.0.0",
       "_model_name": "HBoxModel",
       "_view_count": null,
       "_view_module": "@jupyter-widgets/controls",
       "_view_module_version": "2.0.0",
       "_view_name": "HBoxView",
       "box_style": "",
       "children": [
        "IPY_MODEL_fb16db31ba554cb78d18b9d012173e80",
        "IPY_MODEL_48200fad28f247cdbc6b7b421c2b3503",
        "IPY_MODEL_eb068130f89d41edbf77c25302ceda62"
       ],
       "layout": "IPY_MODEL_4d101be73ce744e78069e8d7d6cb552b",
       "tabbable": null,
       "tooltip": null
      }
     },
     "c9aaffbfb4c544458a314761da3fb168": {
      "model_module": "@jupyter-widgets/controls",
      "model_module_version": "2.0.0",
      "model_name": "HTMLStyleModel",
      "state": {
       "_model_module": "@jupyter-widgets/controls",
       "_model_module_version": "2.0.0",
       "_model_name": "HTMLStyleModel",
       "_view_count": null,
       "_view_module": "@jupyter-widgets/base",
       "_view_module_version": "2.0.0",
       "_view_name": "StyleView",
       "background": null,
       "description_width": "",
       "font_size": null,
       "text_color": null
      }
     },
     "cbf44ffab7574ac7a0886e3f8a9dc7c7": {
      "model_module": "@jupyter-widgets/controls",
      "model_module_version": "2.0.0",
      "model_name": "HBoxModel",
      "state": {
       "_dom_classes": [],
       "_model_module": "@jupyter-widgets/controls",
       "_model_module_version": "2.0.0",
       "_model_name": "HBoxModel",
       "_view_count": null,
       "_view_module": "@jupyter-widgets/controls",
       "_view_module_version": "2.0.0",
       "_view_name": "HBoxView",
       "box_style": "",
       "children": [
        "IPY_MODEL_44ff4c1feda14d5a8734226e4d8fe67c",
        "IPY_MODEL_5dbadc633a5b402ea74b52bed13af461",
        "IPY_MODEL_d0130be07e194e3abad94013bee65022"
       ],
       "layout": "IPY_MODEL_934853b2c592427bb9e002a5585436d5",
       "tabbable": null,
       "tooltip": null
      }
     },
     "ce4bf178893f4152b5d74efd73eeee88": {
      "model_module": "@jupyter-widgets/base",
      "model_module_version": "2.0.0",
      "model_name": "LayoutModel",
      "state": {
       "_model_module": "@jupyter-widgets/base",
       "_model_module_version": "2.0.0",
       "_model_name": "LayoutModel",
       "_view_count": null,
       "_view_module": "@jupyter-widgets/base",
       "_view_module_version": "2.0.0",
       "_view_name": "LayoutView",
       "align_content": null,
       "align_items": null,
       "align_self": null,
       "border_bottom": null,
       "border_left": null,
       "border_right": null,
       "border_top": null,
       "bottom": null,
       "display": null,
       "flex": null,
       "flex_flow": null,
       "grid_area": null,
       "grid_auto_columns": null,
       "grid_auto_flow": null,
       "grid_auto_rows": null,
       "grid_column": null,
       "grid_gap": null,
       "grid_row": null,
       "grid_template_areas": null,
       "grid_template_columns": null,
       "grid_template_rows": null,
       "height": null,
       "justify_content": null,
       "justify_items": null,
       "left": null,
       "margin": null,
       "max_height": null,
       "max_width": null,
       "min_height": null,
       "min_width": null,
       "object_fit": null,
       "object_position": null,
       "order": null,
       "overflow": null,
       "padding": null,
       "right": null,
       "top": null,
       "visibility": null,
       "width": null
      }
     },
     "d0130be07e194e3abad94013bee65022": {
      "model_module": "@jupyter-widgets/controls",
      "model_module_version": "2.0.0",
      "model_name": "HTMLModel",
      "state": {
       "_dom_classes": [],
       "_model_module": "@jupyter-widgets/controls",
       "_model_module_version": "2.0.0",
       "_model_name": "HTMLModel",
       "_view_count": null,
       "_view_module": "@jupyter-widgets/controls",
       "_view_module_version": "2.0.0",
       "_view_name": "HTMLView",
       "description": "",
       "description_allow_html": false,
       "layout": "IPY_MODEL_5b233b48f2384effb16e5b4d70fbe774",
       "placeholder": "​",
       "style": "IPY_MODEL_a50af51b0be543639995fbb2ed30779c",
       "tabbable": null,
       "tooltip": null,
       "value": " 466k/466k [00:00&lt;00:00, 5.10MB/s]"
      }
     },
     "d260a444d023477489348d140fef13f5": {
      "model_module": "@jupyter-widgets/base",
      "model_module_version": "2.0.0",
      "model_name": "LayoutModel",
      "state": {
       "_model_module": "@jupyter-widgets/base",
       "_model_module_version": "2.0.0",
       "_model_name": "LayoutModel",
       "_view_count": null,
       "_view_module": "@jupyter-widgets/base",
       "_view_module_version": "2.0.0",
       "_view_name": "LayoutView",
       "align_content": null,
       "align_items": null,
       "align_self": null,
       "border_bottom": null,
       "border_left": null,
       "border_right": null,
       "border_top": null,
       "bottom": null,
       "display": null,
       "flex": null,
       "flex_flow": null,
       "grid_area": null,
       "grid_auto_columns": null,
       "grid_auto_flow": null,
       "grid_auto_rows": null,
       "grid_column": null,
       "grid_gap": null,
       "grid_row": null,
       "grid_template_areas": null,
       "grid_template_columns": null,
       "grid_template_rows": null,
       "height": null,
       "justify_content": null,
       "justify_items": null,
       "left": null,
       "margin": null,
       "max_height": null,
       "max_width": null,
       "min_height": null,
       "min_width": null,
       "object_fit": null,
       "object_position": null,
       "order": null,
       "overflow": null,
       "padding": null,
       "right": null,
       "top": null,
       "visibility": null,
       "width": null
      }
     },
     "d4e412a213a54ce1a492db63d878ed1b": {
      "model_module": "@jupyter-widgets/controls",
      "model_module_version": "2.0.0",
      "model_name": "FloatProgressModel",
      "state": {
       "_dom_classes": [],
       "_model_module": "@jupyter-widgets/controls",
       "_model_module_version": "2.0.0",
       "_model_name": "FloatProgressModel",
       "_view_count": null,
       "_view_module": "@jupyter-widgets/controls",
       "_view_module_version": "2.0.0",
       "_view_name": "ProgressView",
       "bar_style": "success",
       "description": "",
       "description_allow_html": false,
       "layout": "IPY_MODEL_802472e0eee64c9699d3a440924da78d",
       "max": 570,
       "min": 0,
       "orientation": "horizontal",
       "style": "IPY_MODEL_920f4889959d4b6b8834298e5d2b4c70",
       "tabbable": null,
       "tooltip": null,
       "value": 570
      }
     },
     "d9327c64f9764cd68fa6e5219c2cf405": {
      "model_module": "@jupyter-widgets/base",
      "model_module_version": "2.0.0",
      "model_name": "LayoutModel",
      "state": {
       "_model_module": "@jupyter-widgets/base",
       "_model_module_version": "2.0.0",
       "_model_name": "LayoutModel",
       "_view_count": null,
       "_view_module": "@jupyter-widgets/base",
       "_view_module_version": "2.0.0",
       "_view_name": "LayoutView",
       "align_content": null,
       "align_items": null,
       "align_self": null,
       "border_bottom": null,
       "border_left": null,
       "border_right": null,
       "border_top": null,
       "bottom": null,
       "display": null,
       "flex": null,
       "flex_flow": null,
       "grid_area": null,
       "grid_auto_columns": null,
       "grid_auto_flow": null,
       "grid_auto_rows": null,
       "grid_column": null,
       "grid_gap": null,
       "grid_row": null,
       "grid_template_areas": null,
       "grid_template_columns": null,
       "grid_template_rows": null,
       "height": null,
       "justify_content": null,
       "justify_items": null,
       "left": null,
       "margin": null,
       "max_height": null,
       "max_width": null,
       "min_height": null,
       "min_width": null,
       "object_fit": null,
       "object_position": null,
       "order": null,
       "overflow": null,
       "padding": null,
       "right": null,
       "top": null,
       "visibility": null,
       "width": null
      }
     },
     "da60a6685feb49f096086d56987af0b6": {
      "model_module": "@jupyter-widgets/controls",
      "model_module_version": "2.0.0",
      "model_name": "ProgressStyleModel",
      "state": {
       "_model_module": "@jupyter-widgets/controls",
       "_model_module_version": "2.0.0",
       "_model_name": "ProgressStyleModel",
       "_view_count": null,
       "_view_module": "@jupyter-widgets/base",
       "_view_module_version": "2.0.0",
       "_view_name": "StyleView",
       "bar_color": null,
       "description_width": ""
      }
     },
     "dc3008f33c85446381739e1e7a17a6b7": {
      "model_module": "@jupyter-widgets/controls",
      "model_module_version": "2.0.0",
      "model_name": "HTMLStyleModel",
      "state": {
       "_model_module": "@jupyter-widgets/controls",
       "_model_module_version": "2.0.0",
       "_model_name": "HTMLStyleModel",
       "_view_count": null,
       "_view_module": "@jupyter-widgets/base",
       "_view_module_version": "2.0.0",
       "_view_name": "StyleView",
       "background": null,
       "description_width": "",
       "font_size": null,
       "text_color": null
      }
     },
     "e018e7058c16406487a8f16197c45842": {
      "model_module": "@jupyter-widgets/base",
      "model_module_version": "2.0.0",
      "model_name": "LayoutModel",
      "state": {
       "_model_module": "@jupyter-widgets/base",
       "_model_module_version": "2.0.0",
       "_model_name": "LayoutModel",
       "_view_count": null,
       "_view_module": "@jupyter-widgets/base",
       "_view_module_version": "2.0.0",
       "_view_name": "LayoutView",
       "align_content": null,
       "align_items": null,
       "align_self": null,
       "border_bottom": null,
       "border_left": null,
       "border_right": null,
       "border_top": null,
       "bottom": null,
       "display": null,
       "flex": null,
       "flex_flow": null,
       "grid_area": null,
       "grid_auto_columns": null,
       "grid_auto_flow": null,
       "grid_auto_rows": null,
       "grid_column": null,
       "grid_gap": null,
       "grid_row": null,
       "grid_template_areas": null,
       "grid_template_columns": null,
       "grid_template_rows": null,
       "height": null,
       "justify_content": null,
       "justify_items": null,
       "left": null,
       "margin": null,
       "max_height": null,
       "max_width": null,
       "min_height": null,
       "min_width": null,
       "object_fit": null,
       "object_position": null,
       "order": null,
       "overflow": null,
       "padding": null,
       "right": null,
       "top": null,
       "visibility": null,
       "width": null
      }
     },
     "e5d35b172e654d1c96094d81dc6bb728": {
      "model_module": "@jupyter-widgets/controls",
      "model_module_version": "2.0.0",
      "model_name": "HTMLStyleModel",
      "state": {
       "_model_module": "@jupyter-widgets/controls",
       "_model_module_version": "2.0.0",
       "_model_name": "HTMLStyleModel",
       "_view_count": null,
       "_view_module": "@jupyter-widgets/base",
       "_view_module_version": "2.0.0",
       "_view_name": "StyleView",
       "background": null,
       "description_width": "",
       "font_size": null,
       "text_color": null
      }
     },
     "eb068130f89d41edbf77c25302ceda62": {
      "model_module": "@jupyter-widgets/controls",
      "model_module_version": "2.0.0",
      "model_name": "HTMLModel",
      "state": {
       "_dom_classes": [],
       "_model_module": "@jupyter-widgets/controls",
       "_model_module_version": "2.0.0",
       "_model_name": "HTMLModel",
       "_view_count": null,
       "_view_module": "@jupyter-widgets/controls",
       "_view_module_version": "2.0.0",
       "_view_name": "HTMLView",
       "description": "",
       "description_allow_html": false,
       "layout": "IPY_MODEL_c669a29e24a24e6d9a7d4a9039288e1b",
       "placeholder": "​",
       "style": "IPY_MODEL_5c36498729ee4be2904b7020d2fca416",
       "tabbable": null,
       "tooltip": null,
       "value": " 48.0/48.0 [00:00&lt;00:00, 4.60kB/s]"
      }
     },
     "efcdfab576f64ef1ba8fce82c26f274e": {
      "model_module": "@jupyter-widgets/base",
      "model_module_version": "2.0.0",
      "model_name": "LayoutModel",
      "state": {
       "_model_module": "@jupyter-widgets/base",
       "_model_module_version": "2.0.0",
       "_model_name": "LayoutModel",
       "_view_count": null,
       "_view_module": "@jupyter-widgets/base",
       "_view_module_version": "2.0.0",
       "_view_name": "LayoutView",
       "align_content": null,
       "align_items": null,
       "align_self": null,
       "border_bottom": null,
       "border_left": null,
       "border_right": null,
       "border_top": null,
       "bottom": null,
       "display": null,
       "flex": null,
       "flex_flow": null,
       "grid_area": null,
       "grid_auto_columns": null,
       "grid_auto_flow": null,
       "grid_auto_rows": null,
       "grid_column": null,
       "grid_gap": null,
       "grid_row": null,
       "grid_template_areas": null,
       "grid_template_columns": null,
       "grid_template_rows": null,
       "height": null,
       "justify_content": null,
       "justify_items": null,
       "left": null,
       "margin": null,
       "max_height": null,
       "max_width": null,
       "min_height": null,
       "min_width": null,
       "object_fit": null,
       "object_position": null,
       "order": null,
       "overflow": null,
       "padding": null,
       "right": null,
       "top": null,
       "visibility": null,
       "width": null
      }
     },
     "f1cc314a9d9a48b3a48c9da72b1d8eef": {
      "model_module": "@jupyter-widgets/controls",
      "model_module_version": "2.0.0",
      "model_name": "HTMLModel",
      "state": {
       "_dom_classes": [],
       "_model_module": "@jupyter-widgets/controls",
       "_model_module_version": "2.0.0",
       "_model_name": "HTMLModel",
       "_view_count": null,
       "_view_module": "@jupyter-widgets/controls",
       "_view_module_version": "2.0.0",
       "_view_name": "HTMLView",
       "description": "",
       "description_allow_html": false,
       "layout": "IPY_MODEL_d260a444d023477489348d140fef13f5",
       "placeholder": "​",
       "style": "IPY_MODEL_84a6e3d6c1b24b1e84686174eda49bd9",
       "tabbable": null,
       "tooltip": null,
       "value": "vocab.txt: 100%"
      }
     },
     "f39ed6121f5d44c78bdb0db8ad90aa53": {
      "model_module": "@jupyter-widgets/controls",
      "model_module_version": "2.0.0",
      "model_name": "HTMLStyleModel",
      "state": {
       "_model_module": "@jupyter-widgets/controls",
       "_model_module_version": "2.0.0",
       "_model_name": "HTMLStyleModel",
       "_view_count": null,
       "_view_module": "@jupyter-widgets/base",
       "_view_module_version": "2.0.0",
       "_view_name": "StyleView",
       "background": null,
       "description_width": "",
       "font_size": null,
       "text_color": null
      }
     },
     "f493b052378f41839ff265097e911897": {
      "model_module": "@jupyter-widgets/controls",
      "model_module_version": "2.0.0",
      "model_name": "HTMLModel",
      "state": {
       "_dom_classes": [],
       "_model_module": "@jupyter-widgets/controls",
       "_model_module_version": "2.0.0",
       "_model_name": "HTMLModel",
       "_view_count": null,
       "_view_module": "@jupyter-widgets/controls",
       "_view_module_version": "2.0.0",
       "_view_name": "HTMLView",
       "description": "",
       "description_allow_html": false,
       "layout": "IPY_MODEL_957bf63d43534810bda24f4169372052",
       "placeholder": "​",
       "style": "IPY_MODEL_c9aaffbfb4c544458a314761da3fb168",
       "tabbable": null,
       "tooltip": null,
       "value": " 232k/232k [00:00&lt;00:00, 7.03MB/s]"
      }
     },
     "f8cbe002c4dc42e8802ade821fa99029": {
      "model_module": "@jupyter-widgets/controls",
      "model_module_version": "2.0.0",
      "model_name": "HBoxModel",
      "state": {
       "_dom_classes": [],
       "_model_module": "@jupyter-widgets/controls",
       "_model_module_version": "2.0.0",
       "_model_name": "HBoxModel",
       "_view_count": null,
       "_view_module": "@jupyter-widgets/controls",
       "_view_module_version": "2.0.0",
       "_view_name": "HBoxView",
       "box_style": "",
       "children": [
        "IPY_MODEL_a5bdf68989644c5fae42f37f26430d50",
        "IPY_MODEL_d4e412a213a54ce1a492db63d878ed1b",
        "IPY_MODEL_45ae321b9209404fb652910fe8377f60"
       ],
       "layout": "IPY_MODEL_8f2a440b5cfe41d7b1ff55e983962284",
       "tabbable": null,
       "tooltip": null
      }
     },
     "fb16db31ba554cb78d18b9d012173e80": {
      "model_module": "@jupyter-widgets/controls",
      "model_module_version": "2.0.0",
      "model_name": "HTMLModel",
      "state": {
       "_dom_classes": [],
       "_model_module": "@jupyter-widgets/controls",
       "_model_module_version": "2.0.0",
       "_model_name": "HTMLModel",
       "_view_count": null,
       "_view_module": "@jupyter-widgets/controls",
       "_view_module_version": "2.0.0",
       "_view_name": "HTMLView",
       "description": "",
       "description_allow_html": false,
       "layout": "IPY_MODEL_7281c863d60e4f53b8f07b6613e36e5f",
       "placeholder": "​",
       "style": "IPY_MODEL_f39ed6121f5d44c78bdb0db8ad90aa53",
       "tabbable": null,
       "tooltip": null,
       "value": "tokenizer_config.json: 100%"
      }
     }
    },
    "version_major": 2,
    "version_minor": 0
   }
  }
 },
 "nbformat": 4,
 "nbformat_minor": 5
}
